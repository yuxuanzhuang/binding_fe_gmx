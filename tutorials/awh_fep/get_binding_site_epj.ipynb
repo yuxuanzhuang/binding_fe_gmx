{
 "cells": [
  {
   "cell_type": "code",
   "execution_count": 9,
   "id": "397acb91",
   "metadata": {
    "tags": []
   },
   "outputs": [],
   "source": [
    "import logging\n",
    "logging.basicConfig(filename=\"logs.log\", level=logging.INFO)\n",
    "import os.path\n",
    "import os\n",
    "import MDAnalysis as mda\n",
    "from MDAnalysis.analysis import align, pca, rms\n",
    "\n",
    "import numpy as np\n",
    "\n",
    "%matplotlib inline\n",
    "import matplotlib.pyplot as plt"
   ]
  },
  {
   "cell_type": "code",
   "execution_count": 2,
   "id": "5783c647-d74d-4adf-8736-3ce0b21cecac",
   "metadata": {},
   "outputs": [],
   "source": [
    "u = mda.Universe('neut.tpr', 'neut.pdb')"
   ]
  },
  {
   "cell_type": "code",
   "execution_count": 3,
   "metadata": {},
   "outputs": [],
   "source": [
    "epj_mol = mda.Universe('epj.pdb')"
   ]
  },
  {
   "cell_type": "code",
   "execution_count": 15,
   "metadata": {},
   "outputs": [],
   "source": [
    "epj_mol_resid = epj_mol.select_atoms('resname EPJ').resids[0]"
   ]
  },
  {
   "cell_type": "code",
   "execution_count": 12,
   "metadata": {},
   "outputs": [],
   "source": [
    "epj_resids = np.unique(u.select_atoms('resname EPJ').resids)"
   ]
  },
  {
   "cell_type": "code",
   "execution_count": 36,
   "metadata": {},
   "outputs": [
    {
     "data": {
      "text/plain": [
       "array(['C1', 'C2', 'C3', 'C4', 'C5', 'C6', 'N1', 'C7', 'C8', 'C9', 'C10',\n",
       "       'CL', 'N2', 'C11', 'LP1'], dtype=object)"
      ]
     },
     "execution_count": 36,
     "metadata": {},
     "output_type": "execute_result"
    }
   ],
   "source": [
    "epj_mol.select_atoms('resname EPJ and not name H*').names"
   ]
  },
  {
   "cell_type": "code",
   "execution_count": null,
   "metadata": {},
   "outputs": [],
   "source": []
  },
  {
   "cell_type": "code",
   "execution_count": 29,
   "metadata": {},
   "outputs": [
    {
     "data": {
      "text/plain": [
       "array(['C1', 'C2', 'C3', 'C4', 'C5', 'C6', 'N1', 'C7', 'C8', 'C9', 'C10',\n",
       "       'CL', 'N2', 'C11'], dtype=object)"
      ]
     },
     "execution_count": 29,
     "metadata": {},
     "output_type": "execute_result"
    }
   ],
   "source": [
    "epj_mol.select_atoms('not element H and resname EPJ and (resid 1011 or resid 402)').names"
   ]
  },
  {
   "cell_type": "code",
   "execution_count": 28,
   "metadata": {},
   "outputs": [
    {
     "data": {
      "text/plain": [
       "array(['C1', 'C2', 'C3', 'C4', 'C5', 'C6', 'N1', 'C7', 'C8', 'C9', 'C10',\n",
       "       'CL', 'N2', 'C11', 'LP1'], dtype=object)"
      ]
     },
     "execution_count": 28,
     "metadata": {},
     "output_type": "execute_result"
    }
   ],
   "source": [
    "u.select_atoms('not element H and resname EPJ and (resid 1011 or resid 402)').names"
   ]
  },
  {
   "cell_type": "code",
   "execution_count": 43,
   "metadata": {},
   "outputs": [
    {
     "name": "stdout",
     "output_type": "stream",
     "text": [
      "not name H* and resname EPJ and (resid 1011 or resid 402)\n",
      "['C1' 'C2' 'C3' 'C4' 'C5' 'C6' 'N1' 'C7' 'C8' 'C9' 'C10' 'CL' 'N2' 'C11'\n",
      " 'LP1']\n",
      "['C1' 'C2' 'C3' 'C4' 'C5' 'C6' 'N1' 'C7' 'C8' 'C9' 'C10' 'CL' 'N2' 'C11'\n",
      " 'LP1']\n",
      "not name H* and resname EPJ and (resid 1012 or resid 402)\n",
      "['C1' 'C2' 'C3' 'C4' 'C5' 'C6' 'N1' 'C7' 'C8' 'C9' 'C10' 'CL' 'N2' 'C11'\n",
      " 'LP1']\n",
      "['C1' 'C2' 'C3' 'C4' 'C5' 'C6' 'N1' 'C7' 'C8' 'C9' 'C10' 'CL' 'N2' 'C11'\n",
      " 'LP1']\n",
      "not name H* and resname EPJ and (resid 1013 or resid 402)\n",
      "['C1' 'C2' 'C3' 'C4' 'C5' 'C6' 'N1' 'C7' 'C8' 'C9' 'C10' 'CL' 'N2' 'C11'\n",
      " 'LP1']\n",
      "['C1' 'C2' 'C3' 'C4' 'C5' 'C6' 'N1' 'C7' 'C8' 'C9' 'C10' 'CL' 'N2' 'C11'\n",
      " 'LP1']\n",
      "not name H* and resname EPJ and (resid 1014 or resid 402)\n",
      "['C1' 'C2' 'C3' 'C4' 'C5' 'C6' 'N1' 'C7' 'C8' 'C9' 'C10' 'CL' 'N2' 'C11'\n",
      " 'LP1']\n",
      "['C1' 'C2' 'C3' 'C4' 'C5' 'C6' 'N1' 'C7' 'C8' 'C9' 'C10' 'CL' 'N2' 'C11'\n",
      " 'LP1']\n",
      "not name H* and resname EPJ and (resid 1015 or resid 402)\n",
      "['C1' 'C2' 'C3' 'C4' 'C5' 'C6' 'N1' 'C7' 'C8' 'C9' 'C10' 'CL' 'N2' 'C11'\n",
      " 'LP1']\n",
      "['C1' 'C2' 'C3' 'C4' 'C5' 'C6' 'N1' 'C7' 'C8' 'C9' 'C10' 'CL' 'N2' 'C11'\n",
      " 'LP1']\n"
     ]
    }
   ],
   "source": [
    "u_merge_ag = u.select_atoms('not resname EPJ')\n",
    "u_merge = mda.Merge(u_merge_ag)\n",
    "for epj_resid in epj_resids:\n",
    "    selection = f'not name H* and resname EPJ and (resid {epj_resid} or resid {epj_mol_resid})'\n",
    "    print(selection)\n",
    "    print(epj_mol.select_atoms(selection).names)\n",
    "    print(u.select_atoms(selection).names)\n",
    "    aligner_ref = align.AlignTraj(\n",
    "        epj_mol, u,\n",
    "        select=selection,\n",
    "        in_memory=True,\n",
    "        match_atoms=False\n",
    "    ).run()\n",
    "    u_merge = mda.Merge(u_merge.atoms, epj_mol.atoms)"
   ]
  },
  {
   "cell_type": "code",
   "execution_count": 48,
   "metadata": {},
   "outputs": [],
   "source": [
    "u_merge.dimensions = u.dimensions"
   ]
  },
  {
   "cell_type": "code",
   "execution_count": 49,
   "metadata": {},
   "outputs": [
    {
     "name": "stderr",
     "output_type": "stream",
     "text": [
      "/nethome/yzhuang/mdanalysis/package/MDAnalysis/coordinates/PDB.py:1129: UserWarning: Found no information for attr: 'altLocs' Using default value of ' '\n",
      "  warnings.warn(\"Found no information for attr: '{}'\"\n",
      "/nethome/yzhuang/mdanalysis/package/MDAnalysis/coordinates/PDB.py:1129: UserWarning: Found no information for attr: 'icodes' Using default value of ' '\n",
      "  warnings.warn(\"Found no information for attr: '{}'\"\n",
      "/nethome/yzhuang/mdanalysis/package/MDAnalysis/coordinates/PDB.py:1129: UserWarning: Found no information for attr: 'chainIDs' Using default value of ''\n",
      "  warnings.warn(\"Found no information for attr: '{}'\"\n",
      "/nethome/yzhuang/mdanalysis/package/MDAnalysis/coordinates/PDB.py:1129: UserWarning: Found no information for attr: 'occupancies' Using default value of '1.0'\n",
      "  warnings.warn(\"Found no information for attr: '{}'\"\n",
      "/nethome/yzhuang/mdanalysis/package/MDAnalysis/coordinates/PDB.py:1129: UserWarning: Found no information for attr: 'tempfactors' Using default value of '0.0'\n",
      "  warnings.warn(\"Found no information for attr: '{}'\"\n",
      "/nethome/yzhuang/mdanalysis/package/MDAnalysis/coordinates/PDB.py:1129: UserWarning: Found no information for attr: 'record_types' Using default value of 'ATOM'\n",
      "  warnings.warn(\"Found no information for attr: '{}'\"\n",
      "/nethome/yzhuang/mdanalysis/package/MDAnalysis/coordinates/PDB.py:1129: UserWarning: Found no information for attr: 'formalcharges' Using default value of '0'\n",
      "  warnings.warn(\"Found no information for attr: '{}'\"\n",
      "/nethome/yzhuang/mdanalysis/package/MDAnalysis/coordinates/PDB.py:1176: UserWarning: Found missing chainIDs. Corresponding atoms will use value of 'X'\n",
      "  warnings.warn(\"Found missing chainIDs.\"\n"
     ]
    }
   ],
   "source": [
    "u_merge.atoms.write('new.pdb')"
   ]
  },
  {
   "cell_type": "code",
   "execution_count": null,
   "metadata": {},
   "outputs": [],
   "source": [
    "# And remove five Na+ from the system to keep it neutral."
   ]
  },
  {
   "attachments": {},
   "cell_type": "markdown",
   "metadata": {},
   "source": [
    "# Binding site restraints"
   ]
  },
  {
   "cell_type": "code",
   "execution_count": null,
   "metadata": {},
   "outputs": [],
   "source": [
    "binding_site_1 = u.select_atoms('name CA and byres (protein and around 3 segid seg_10_EPJ1)')\n",
    "binding_site_2 = u.select_atoms('name CA and byres (protein and around 3 segid seg_11_EPJ2)')\n",
    "with mda.selections.gromacs.SelectionWriter('index_fep.ndx', mode='w') as ndx:\n",
    "    ndx.write(u.atoms, name='SYSTEM')\n",
    "    ndx.write(u.select_atoms('protein or resname EPJ'), name='PROT')\n",
    "    ndx.write(u.select_atoms('resname POPC CHL1'), name='MEMB')\n",
    "    ndx.write(u.select_atoms('resname TIP3 SOD CLA'), name='SOL_ION')\n",
    "    ndx.write(u.select_atoms('resname EPJ'), name='EPJ')\n",
    "    ndx.write(u.select_atoms('segid seg_10_EPJ1'), name='EPJ1')\n",
    "    ndx.write(u.select_atoms('segid seg_11_EPJ2'), name='EPJ2')\n",
    "    ndx.write(binding_site_1, name='EPJ1_BS')\n",
    "    ndx.write(binding_site_2, name='EPJ2_BS')"
   ]
  },
  {
   "cell_type": "code",
   "execution_count": 22,
   "metadata": {},
   "outputs": [
    {
     "data": {
      "text/plain": [
       "array([1594, 2441, 2452, 2476, 3123, 3159, 3169, 3223, 7034, 7465, 7921,\n",
       "       7935, 7945, 8058, 8078, 8102])"
      ]
     },
     "execution_count": 22,
     "metadata": {},
     "output_type": "execute_result"
    },
    {
     "ename": "",
     "evalue": "",
     "output_type": "error",
     "traceback": [
      "\u001b[1;31mThe Kernel crashed while executing code in the the current cell or a previous cell. Please review the code in the cell(s) to identify a possible cause of the failure. Click <a href='https://aka.ms/vscodeJupyterKernelCrash'>here</a> for more info. View Jupyter <a href='command:jupyter.viewOutput'>log</a> for further details."
     ]
    }
   ],
   "source": [
    "binding_site_1.ix"
   ]
  },
  {
   "cell_type": "markdown",
   "metadata": {},
   "source": [
    "# Pore restraints"
   ]
  },
  {
   "cell_type": "code",
   "execution_count": null,
   "metadata": {},
   "outputs": [],
   "source": [
    "#Pore resids: chain A G and resid 247 250 254 257 261 264 268\n",
    "#Pore resids: chain C E I and resid 239 242 246 249 253 256 260"
   ]
  },
  {
   "cell_type": "code",
   "execution_count": 4,
   "metadata": {},
   "outputs": [],
   "source": [
    "u = mda.Universe('em.pdb')"
   ]
  },
  {
   "cell_type": "code",
   "execution_count": 19,
   "metadata": {},
   "outputs": [],
   "source": [
    "ch_1_pore = u.select_atoms('segid A and resid 247 250 254 257 261 264 268 and name CA')\n",
    "ch_2_pore = u.select_atoms('segid C and resid 239 242 246 249 253 256 260 and name CA')\n",
    "ch_3_pore = u.select_atoms('segid E and resid 239 242 246 249 253 256 260 and name CA')\n",
    "ch_4_pore = u.select_atoms('segid G and resid 247 250 254 257 261 264 268 and name CA')\n",
    "ch_5_pore = u.select_atoms('segid I and resid 239 242 246 249 253 256 260 and name CA')"
   ]
  },
  {
   "cell_type": "code",
   "execution_count": 27,
   "metadata": {},
   "outputs": [
    {
     "name": "stdout",
     "output_type": "stream",
     "text": [
      "Pore resids: prime -1, resname GLU GLU and resid 247 239 239 247 239\n",
      "Pore resids: prime 2, resname THR THR and resid 250 242 242 250 242\n",
      "Pore resids: prime 6, resname SER SER and resid 254 246 246 254 246\n",
      "Pore resids: prime 9, resname LEU LEU and resid 257 249 249 257 249\n",
      "Pore resids: prime 13, resname VAL VAL and resid 261 253 253 261 253\n",
      "Pore resids: prime 16, resname LEU LEU and resid 264 256 256 264 256\n",
      "Pore resids: prime 20, resname GLU LYS and resid 268 260 260 268 260\n"
     ]
    }
   ],
   "source": [
    "from MDAnalysis.core import AtomGroup\n",
    "from MDAnalysis.analysis.distances import distance_array\n",
    "prime_notations = ['-1', '2', '6', '9', '13', '16', '20']\n",
    "distance_arrays = {}\n",
    "ag_arrays = {}\n",
    "for prime_res, at1, at2, at3, at4, at5 in zip(\n",
    "    prime_notations, ch_1_pore, ch_2_pore, ch_3_pore, ch_4_pore, ch_5_pore):\n",
    "    print(f'Pore resids: prime {prime_res}, resname {at1.resname} {at2.resname} and resid {at1.resid} {at2.resid} {at3.resid} {at4.resid} {at5.resid}')\n",
    "    ag_prime = AtomGroup([at1, at2, at3, at4, at5])\n",
    "    ag_arrays[prime_res] = ag_prime\n",
    "    distance_arrays[prime_res] = distance_array(ag_prime.positions, ag_prime.positions, box=u.dimensions)"
   ]
  },
  {
   "cell_type": "code",
   "execution_count": 49,
   "metadata": {},
   "outputs": [
    {
     "name": "stdout",
     "output_type": "stream",
     "text": [
      "[3941, 15877] 13.356501769270437\n",
      "[10012, 21814] 13.54450411681784\n",
      "[15877, 27885] 13.738369917122442\n",
      "[21814, 3941] 13.299814231852686\n",
      "[27885, 10012] 13.749588110084607\n",
      "[3997, 15931] 12.12820429850772\n",
      "[10066, 21870] 12.347345409520399\n",
      "[15931, 27939] 12.147663823714312\n",
      "[21870, 3997] 12.376018807897989\n",
      "[27939, 10066] 12.095757236668303\n",
      "[4060, 15994] 14.499436495728057\n",
      "[10129, 21933] 14.611938592832983\n",
      "[15994, 28002] 14.441751658398056\n",
      "[21933, 4060] 14.566677974486486\n",
      "[28002, 10129] 14.43800919417531\n",
      "[4106, 16040] 16.66162248728235\n",
      "[10175, 21979] 16.62185413451094\n",
      "[16040, 28048] 16.449311223760777\n",
      "[21979, 4106] 17.004811817921492\n",
      "[28048, 10175] 16.48996393577215\n",
      "[4169, 16102] 16.652202181387143\n",
      "[10237, 22042] 17.030669271954533\n",
      "[16102, 28110] 16.48872477844872\n",
      "[22042, 4169] 17.111670036787196\n",
      "[28110, 10237] 16.886293487361094\n",
      "[4224, 16157] 21.157485412673392\n",
      "[10292, 22097] 21.456670574635826\n",
      "[16157, 28165] 20.95151612354666\n",
      "[22097, 4224] 21.29135917309957\n",
      "[28165, 10292] 21.24265881920523\n",
      "[4295, 16225] 21.387684054937065\n",
      "[10360, 22168] 21.373649318292074\n",
      "[16225, 28233] 21.23795073456205\n",
      "[22168, 4295] 20.965421768090255\n",
      "[28233, 10360] 21.05246037974901\n"
     ]
    }
   ],
   "source": [
    "def write_pore_restraints_file(fname, prime_res, dist_mat, ag_arr):\n",
    "    ag_arr_shift = np.roll(ag_arr, -2, axis=0)\n",
    "    res_groups = [[at1.index+1, at2.index+1] for at1, at2 in zip(ag_arr, ag_arr_shift)]\n",
    "    dist_groups = [dist_mat[i, j] for i,j in zip([0,1,2,3,4], [2,3,4,0,1])]\n",
    "    with open(fname, 'w') as f:\n",
    "        f.write(f'; Pore restraints for prime {prime_res}\\n')\n",
    "        f.write('[ bonds ]\\n')\n",
    "        f.write(';   i     j funct         lo        up1        up2    kdr\\n')\n",
    "        for res_group, dist in zip(res_groups, dist_groups):\n",
    "            print(res_group, dist)\n",
    "            f.write(f'{res_group[0]} {res_group[1]} 10 {(dist / 10):6f} {(dist / 10 +0.2):6f} {(dist / 10 +1.2):6f} 5000\\n')\n",
    "\n",
    "\n",
    "for prime_res in prime_notations:\n",
    "    write_pore_restraints_file(f'toppar/pore_res_{prime_res}.itp', prime_res, distance_arrays[prime_res], ag_arrays[prime_res])"
   ]
  },
  {
   "cell_type": "code",
   "execution_count": 47,
   "metadata": {},
   "outputs": [],
   "source": [
    "with open('topol.top', '+a') as f:\n",
    "    f.write('\\n')\n",
    "    f.write('#ifdef REST_PORE_ON\\n')\n",
    "    f.write('[ intermolecular_interactions]\\n')\n",
    "    for prime_res in prime_notations:\n",
    "        f.write(f'#include \"toppar/pore_res_{prime_res}.itp\"\\n')\n",
    "    f.write('#endif\\n')"
   ]
  },
  {
   "attachments": {},
   "cell_type": "markdown",
   "metadata": {},
   "source": [
    "# Binding site contact restraints"
   ]
  },
  {
   "cell_type": "code",
   "execution_count": 10,
   "metadata": {},
   "outputs": [],
   "source": [
    "binding_site_1_n_side = u.select_atoms('protein and byres (protein and around 3 (segid seg_10_EPJ1 and name N1))')\n",
    "binding_site_1_cl_side = u.select_atoms('protein and byres (protein and around 3 (segid seg_10_EPJ1 and name CL))')\n",
    "\n",
    "binding_site_2_n_side = u.select_atoms('protein and byres (protein and around 3 (segid seg_11_EPJ2 and name N1))')\n",
    "binding_site_2_cl_side = u.select_atoms('protein and byres (protein and around 3 (segid seg_11_EPJ2 and name CL))')\n",
    "\n",
    "with mda.selections.gromacs.SelectionWriter('index_contact.ndx', mode='w') as ndx:\n",
    "    ndx.write(u.atoms, name='SYSTEM')\n",
    "    ndx.write(u.select_atoms('protein or resname EPJ'), name='PROT')\n",
    "    ndx.write(u.select_atoms('resname POPC CHL1'), name='MEMB')\n",
    "    ndx.write(u.select_atoms('resname TIP3 SOD CLA'), name='SOL_ION')\n",
    "    ndx.write(u.select_atoms('resname EPJ'), name='EPJ')\n",
    "    ndx.write(u.select_atoms('segid seg_10_EPJ1'), name='EPJ1')\n",
    "    ndx.write(u.select_atoms('segid seg_11_EPJ2'), name='EPJ2')\n",
    "    ndx.write(u.select_atoms('segid seg_10_EPJ1 and name N1'), name='EPJ1_N1')\n",
    "    ndx.write(u.select_atoms('segid seg_10_EPJ1 and name CL'), name='EPJ1_CL')\n",
    "    ndx.write(u.select_atoms('segid seg_11_EPJ2 and name N1'), name='EPJ2_N1')\n",
    "    ndx.write(u.select_atoms('segid seg_11_EPJ2 and name CL'), name='EPJ2_CL')\n",
    "    ndx.write(binding_site_1_n_side, name='EPJ1_BS_n_side')\n",
    "    ndx.write(binding_site_1_cl_side, name='EPJ1_BS_cl_side')\n",
    "    ndx.write(binding_site_2_n_side, name='EPJ2_BS_n_side')\n",
    "    ndx.write(binding_site_2_cl_side, name='EPJ2_BS_cl_side')    "
   ]
  },
  {
   "cell_type": "code",
   "execution_count": null,
   "metadata": {},
   "outputs": [],
   "source": []
  }
 ],
 "metadata": {
  "kernelspec": {
   "display_name": "msm",
   "language": "python",
   "name": "msm"
  },
  "language_info": {
   "codemirror_mode": {
    "name": "ipython",
    "version": 3
   },
   "file_extension": ".py",
   "mimetype": "text/x-python",
   "name": "python",
   "nbconvert_exporter": "python",
   "pygments_lexer": "ipython3",
   "version": "3.10.0"
  },
  "orig_nbformat": 4
 },
 "nbformat": 4,
 "nbformat_minor": 2
}
