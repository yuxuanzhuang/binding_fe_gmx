{
 "cells": [
  {
   "cell_type": "code",
   "execution_count": 1,
   "id": "397acb91",
   "metadata": {
    "tags": []
   },
   "outputs": [],
   "source": [
    "import os\n",
    "import MDAnalysis as mda\n",
    "import numpy as np\n",
    "\n",
    "%matplotlib inline\n",
    "import matplotlib.pyplot as plt"
   ]
  },
  {
   "cell_type": "code",
   "execution_count": 2,
   "metadata": {},
   "outputs": [
    {
     "name": "stdout",
     "output_type": "stream",
     "text": [
      "[100 155 156 157 197 199 200 204  57  81 109 110 111 119 121]\n",
      "['A' 'A' 'A' 'A' 'A' 'A' 'A' 'A' 'C' 'C' 'C' 'C' 'C' 'C' 'C']\n",
      "protein and ((resid 100 and segid A) or (resid 155 and segid A) or (resid 156 and segid A) or (resid 157 and segid A) or (resid 197 and segid A) or (resid 199 and segid A) or (resid 200 and segid A) or (resid 204 and segid A) or (resid 57 and segid C) or (resid 81 and segid C) or (resid 109 and segid C) or (resid 110 and segid C) or (resid 111 and segid C) or (resid 119 and segid C) or (resid 121 and segid C))\n",
      "protein and ((resid 100 and segid C) or (resid 155 and segid C) or (resid 156 and segid C) or (resid 157 and segid C) or (resid 197 and segid C) or (resid 199 and segid C) or (resid 200 and segid C) or (resid 204 and segid C) or (resid 57 and segid E) or (resid 81 and segid E) or (resid 109 and segid E) or (resid 110 and segid E) or (resid 111 and segid E) or (resid 119 and segid E) or (resid 121 and segid E))\n",
      "protein and ((resid 100 and segid E) or (resid 155 and segid E) or (resid 156 and segid E) or (resid 157 and segid E) or (resid 197 and segid E) or (resid 199 and segid E) or (resid 200 and segid E) or (resid 204 and segid E) or (resid 57 and segid G) or (resid 81 and segid G) or (resid 109 and segid G) or (resid 110 and segid G) or (resid 111 and segid G) or (resid 119 and segid G) or (resid 121 and segid G))\n",
      "protein and ((resid 100 and segid G) or (resid 155 and segid G) or (resid 156 and segid G) or (resid 157 and segid G) or (resid 197 and segid G) or (resid 199 and segid G) or (resid 200 and segid G) or (resid 204 and segid G) or (resid 57 and segid I) or (resid 81 and segid I) or (resid 109 and segid I) or (resid 110 and segid I) or (resid 111 and segid I) or (resid 119 and segid I) or (resid 121 and segid I))\n",
      "protein and ((resid 100 and segid I) or (resid 155 and segid I) or (resid 156 and segid I) or (resid 157 and segid I) or (resid 197 and segid I) or (resid 199 and segid I) or (resid 200 and segid I) or (resid 204 and segid I) or (resid 57 and segid A) or (resid 81 and segid A) or (resid 109 and segid A) or (resid 110 and segid A) or (resid 111 and segid A) or (resid 119 and segid A) or (resid 121 and segid A))\n"
     ]
    }
   ],
   "source": [
    "u = mda.Universe('../start_fep.pdb')\n",
    "\n",
    "ag_lig_1 = u.select_atoms('resname EPJ').split('residue')[0]\n",
    "\n",
    "prot_binding_site = u.select_atoms('name CA and byres (protein and around 4 group ag_lig_1)', ag_lig_1=ag_lig_1)\n",
    "\n",
    "#sort prot_resids\n",
    "chain_resids = prot_binding_site.segids[np.argsort(prot_binding_site.resids)]\n",
    "prot_resids = np.sort(prot_binding_site.resids)\n",
    "\n",
    "prot_resids = prot_resids[np.argsort(chain_resids)]\n",
    "chain_resids = np.sort(chain_resids)\n",
    "\n",
    "print(prot_resids)\n",
    "print(chain_resids)\n",
    "\n",
    "next_subunit_dict = {'A': 'C',\n",
    "                     'B': 'D',\n",
    "                     'C': 'E',\n",
    "                     'D': 'F',\n",
    "                     'E': 'G',\n",
    "                     'F': 'H',\n",
    "                     'G': 'I',\n",
    "                     'H': 'J',\n",
    "                     'I': 'A',\n",
    "                     'J': 'B'}\n",
    "\n",
    "prot_selections = []\n",
    "\n",
    "for i in range(5):\n",
    "    # only makes senses for homomers\n",
    "    selection = 'protein and ('\n",
    "    for j in range(prot_resids.shape[0]):\n",
    "        # iterate subunit\n",
    "        selection += f'(resid {prot_resids[j]} and segid {chain_resids[j]}) or '\n",
    "        chain_resids[j] = next_subunit_dict[chain_resids[j]]\n",
    "    selection = selection[:-4] + ')'\n",
    "    prot_selections.append(selection)\n",
    "\n",
    "for i, selection in enumerate(prot_selections):\n",
    "    print(selection)\n",
    "    ag = u.select_atoms(selection)\n",
    "    ag.write(f'bining_sites.vmd', mode='a',name='mda_' + str(i))\n",
    "\n",
    "# see: https://docs.mdanalysis.org/stable/documentation_pages/selections/vmd.html#MDAnalysis.selections.vmd.SelectionWriter"
   ]
  },
  {
   "attachments": {},
   "cell_type": "markdown",
   "metadata": {},
   "source": [
    "# Binding site restraints"
   ]
  },
  {
   "cell_type": "code",
   "execution_count": 4,
   "metadata": {},
   "outputs": [],
   "source": [
    "binding_sites = []\n",
    "\n",
    "# only two binding sites\n",
    "for selection in np.asarray(prot_selections)[[0,3]]:\n",
    "    binding_sites.append(u.select_atoms(selection))\n",
    "\n",
    "with mda.selections.gromacs.SelectionWriter('../index_fep.ndx', mode='w') as ndx:\n",
    "    ndx.write(u.atoms, name='SYSTEM')\n",
    "    ndx.write(u.select_atoms('protein'), name='PROT')\n",
    "    ndx.write(u.select_atoms('resname POPC'), name='MEMB')\n",
    "    ndx.write(u.select_atoms('resname TIP3 SOD CLA EPJ'), name='SOL_ION')\n",
    "    ndx.write(u.select_atoms('resname EPJ'), name='EPJ')\n",
    "    for i, epj_agg in enumerate(u.select_atoms('resname EPJ').split('residue')):\n",
    "        ndx.write(epj_agg, name=f'EPJ{i+1}')\n",
    "        ndx.write(epj_agg.select_atoms('name N1'), name=f'EPJ{i+1}_NT')\n",
    "        ndx.write(epj_agg.select_atoms('name C10'), name=f'EPJ{i+1}_CT')\n",
    "    for i, binding_site in enumerate(binding_sites):\n",
    "        ndx.write(binding_site, name=f'BS{i+1}')"
   ]
  },
  {
   "cell_type": "markdown",
   "metadata": {},
   "source": [
    "# Loop C"
   ]
  },
  {
   "cell_type": "code",
   "execution_count": 5,
   "metadata": {},
   "outputs": [],
   "source": [
    "#LoopC resids: chain A G and resid 193-206\n",
    "#LoopC resids: chain C E I and resid 185-198"
   ]
  },
  {
   "cell_type": "code",
   "execution_count": 6,
   "metadata": {},
   "outputs": [],
   "source": [
    "ch_1_loopc = u.select_atoms('segid A and resid 193-206 and name CA')\n",
    "ch_2_loopc = u.select_atoms('segid C and resid 185-198 and name CA')\n",
    "ch_3_loopc = u.select_atoms('segid E and resid 185-198 and name CA')\n",
    "ch_4_loopc = u.select_atoms('segid G and resid 193-206 and name CA')\n",
    "ch_5_loopc = u.select_atoms('segid I and resid 185-198 and name CA')\n",
    "\n",
    "loopc_ags = [ch_1_loopc, ch_2_loopc, ch_3_loopc, ch_4_loopc, ch_5_loopc]"
   ]
  },
  {
   "cell_type": "code",
   "execution_count": 7,
   "metadata": {},
   "outputs": [],
   "source": [
    "with mda.selections.gromacs.SelectionWriter('../index_fep.ndx', mode='a') as ndx:\n",
    "    for i, loopc in enumerate(loopc_ags):\n",
    "        ndx.write(loopc, name=f'LoopC{i+1}')"
   ]
  }
 ],
 "metadata": {
  "kernelspec": {
   "display_name": "msm_dev",
   "language": "python",
   "name": "msm_dev"
  },
  "language_info": {
   "codemirror_mode": {
    "name": "ipython",
    "version": 3
   },
   "file_extension": ".py",
   "mimetype": "text/x-python",
   "name": "python",
   "nbconvert_exporter": "python",
   "pygments_lexer": "ipython3",
   "version": "3.10.0"
  },
  "orig_nbformat": 4
 },
 "nbformat": 4,
 "nbformat_minor": 2
}
