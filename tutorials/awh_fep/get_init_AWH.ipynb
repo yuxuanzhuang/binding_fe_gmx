{
 "cells": [
  {
   "cell_type": "code",
   "execution_count": 1,
   "metadata": {},
   "outputs": [],
   "source": [
    "import numpy as np\n",
    "from fe_gmx.utils.xvg import AWH_3D_XVG"
   ]
  },
  {
   "cell_type": "code",
   "execution_count": 2,
   "metadata": {},
   "outputs": [
    {
     "name": "stdout",
     "output_type": "stream",
     "text": [
      "(105294, 9)\n"
     ]
    }
   ],
   "source": [
    "pmf_xvg = AWH_3D_XVG('../../AWH_2D/test/awh_fep/awh_t0.xvg')"
   ]
  },
  {
   "cell_type": "code",
   "execution_count": 15,
   "metadata": {},
   "outputs": [],
   "source": [
    "kT = 2.479\n",
    "\n",
    "# sample more in fully coupled region\n",
    "target_dis_fep_arr = [5, 4.5, 4, 3, 2,\n",
    "                  1.5, 1, 1, 1, 1,\n",
    "                  1, 1, 1, 1, 1,\n",
    "                  1, 1, 1, 1, 1, 2\n",
    "                  ]\n",
    "with open('awhinit.xvg', 'w') as f:\n",
    "    for row in pmf_xvg.data.values:\n",
    "        init_bias = row[3] * kT\n",
    "        target_bias = target_dis_fep_arr[int(row[2])]\n",
    "        f.write(f'{row[0]}   {row[1]}  {row[2]}  {init_bias:.3f} {target_bias} \\n')"
   ]
  }
 ],
 "metadata": {
  "kernelspec": {
   "display_name": "msm_dev",
   "language": "python",
   "name": "msm_dev"
  },
  "language_info": {
   "codemirror_mode": {
    "name": "ipython",
    "version": 3
   },
   "file_extension": ".py",
   "mimetype": "text/x-python",
   "name": "python",
   "nbconvert_exporter": "python",
   "pygments_lexer": "ipython3",
   "version": "3.10.0"
  }
 },
 "nbformat": 4,
 "nbformat_minor": 4
}
