{
 "cells": [
  {
   "cell_type": "code",
   "execution_count": 1,
   "metadata": {},
   "outputs": [],
   "source": [
    "import MDAnalysis as mda\n",
    "import numpy as np\n",
    "import matplotlib.pyplot as plt\n",
    "import seaborn as sns\n",
    "import os\n",
    "from MDAnalysis.analysis import distances"
   ]
  },
  {
   "cell_type": "code",
   "execution_count": 2,
   "metadata": {},
   "outputs": [
    {
     "ename": "FileNotFoundError",
     "evalue": "[Errno 2] No such file or directory: './eq.pdb'",
     "output_type": "error",
     "traceback": [
      "\u001b[0;31m---------------------------------------------------------------------------\u001b[0m",
      "\u001b[0;31mFileNotFoundError\u001b[0m                         Traceback (most recent call last)",
      "    \u001b[0;31m[... skipping hidden 1 frame]\u001b[0m\n",
      "Cell \u001b[0;32mIn[2], line 1\u001b[0m\n\u001b[0;32m----> 1\u001b[0m u \u001b[39m=\u001b[39m mda\u001b[39m.\u001b[39;49mUniverse(\u001b[39m'\u001b[39;49m\u001b[39m./eq.pdb\u001b[39;49m\u001b[39m'\u001b[39;49m, \u001b[39m'\u001b[39;49m\u001b[39m./pulling.xtc\u001b[39;49m\u001b[39m'\u001b[39;49m)\n",
      "File \u001b[0;32m~/mdanalysis/package/MDAnalysis/core/universe.py:356\u001b[0m, in \u001b[0;36mUniverse.__init__\u001b[0;34m(self, topology, all_coordinates, format, topology_format, transformations, guess_bonds, vdwradii, fudge_factor, lower_bound, in_memory, in_memory_step, *coordinates, **kwargs)\u001b[0m\n\u001b[1;32m    355\u001b[0m     \u001b[39mself\u001b[39m\u001b[39m.\u001b[39mfilename \u001b[39m=\u001b[39m _check_file_like(topology)\n\u001b[0;32m--> 356\u001b[0m     topology \u001b[39m=\u001b[39m _topology_from_file_like(\u001b[39mself\u001b[39;49m\u001b[39m.\u001b[39;49mfilename,\n\u001b[1;32m    357\u001b[0m                                         topology_format\u001b[39m=\u001b[39;49mtopology_format,\n\u001b[1;32m    358\u001b[0m                                         \u001b[39m*\u001b[39;49m\u001b[39m*\u001b[39;49mkwargs)\n\u001b[1;32m    360\u001b[0m \u001b[39mif\u001b[39;00m topology \u001b[39mis\u001b[39;00m \u001b[39mnot\u001b[39;00m \u001b[39mNone\u001b[39;00m:\n",
      "File \u001b[0;32m~/mdanalysis/package/MDAnalysis/core/universe.py:118\u001b[0m, in \u001b[0;36m_topology_from_file_like\u001b[0;34m(topology_file, topology_format, **kwargs)\u001b[0m\n\u001b[1;32m    115\u001b[0m \u001b[39mif\u001b[39;00m (err\u001b[39m.\u001b[39merrno \u001b[39mis\u001b[39;00m \u001b[39mnot\u001b[39;00m \u001b[39mNone\u001b[39;00m \u001b[39mand\u001b[39;00m\n\u001b[1;32m    116\u001b[0m     errno\u001b[39m.\u001b[39merrorcode[err\u001b[39m.\u001b[39merrno] \u001b[39min\u001b[39;00m [\u001b[39m'\u001b[39m\u001b[39mENOENT\u001b[39m\u001b[39m'\u001b[39m, \u001b[39m'\u001b[39m\u001b[39mEACCES\u001b[39m\u001b[39m'\u001b[39m]):\n\u001b[1;32m    117\u001b[0m     \u001b[39m# Runs if the error is propagated due to no permission / file not found\u001b[39;00m\n\u001b[0;32m--> 118\u001b[0m     \u001b[39mraise\u001b[39;00m sys\u001b[39m.\u001b[39mexc_info()[\u001b[39m1\u001b[39m] \u001b[39mfrom\u001b[39;00m \u001b[39merr\u001b[39;00m\n\u001b[1;32m    119\u001b[0m \u001b[39melse\u001b[39;00m:\n\u001b[1;32m    120\u001b[0m     \u001b[39m# Runs when the parser fails\u001b[39;00m\n",
      "File \u001b[0;32m~/mdanalysis/package/MDAnalysis/core/universe.py:110\u001b[0m, in \u001b[0;36m_topology_from_file_like\u001b[0;34m(topology_file, topology_format, **kwargs)\u001b[0m\n\u001b[1;32m    109\u001b[0m     \u001b[39mwith\u001b[39;00m parser(topology_file) \u001b[39mas\u001b[39;00m p:\n\u001b[0;32m--> 110\u001b[0m         topology \u001b[39m=\u001b[39m p\u001b[39m.\u001b[39;49mparse(\u001b[39m*\u001b[39;49m\u001b[39m*\u001b[39;49mkwargs)\n\u001b[1;32m    111\u001b[0m \u001b[39mexcept\u001b[39;00m (\u001b[39mIOError\u001b[39;00m, \u001b[39mOSError\u001b[39;00m) \u001b[39mas\u001b[39;00m err:\n\u001b[1;32m    112\u001b[0m     \u001b[39m# There are 2 kinds of errors that might be raised here:\u001b[39;00m\n\u001b[1;32m    113\u001b[0m     \u001b[39m# one because the file isn't present\u001b[39;00m\n\u001b[1;32m    114\u001b[0m     \u001b[39m# or the permissions are bad, second when the parser fails\u001b[39;00m\n",
      "File \u001b[0;32m~/mdanalysis/package/MDAnalysis/topology/PDBParser.py:210\u001b[0m, in \u001b[0;36mPDBParser.parse\u001b[0;34m(self, **kwargs)\u001b[0m\n\u001b[1;32m    204\u001b[0m \u001b[39m\u001b[39m\u001b[39m\"\"\"Parse atom information from PDB file\u001b[39;00m\n\u001b[1;32m    205\u001b[0m \n\u001b[1;32m    206\u001b[0m \u001b[39mReturns\u001b[39;00m\n\u001b[1;32m    207\u001b[0m \u001b[39m-------\u001b[39;00m\n\u001b[1;32m    208\u001b[0m \u001b[39mMDAnalysis Topology object\u001b[39;00m\n\u001b[1;32m    209\u001b[0m \u001b[39m\"\"\"\u001b[39;00m\n\u001b[0;32m--> 210\u001b[0m top \u001b[39m=\u001b[39m \u001b[39mself\u001b[39;49m\u001b[39m.\u001b[39;49m_parseatoms()\n\u001b[1;32m    212\u001b[0m \u001b[39mtry\u001b[39;00m:\n",
      "File \u001b[0;32m~/mdanalysis/package/MDAnalysis/topology/PDBParser.py:247\u001b[0m, in \u001b[0;36mPDBParser._parseatoms\u001b[0;34m(self)\u001b[0m\n\u001b[1;32m    246\u001b[0m last_wrapped_serial \u001b[39m=\u001b[39m \u001b[39m100000\u001b[39m  \u001b[39m# if serials wrap, start from here\u001b[39;00m\n\u001b[0;32m--> 247\u001b[0m \u001b[39mwith\u001b[39;00m util\u001b[39m.\u001b[39mopenany(\u001b[39mself\u001b[39m\u001b[39m.\u001b[39mfilename) \u001b[39mas\u001b[39;00m f:\n\u001b[1;32m    248\u001b[0m     \u001b[39mfor\u001b[39;00m line \u001b[39min\u001b[39;00m f:\n",
      "File \u001b[0;32m~/anaconda3/envs/msm/lib/python3.10/contextlib.py:135\u001b[0m, in \u001b[0;36m_GeneratorContextManager.__enter__\u001b[0;34m(self)\u001b[0m\n\u001b[1;32m    134\u001b[0m \u001b[39mtry\u001b[39;00m:\n\u001b[0;32m--> 135\u001b[0m     \u001b[39mreturn\u001b[39;00m \u001b[39mnext\u001b[39;49m(\u001b[39mself\u001b[39;49m\u001b[39m.\u001b[39;49mgen)\n\u001b[1;32m    136\u001b[0m \u001b[39mexcept\u001b[39;00m \u001b[39mStopIteration\u001b[39;00m:\n",
      "File \u001b[0;32m~/mdanalysis/package/MDAnalysis/lib/util.py:317\u001b[0m, in \u001b[0;36mopenany\u001b[0;34m(datasource, mode, reset)\u001b[0m\n\u001b[1;32m    275\u001b[0m \u001b[39m\u001b[39m\u001b[39m\"\"\"Context manager for :func:`anyopen`.\u001b[39;00m\n\u001b[1;32m    276\u001b[0m \n\u001b[1;32m    277\u001b[0m \u001b[39mOpen the `datasource` and close it when the context of the :keyword:`with`\u001b[39;00m\n\u001b[0;32m   (...)\u001b[0m\n\u001b[1;32m    315\u001b[0m \u001b[39m:func:`anyopen`\u001b[39;00m\n\u001b[1;32m    316\u001b[0m \u001b[39m\"\"\"\u001b[39;00m\n\u001b[0;32m--> 317\u001b[0m stream \u001b[39m=\u001b[39m anyopen(datasource, mode\u001b[39m=\u001b[39;49mmode, reset\u001b[39m=\u001b[39;49mreset)\n\u001b[1;32m    318\u001b[0m \u001b[39mtry\u001b[39;00m:\n",
      "File \u001b[0;32m~/mdanalysis/package/MDAnalysis/lib/util.py:396\u001b[0m, in \u001b[0;36manyopen\u001b[0;34m(datasource, mode, reset)\u001b[0m\n\u001b[1;32m    395\u001b[0m openfunc \u001b[39m=\u001b[39m read_handlers[ext]\n\u001b[0;32m--> 396\u001b[0m stream \u001b[39m=\u001b[39m _get_stream(datasource, openfunc, mode\u001b[39m=\u001b[39;49mmode)\n\u001b[1;32m    397\u001b[0m \u001b[39mif\u001b[39;00m stream \u001b[39mis\u001b[39;00m \u001b[39mnot\u001b[39;00m \u001b[39mNone\u001b[39;00m:\n",
      "File \u001b[0;32m~/mdanalysis/package/MDAnalysis/lib/util.py:438\u001b[0m, in \u001b[0;36m_get_stream\u001b[0;34m(filename, openfunction, mode)\u001b[0m\n\u001b[1;32m    437\u001b[0m \u001b[39mif\u001b[39;00m errno\u001b[39m.\u001b[39merrorcode[err\u001b[39m.\u001b[39merrno] \u001b[39min\u001b[39;00m [\u001b[39m'\u001b[39m\u001b[39mENOENT\u001b[39m\u001b[39m'\u001b[39m, \u001b[39m'\u001b[39m\u001b[39mEACCES\u001b[39m\u001b[39m'\u001b[39m]:\n\u001b[0;32m--> 438\u001b[0m     \u001b[39mraise\u001b[39;00m sys\u001b[39m.\u001b[39mexc_info()[\u001b[39m1\u001b[39m] \u001b[39mfrom\u001b[39;00m \u001b[39merr\u001b[39;00m\n\u001b[1;32m    439\u001b[0m \u001b[39mreturn\u001b[39;00m \u001b[39mNone\u001b[39;00m\n",
      "File \u001b[0;32m~/mdanalysis/package/MDAnalysis/lib/util.py:432\u001b[0m, in \u001b[0;36m_get_stream\u001b[0;34m(filename, openfunction, mode)\u001b[0m\n\u001b[1;32m    431\u001b[0m \u001b[39mtry\u001b[39;00m:\n\u001b[0;32m--> 432\u001b[0m     stream \u001b[39m=\u001b[39m openfunction(filename, mode\u001b[39m=\u001b[39;49mmode)\n\u001b[1;32m    433\u001b[0m \u001b[39mexcept\u001b[39;00m (\u001b[39mIOError\u001b[39;00m, \u001b[39mOSError\u001b[39;00m) \u001b[39mas\u001b[39;00m err:\n\u001b[1;32m    434\u001b[0m     \u001b[39m# An exception might be raised due to two reasons, first the openfunction is unable to open the file, in this\u001b[39;00m\n\u001b[1;32m    435\u001b[0m     \u001b[39m# case we have to ignore the error and return None. Second is when openfunction can't open the file because\u001b[39;00m\n\u001b[1;32m    436\u001b[0m     \u001b[39m# either the file isn't there or the permissions don't allow access.\u001b[39;00m\n",
      "File \u001b[0;32m~/mdanalysis/package/MDAnalysis/lib/picklable_file_io.py:479\u001b[0m, in \u001b[0;36mbz2_pickle_open\u001b[0;34m(name, mode)\u001b[0m\n\u001b[1;32m    478\u001b[0m bz_mode \u001b[39m=\u001b[39m mode\u001b[39m.\u001b[39mreplace(\u001b[39m\"\u001b[39m\u001b[39mt\u001b[39m\u001b[39m\"\u001b[39m, \u001b[39m\"\u001b[39m\u001b[39m\"\u001b[39m)\n\u001b[0;32m--> 479\u001b[0m binary_file \u001b[39m=\u001b[39m BZ2Picklable(name, bz_mode)\n\u001b[1;32m    480\u001b[0m \u001b[39mif\u001b[39;00m \u001b[39m\"\u001b[39m\u001b[39mt\u001b[39m\u001b[39m\"\u001b[39m \u001b[39min\u001b[39;00m mode:\n",
      "File \u001b[0;32m~/mdanalysis/package/MDAnalysis/lib/picklable_file_io.py:267\u001b[0m, in \u001b[0;36mBZ2Picklable.__init__\u001b[0;34m(self, name, mode)\u001b[0m\n\u001b[1;32m    266\u001b[0m \u001b[39mself\u001b[39m\u001b[39m.\u001b[39m_bz_mode \u001b[39m=\u001b[39m mode\n\u001b[0;32m--> 267\u001b[0m \u001b[39msuper\u001b[39;49m()\u001b[39m.\u001b[39;49m\u001b[39m__init__\u001b[39;49m(name, mode)\n",
      "File \u001b[0;32m~/anaconda3/envs/msm/lib/python3.10/bz2.py:81\u001b[0m, in \u001b[0;36mBZ2File.__init__\u001b[0;34m(self, filename, mode, compresslevel)\u001b[0m\n\u001b[1;32m     80\u001b[0m \u001b[39mif\u001b[39;00m \u001b[39misinstance\u001b[39m(filename, (\u001b[39mstr\u001b[39m, \u001b[39mbytes\u001b[39m, os\u001b[39m.\u001b[39mPathLike)):\n\u001b[0;32m---> 81\u001b[0m     \u001b[39mself\u001b[39m\u001b[39m.\u001b[39m_fp \u001b[39m=\u001b[39m _builtin_open(filename, mode)\n\u001b[1;32m     82\u001b[0m     \u001b[39mself\u001b[39m\u001b[39m.\u001b[39m_closefp \u001b[39m=\u001b[39m \u001b[39mTrue\u001b[39;00m\n",
      "\u001b[0;31mFileNotFoundError\u001b[0m: [Errno 2] No such file or directory: './eq.pdb'",
      "\nThe above exception was the direct cause of the following exception:\n",
      "\u001b[0;31mFileNotFoundError\u001b[0m                         Traceback (most recent call last)",
      "    \u001b[0;31m[... skipping hidden 1 frame]\u001b[0m\n",
      "Cell \u001b[0;32mIn[2], line 1\u001b[0m\n\u001b[0;32m----> 1\u001b[0m u \u001b[39m=\u001b[39m mda\u001b[39m.\u001b[39;49mUniverse(\u001b[39m'\u001b[39;49m\u001b[39m./eq.pdb\u001b[39;49m\u001b[39m'\u001b[39;49m, \u001b[39m'\u001b[39;49m\u001b[39m./pulling.xtc\u001b[39;49m\u001b[39m'\u001b[39;49m)\n",
      "File \u001b[0;32m~/mdanalysis/package/MDAnalysis/core/universe.py:356\u001b[0m, in \u001b[0;36mUniverse.__init__\u001b[0;34m(self, topology, all_coordinates, format, topology_format, transformations, guess_bonds, vdwradii, fudge_factor, lower_bound, in_memory, in_memory_step, *coordinates, **kwargs)\u001b[0m\n\u001b[1;32m    355\u001b[0m     \u001b[39mself\u001b[39m\u001b[39m.\u001b[39mfilename \u001b[39m=\u001b[39m _check_file_like(topology)\n\u001b[0;32m--> 356\u001b[0m     topology \u001b[39m=\u001b[39m _topology_from_file_like(\u001b[39mself\u001b[39;49m\u001b[39m.\u001b[39;49mfilename,\n\u001b[1;32m    357\u001b[0m                                         topology_format\u001b[39m=\u001b[39;49mtopology_format,\n\u001b[1;32m    358\u001b[0m                                         \u001b[39m*\u001b[39;49m\u001b[39m*\u001b[39;49mkwargs)\n\u001b[1;32m    360\u001b[0m \u001b[39mif\u001b[39;00m topology \u001b[39mis\u001b[39;00m \u001b[39mnot\u001b[39;00m \u001b[39mNone\u001b[39;00m:\n",
      "File \u001b[0;32m~/mdanalysis/package/MDAnalysis/core/universe.py:118\u001b[0m, in \u001b[0;36m_topology_from_file_like\u001b[0;34m(topology_file, topology_format, **kwargs)\u001b[0m\n\u001b[1;32m    115\u001b[0m \u001b[39mif\u001b[39;00m (err\u001b[39m.\u001b[39merrno \u001b[39mis\u001b[39;00m \u001b[39mnot\u001b[39;00m \u001b[39mNone\u001b[39;00m \u001b[39mand\u001b[39;00m\n\u001b[1;32m    116\u001b[0m     errno\u001b[39m.\u001b[39merrorcode[err\u001b[39m.\u001b[39merrno] \u001b[39min\u001b[39;00m [\u001b[39m'\u001b[39m\u001b[39mENOENT\u001b[39m\u001b[39m'\u001b[39m, \u001b[39m'\u001b[39m\u001b[39mEACCES\u001b[39m\u001b[39m'\u001b[39m]):\n\u001b[1;32m    117\u001b[0m     \u001b[39m# Runs if the error is propagated due to no permission / file not found\u001b[39;00m\n\u001b[0;32m--> 118\u001b[0m     \u001b[39mraise\u001b[39;00m sys\u001b[39m.\u001b[39mexc_info()[\u001b[39m1\u001b[39m] \u001b[39mfrom\u001b[39;00m \u001b[39merr\u001b[39;00m\n\u001b[1;32m    119\u001b[0m \u001b[39melse\u001b[39;00m:\n\u001b[1;32m    120\u001b[0m     \u001b[39m# Runs when the parser fails\u001b[39;00m\n",
      "File \u001b[0;32m~/mdanalysis/package/MDAnalysis/core/universe.py:110\u001b[0m, in \u001b[0;36m_topology_from_file_like\u001b[0;34m(topology_file, topology_format, **kwargs)\u001b[0m\n\u001b[1;32m    109\u001b[0m     \u001b[39mwith\u001b[39;00m parser(topology_file) \u001b[39mas\u001b[39;00m p:\n\u001b[0;32m--> 110\u001b[0m         topology \u001b[39m=\u001b[39m p\u001b[39m.\u001b[39;49mparse(\u001b[39m*\u001b[39;49m\u001b[39m*\u001b[39;49mkwargs)\n\u001b[1;32m    111\u001b[0m \u001b[39mexcept\u001b[39;00m (\u001b[39mIOError\u001b[39;00m, \u001b[39mOSError\u001b[39;00m) \u001b[39mas\u001b[39;00m err:\n\u001b[1;32m    112\u001b[0m     \u001b[39m# There are 2 kinds of errors that might be raised here:\u001b[39;00m\n\u001b[1;32m    113\u001b[0m     \u001b[39m# one because the file isn't present\u001b[39;00m\n\u001b[1;32m    114\u001b[0m     \u001b[39m# or the permissions are bad, second when the parser fails\u001b[39;00m\n",
      "File \u001b[0;32m~/mdanalysis/package/MDAnalysis/topology/PDBParser.py:210\u001b[0m, in \u001b[0;36mPDBParser.parse\u001b[0;34m(self, **kwargs)\u001b[0m\n\u001b[1;32m    204\u001b[0m \u001b[39m\u001b[39m\u001b[39m\"\"\"Parse atom information from PDB file\u001b[39;00m\n\u001b[1;32m    205\u001b[0m \n\u001b[1;32m    206\u001b[0m \u001b[39mReturns\u001b[39;00m\n\u001b[1;32m    207\u001b[0m \u001b[39m-------\u001b[39;00m\n\u001b[1;32m    208\u001b[0m \u001b[39mMDAnalysis Topology object\u001b[39;00m\n\u001b[1;32m    209\u001b[0m \u001b[39m\"\"\"\u001b[39;00m\n\u001b[0;32m--> 210\u001b[0m top \u001b[39m=\u001b[39m \u001b[39mself\u001b[39;49m\u001b[39m.\u001b[39;49m_parseatoms()\n\u001b[1;32m    212\u001b[0m \u001b[39mtry\u001b[39;00m:\n",
      "File \u001b[0;32m~/mdanalysis/package/MDAnalysis/topology/PDBParser.py:247\u001b[0m, in \u001b[0;36mPDBParser._parseatoms\u001b[0;34m(self)\u001b[0m\n\u001b[1;32m    246\u001b[0m last_wrapped_serial \u001b[39m=\u001b[39m \u001b[39m100000\u001b[39m  \u001b[39m# if serials wrap, start from here\u001b[39;00m\n\u001b[0;32m--> 247\u001b[0m \u001b[39mwith\u001b[39;00m util\u001b[39m.\u001b[39mopenany(\u001b[39mself\u001b[39m\u001b[39m.\u001b[39mfilename) \u001b[39mas\u001b[39;00m f:\n\u001b[1;32m    248\u001b[0m     \u001b[39mfor\u001b[39;00m line \u001b[39min\u001b[39;00m f:\n",
      "File \u001b[0;32m~/anaconda3/envs/msm/lib/python3.10/contextlib.py:135\u001b[0m, in \u001b[0;36m_GeneratorContextManager.__enter__\u001b[0;34m(self)\u001b[0m\n\u001b[1;32m    134\u001b[0m \u001b[39mtry\u001b[39;00m:\n\u001b[0;32m--> 135\u001b[0m     \u001b[39mreturn\u001b[39;00m \u001b[39mnext\u001b[39;49m(\u001b[39mself\u001b[39;49m\u001b[39m.\u001b[39;49mgen)\n\u001b[1;32m    136\u001b[0m \u001b[39mexcept\u001b[39;00m \u001b[39mStopIteration\u001b[39;00m:\n",
      "File \u001b[0;32m~/mdanalysis/package/MDAnalysis/lib/util.py:317\u001b[0m, in \u001b[0;36mopenany\u001b[0;34m(datasource, mode, reset)\u001b[0m\n\u001b[1;32m    275\u001b[0m \u001b[39m\u001b[39m\u001b[39m\"\"\"Context manager for :func:`anyopen`.\u001b[39;00m\n\u001b[1;32m    276\u001b[0m \n\u001b[1;32m    277\u001b[0m \u001b[39mOpen the `datasource` and close it when the context of the :keyword:`with`\u001b[39;00m\n\u001b[0;32m   (...)\u001b[0m\n\u001b[1;32m    315\u001b[0m \u001b[39m:func:`anyopen`\u001b[39;00m\n\u001b[1;32m    316\u001b[0m \u001b[39m\"\"\"\u001b[39;00m\n\u001b[0;32m--> 317\u001b[0m stream \u001b[39m=\u001b[39m anyopen(datasource, mode\u001b[39m=\u001b[39;49mmode, reset\u001b[39m=\u001b[39;49mreset)\n\u001b[1;32m    318\u001b[0m \u001b[39mtry\u001b[39;00m:\n",
      "File \u001b[0;32m~/mdanalysis/package/MDAnalysis/lib/util.py:396\u001b[0m, in \u001b[0;36manyopen\u001b[0;34m(datasource, mode, reset)\u001b[0m\n\u001b[1;32m    395\u001b[0m openfunc \u001b[39m=\u001b[39m read_handlers[ext]\n\u001b[0;32m--> 396\u001b[0m stream \u001b[39m=\u001b[39m _get_stream(datasource, openfunc, mode\u001b[39m=\u001b[39;49mmode)\n\u001b[1;32m    397\u001b[0m \u001b[39mif\u001b[39;00m stream \u001b[39mis\u001b[39;00m \u001b[39mnot\u001b[39;00m \u001b[39mNone\u001b[39;00m:\n",
      "File \u001b[0;32m~/mdanalysis/package/MDAnalysis/lib/util.py:438\u001b[0m, in \u001b[0;36m_get_stream\u001b[0;34m(filename, openfunction, mode)\u001b[0m\n\u001b[1;32m    437\u001b[0m \u001b[39mif\u001b[39;00m errno\u001b[39m.\u001b[39merrorcode[err\u001b[39m.\u001b[39merrno] \u001b[39min\u001b[39;00m [\u001b[39m'\u001b[39m\u001b[39mENOENT\u001b[39m\u001b[39m'\u001b[39m, \u001b[39m'\u001b[39m\u001b[39mEACCES\u001b[39m\u001b[39m'\u001b[39m]:\n\u001b[0;32m--> 438\u001b[0m     \u001b[39mraise\u001b[39;00m sys\u001b[39m.\u001b[39mexc_info()[\u001b[39m1\u001b[39m] \u001b[39mfrom\u001b[39;00m \u001b[39merr\u001b[39;00m\n\u001b[1;32m    439\u001b[0m \u001b[39mreturn\u001b[39;00m \u001b[39mNone\u001b[39;00m\n",
      "File \u001b[0;32m~/mdanalysis/package/MDAnalysis/lib/util.py:432\u001b[0m, in \u001b[0;36m_get_stream\u001b[0;34m(filename, openfunction, mode)\u001b[0m\n\u001b[1;32m    431\u001b[0m \u001b[39mtry\u001b[39;00m:\n\u001b[0;32m--> 432\u001b[0m     stream \u001b[39m=\u001b[39m openfunction(filename, mode\u001b[39m=\u001b[39;49mmode)\n\u001b[1;32m    433\u001b[0m \u001b[39mexcept\u001b[39;00m (\u001b[39mIOError\u001b[39;00m, \u001b[39mOSError\u001b[39;00m) \u001b[39mas\u001b[39;00m err:\n\u001b[1;32m    434\u001b[0m     \u001b[39m# An exception might be raised due to two reasons, first the openfunction is unable to open the file, in this\u001b[39;00m\n\u001b[1;32m    435\u001b[0m     \u001b[39m# case we have to ignore the error and return None. Second is when openfunction can't open the file because\u001b[39;00m\n\u001b[1;32m    436\u001b[0m     \u001b[39m# either the file isn't there or the permissions don't allow access.\u001b[39;00m\n",
      "File \u001b[0;32m~/mdanalysis/package/MDAnalysis/lib/picklable_file_io.py:479\u001b[0m, in \u001b[0;36mbz2_pickle_open\u001b[0;34m(name, mode)\u001b[0m\n\u001b[1;32m    478\u001b[0m bz_mode \u001b[39m=\u001b[39m mode\u001b[39m.\u001b[39mreplace(\u001b[39m\"\u001b[39m\u001b[39mt\u001b[39m\u001b[39m\"\u001b[39m, \u001b[39m\"\u001b[39m\u001b[39m\"\u001b[39m)\n\u001b[0;32m--> 479\u001b[0m binary_file \u001b[39m=\u001b[39m BZ2Picklable(name, bz_mode)\n\u001b[1;32m    480\u001b[0m \u001b[39mif\u001b[39;00m \u001b[39m\"\u001b[39m\u001b[39mt\u001b[39m\u001b[39m\"\u001b[39m \u001b[39min\u001b[39;00m mode:\n",
      "File \u001b[0;32m~/mdanalysis/package/MDAnalysis/lib/picklable_file_io.py:267\u001b[0m, in \u001b[0;36mBZ2Picklable.__init__\u001b[0;34m(self, name, mode)\u001b[0m\n\u001b[1;32m    266\u001b[0m \u001b[39mself\u001b[39m\u001b[39m.\u001b[39m_bz_mode \u001b[39m=\u001b[39m mode\n\u001b[0;32m--> 267\u001b[0m \u001b[39msuper\u001b[39;49m()\u001b[39m.\u001b[39;49m\u001b[39m__init__\u001b[39;49m(name, mode)\n",
      "File \u001b[0;32m~/anaconda3/envs/msm/lib/python3.10/bz2.py:81\u001b[0m, in \u001b[0;36mBZ2File.__init__\u001b[0;34m(self, filename, mode, compresslevel)\u001b[0m\n\u001b[1;32m     80\u001b[0m \u001b[39mif\u001b[39;00m \u001b[39misinstance\u001b[39m(filename, (\u001b[39mstr\u001b[39m, \u001b[39mbytes\u001b[39m, os\u001b[39m.\u001b[39mPathLike)):\n\u001b[0;32m---> 81\u001b[0m     \u001b[39mself\u001b[39m\u001b[39m.\u001b[39m_fp \u001b[39m=\u001b[39m _builtin_open(filename, mode)\n\u001b[1;32m     82\u001b[0m     \u001b[39mself\u001b[39m\u001b[39m.\u001b[39m_closefp \u001b[39m=\u001b[39m \u001b[39mTrue\u001b[39;00m\n",
      "\u001b[0;31mFileNotFoundError\u001b[0m: [Errno 2] No such file or directory: './eq.pdb'",
      "\nThe above exception was the direct cause of the following exception:\n",
      "\u001b[0;31mFileNotFoundError\u001b[0m                         Traceback (most recent call last)",
      "Cell \u001b[0;32mIn[2], line 1\u001b[0m\n\u001b[0;32m----> 1\u001b[0m u \u001b[39m=\u001b[39m mda\u001b[39m.\u001b[39;49mUniverse(\u001b[39m'\u001b[39;49m\u001b[39m./eq.pdb\u001b[39;49m\u001b[39m'\u001b[39;49m, \u001b[39m'\u001b[39;49m\u001b[39m./pulling.xtc\u001b[39;49m\u001b[39m'\u001b[39;49m)\n",
      "File \u001b[0;32m~/mdanalysis/package/MDAnalysis/core/universe.py:356\u001b[0m, in \u001b[0;36mUniverse.__init__\u001b[0;34m(self, topology, all_coordinates, format, topology_format, transformations, guess_bonds, vdwradii, fudge_factor, lower_bound, in_memory, in_memory_step, *coordinates, **kwargs)\u001b[0m\n\u001b[1;32m    354\u001b[0m \u001b[39mif\u001b[39;00m \u001b[39mnot\u001b[39;00m \u001b[39misinstance\u001b[39m(topology, Topology) \u001b[39mand\u001b[39;00m \u001b[39mnot\u001b[39;00m topology \u001b[39mis\u001b[39;00m \u001b[39mNone\u001b[39;00m:\n\u001b[1;32m    355\u001b[0m     \u001b[39mself\u001b[39m\u001b[39m.\u001b[39mfilename \u001b[39m=\u001b[39m _check_file_like(topology)\n\u001b[0;32m--> 356\u001b[0m     topology \u001b[39m=\u001b[39m _topology_from_file_like(\u001b[39mself\u001b[39;49m\u001b[39m.\u001b[39;49mfilename,\n\u001b[1;32m    357\u001b[0m                                         topology_format\u001b[39m=\u001b[39;49mtopology_format,\n\u001b[1;32m    358\u001b[0m                                         \u001b[39m*\u001b[39;49m\u001b[39m*\u001b[39;49mkwargs)\n\u001b[1;32m    360\u001b[0m \u001b[39mif\u001b[39;00m topology \u001b[39mis\u001b[39;00m \u001b[39mnot\u001b[39;00m \u001b[39mNone\u001b[39;00m:\n\u001b[1;32m    361\u001b[0m     \u001b[39mself\u001b[39m\u001b[39m.\u001b[39m_topology \u001b[39m=\u001b[39m topology\n",
      "File \u001b[0;32m~/mdanalysis/package/MDAnalysis/core/universe.py:118\u001b[0m, in \u001b[0;36m_topology_from_file_like\u001b[0;34m(topology_file, topology_format, **kwargs)\u001b[0m\n\u001b[1;32m    111\u001b[0m \u001b[39mexcept\u001b[39;00m (\u001b[39mIOError\u001b[39;00m, \u001b[39mOSError\u001b[39;00m) \u001b[39mas\u001b[39;00m err:\n\u001b[1;32m    112\u001b[0m     \u001b[39m# There are 2 kinds of errors that might be raised here:\u001b[39;00m\n\u001b[1;32m    113\u001b[0m     \u001b[39m# one because the file isn't present\u001b[39;00m\n\u001b[1;32m    114\u001b[0m     \u001b[39m# or the permissions are bad, second when the parser fails\u001b[39;00m\n\u001b[1;32m    115\u001b[0m     \u001b[39mif\u001b[39;00m (err\u001b[39m.\u001b[39merrno \u001b[39mis\u001b[39;00m \u001b[39mnot\u001b[39;00m \u001b[39mNone\u001b[39;00m \u001b[39mand\u001b[39;00m\n\u001b[1;32m    116\u001b[0m         errno\u001b[39m.\u001b[39merrorcode[err\u001b[39m.\u001b[39merrno] \u001b[39min\u001b[39;00m [\u001b[39m'\u001b[39m\u001b[39mENOENT\u001b[39m\u001b[39m'\u001b[39m, \u001b[39m'\u001b[39m\u001b[39mEACCES\u001b[39m\u001b[39m'\u001b[39m]):\n\u001b[1;32m    117\u001b[0m         \u001b[39m# Runs if the error is propagated due to no permission / file not found\u001b[39;00m\n\u001b[0;32m--> 118\u001b[0m         \u001b[39mraise\u001b[39;00m sys\u001b[39m.\u001b[39mexc_info()[\u001b[39m1\u001b[39m] \u001b[39mfrom\u001b[39;00m \u001b[39merr\u001b[39;00m\n\u001b[1;32m    119\u001b[0m     \u001b[39melse\u001b[39;00m:\n\u001b[1;32m    120\u001b[0m         \u001b[39m# Runs when the parser fails\u001b[39;00m\n\u001b[1;32m    121\u001b[0m         \u001b[39mraise\u001b[39;00m \u001b[39mIOError\u001b[39;00m(\u001b[39m\"\u001b[39m\u001b[39mFailed to load from the topology file \u001b[39m\u001b[39m{0}\u001b[39;00m\u001b[39m\"\u001b[39m\n\u001b[1;32m    122\u001b[0m                         \u001b[39m\"\u001b[39m\u001b[39m with parser \u001b[39m\u001b[39m{1}\u001b[39;00m\u001b[39m.\u001b[39m\u001b[39m\\n\u001b[39;00m\u001b[39m\"\u001b[39m\n\u001b[1;32m    123\u001b[0m                         \u001b[39m\"\u001b[39m\u001b[39mError: \u001b[39m\u001b[39m{2}\u001b[39;00m\u001b[39m\"\u001b[39m\u001b[39m.\u001b[39mformat(topology_file, parser, err))\n",
      "File \u001b[0;32m~/mdanalysis/package/MDAnalysis/core/universe.py:110\u001b[0m, in \u001b[0;36m_topology_from_file_like\u001b[0;34m(topology_file, topology_format, **kwargs)\u001b[0m\n\u001b[1;32m    108\u001b[0m \u001b[39mtry\u001b[39;00m:\n\u001b[1;32m    109\u001b[0m     \u001b[39mwith\u001b[39;00m parser(topology_file) \u001b[39mas\u001b[39;00m p:\n\u001b[0;32m--> 110\u001b[0m         topology \u001b[39m=\u001b[39m p\u001b[39m.\u001b[39;49mparse(\u001b[39m*\u001b[39;49m\u001b[39m*\u001b[39;49mkwargs)\n\u001b[1;32m    111\u001b[0m \u001b[39mexcept\u001b[39;00m (\u001b[39mIOError\u001b[39;00m, \u001b[39mOSError\u001b[39;00m) \u001b[39mas\u001b[39;00m err:\n\u001b[1;32m    112\u001b[0m     \u001b[39m# There are 2 kinds of errors that might be raised here:\u001b[39;00m\n\u001b[1;32m    113\u001b[0m     \u001b[39m# one because the file isn't present\u001b[39;00m\n\u001b[1;32m    114\u001b[0m     \u001b[39m# or the permissions are bad, second when the parser fails\u001b[39;00m\n\u001b[1;32m    115\u001b[0m     \u001b[39mif\u001b[39;00m (err\u001b[39m.\u001b[39merrno \u001b[39mis\u001b[39;00m \u001b[39mnot\u001b[39;00m \u001b[39mNone\u001b[39;00m \u001b[39mand\u001b[39;00m\n\u001b[1;32m    116\u001b[0m         errno\u001b[39m.\u001b[39merrorcode[err\u001b[39m.\u001b[39merrno] \u001b[39min\u001b[39;00m [\u001b[39m'\u001b[39m\u001b[39mENOENT\u001b[39m\u001b[39m'\u001b[39m, \u001b[39m'\u001b[39m\u001b[39mEACCES\u001b[39m\u001b[39m'\u001b[39m]):\n\u001b[1;32m    117\u001b[0m         \u001b[39m# Runs if the error is propagated due to no permission / file not found\u001b[39;00m\n",
      "File \u001b[0;32m~/mdanalysis/package/MDAnalysis/topology/PDBParser.py:210\u001b[0m, in \u001b[0;36mPDBParser.parse\u001b[0;34m(self, **kwargs)\u001b[0m\n\u001b[1;32m    203\u001b[0m \u001b[39mdef\u001b[39;00m \u001b[39mparse\u001b[39m(\u001b[39mself\u001b[39m, \u001b[39m*\u001b[39m\u001b[39m*\u001b[39mkwargs):\n\u001b[1;32m    204\u001b[0m \u001b[39m    \u001b[39m\u001b[39m\"\"\"Parse atom information from PDB file\u001b[39;00m\n\u001b[1;32m    205\u001b[0m \n\u001b[1;32m    206\u001b[0m \u001b[39m    Returns\u001b[39;00m\n\u001b[1;32m    207\u001b[0m \u001b[39m    -------\u001b[39;00m\n\u001b[1;32m    208\u001b[0m \u001b[39m    MDAnalysis Topology object\u001b[39;00m\n\u001b[1;32m    209\u001b[0m \u001b[39m    \"\"\"\u001b[39;00m\n\u001b[0;32m--> 210\u001b[0m     top \u001b[39m=\u001b[39m \u001b[39mself\u001b[39;49m\u001b[39m.\u001b[39;49m_parseatoms()\n\u001b[1;32m    212\u001b[0m     \u001b[39mtry\u001b[39;00m:\n\u001b[1;32m    213\u001b[0m         bonds \u001b[39m=\u001b[39m \u001b[39mself\u001b[39m\u001b[39m.\u001b[39m_parsebonds(top\u001b[39m.\u001b[39mids\u001b[39m.\u001b[39mvalues)\n",
      "File \u001b[0;32m~/mdanalysis/package/MDAnalysis/topology/PDBParser.py:247\u001b[0m, in \u001b[0;36mPDBParser._parseatoms\u001b[0;34m(self)\u001b[0m\n\u001b[1;32m    245\u001b[0m \u001b[39mself\u001b[39m\u001b[39m.\u001b[39m_wrapped_serials \u001b[39m=\u001b[39m \u001b[39mFalse\u001b[39;00m  \u001b[39m# did serials go over 100k?\u001b[39;00m\n\u001b[1;32m    246\u001b[0m last_wrapped_serial \u001b[39m=\u001b[39m \u001b[39m100000\u001b[39m  \u001b[39m# if serials wrap, start from here\u001b[39;00m\n\u001b[0;32m--> 247\u001b[0m \u001b[39mwith\u001b[39;00m util\u001b[39m.\u001b[39mopenany(\u001b[39mself\u001b[39m\u001b[39m.\u001b[39mfilename) \u001b[39mas\u001b[39;00m f:\n\u001b[1;32m    248\u001b[0m     \u001b[39mfor\u001b[39;00m line \u001b[39min\u001b[39;00m f:\n\u001b[1;32m    249\u001b[0m         line \u001b[39m=\u001b[39m line\u001b[39m.\u001b[39mstrip()  \u001b[39m# Remove extra spaces\u001b[39;00m\n",
      "File \u001b[0;32m~/anaconda3/envs/msm/lib/python3.10/contextlib.py:135\u001b[0m, in \u001b[0;36m_GeneratorContextManager.__enter__\u001b[0;34m(self)\u001b[0m\n\u001b[1;32m    133\u001b[0m \u001b[39mdel\u001b[39;00m \u001b[39mself\u001b[39m\u001b[39m.\u001b[39margs, \u001b[39mself\u001b[39m\u001b[39m.\u001b[39mkwds, \u001b[39mself\u001b[39m\u001b[39m.\u001b[39mfunc\n\u001b[1;32m    134\u001b[0m \u001b[39mtry\u001b[39;00m:\n\u001b[0;32m--> 135\u001b[0m     \u001b[39mreturn\u001b[39;00m \u001b[39mnext\u001b[39;49m(\u001b[39mself\u001b[39;49m\u001b[39m.\u001b[39;49mgen)\n\u001b[1;32m    136\u001b[0m \u001b[39mexcept\u001b[39;00m \u001b[39mStopIteration\u001b[39;00m:\n\u001b[1;32m    137\u001b[0m     \u001b[39mraise\u001b[39;00m \u001b[39mRuntimeError\u001b[39;00m(\u001b[39m\"\u001b[39m\u001b[39mgenerator didn\u001b[39m\u001b[39m'\u001b[39m\u001b[39mt yield\u001b[39m\u001b[39m\"\u001b[39m) \u001b[39mfrom\u001b[39;00m \u001b[39mNone\u001b[39m\n",
      "File \u001b[0;32m~/mdanalysis/package/MDAnalysis/lib/util.py:317\u001b[0m, in \u001b[0;36mopenany\u001b[0;34m(datasource, mode, reset)\u001b[0m\n\u001b[1;32m    273\u001b[0m \u001b[39m@contextmanager\u001b[39m\n\u001b[1;32m    274\u001b[0m \u001b[39mdef\u001b[39;00m \u001b[39mopenany\u001b[39m(datasource, mode\u001b[39m=\u001b[39m\u001b[39m'\u001b[39m\u001b[39mrt\u001b[39m\u001b[39m'\u001b[39m, reset\u001b[39m=\u001b[39m\u001b[39mTrue\u001b[39;00m):\n\u001b[1;32m    275\u001b[0m \u001b[39m    \u001b[39m\u001b[39m\"\"\"Context manager for :func:`anyopen`.\u001b[39;00m\n\u001b[1;32m    276\u001b[0m \n\u001b[1;32m    277\u001b[0m \u001b[39m    Open the `datasource` and close it when the context of the :keyword:`with`\u001b[39;00m\n\u001b[0;32m   (...)\u001b[0m\n\u001b[1;32m    315\u001b[0m \u001b[39m    :func:`anyopen`\u001b[39;00m\n\u001b[1;32m    316\u001b[0m \u001b[39m    \"\"\"\u001b[39;00m\n\u001b[0;32m--> 317\u001b[0m     stream \u001b[39m=\u001b[39m anyopen(datasource, mode\u001b[39m=\u001b[39;49mmode, reset\u001b[39m=\u001b[39;49mreset)\n\u001b[1;32m    318\u001b[0m     \u001b[39mtry\u001b[39;00m:\n\u001b[1;32m    319\u001b[0m         \u001b[39myield\u001b[39;00m stream\n",
      "File \u001b[0;32m~/mdanalysis/package/MDAnalysis/lib/util.py:396\u001b[0m, in \u001b[0;36manyopen\u001b[0;34m(datasource, mode, reset)\u001b[0m\n\u001b[1;32m    394\u001b[0m \u001b[39mfor\u001b[39;00m ext \u001b[39min\u001b[39;00m (\u001b[39m'\u001b[39m\u001b[39mbz2\u001b[39m\u001b[39m'\u001b[39m, \u001b[39m'\u001b[39m\u001b[39mgz\u001b[39m\u001b[39m'\u001b[39m, \u001b[39m'\u001b[39m\u001b[39m'\u001b[39m):  \u001b[39m# file == '' should be last\u001b[39;00m\n\u001b[1;32m    395\u001b[0m     openfunc \u001b[39m=\u001b[39m read_handlers[ext]\n\u001b[0;32m--> 396\u001b[0m     stream \u001b[39m=\u001b[39m _get_stream(datasource, openfunc, mode\u001b[39m=\u001b[39;49mmode)\n\u001b[1;32m    397\u001b[0m     \u001b[39mif\u001b[39;00m stream \u001b[39mis\u001b[39;00m \u001b[39mnot\u001b[39;00m \u001b[39mNone\u001b[39;00m:\n\u001b[1;32m    398\u001b[0m         \u001b[39mbreak\u001b[39;00m\n",
      "File \u001b[0;32m~/mdanalysis/package/MDAnalysis/lib/util.py:438\u001b[0m, in \u001b[0;36m_get_stream\u001b[0;34m(filename, openfunction, mode)\u001b[0m\n\u001b[1;32m    433\u001b[0m \u001b[39mexcept\u001b[39;00m (\u001b[39mIOError\u001b[39;00m, \u001b[39mOSError\u001b[39;00m) \u001b[39mas\u001b[39;00m err:\n\u001b[1;32m    434\u001b[0m     \u001b[39m# An exception might be raised due to two reasons, first the openfunction is unable to open the file, in this\u001b[39;00m\n\u001b[1;32m    435\u001b[0m     \u001b[39m# case we have to ignore the error and return None. Second is when openfunction can't open the file because\u001b[39;00m\n\u001b[1;32m    436\u001b[0m     \u001b[39m# either the file isn't there or the permissions don't allow access.\u001b[39;00m\n\u001b[1;32m    437\u001b[0m     \u001b[39mif\u001b[39;00m errno\u001b[39m.\u001b[39merrorcode[err\u001b[39m.\u001b[39merrno] \u001b[39min\u001b[39;00m [\u001b[39m'\u001b[39m\u001b[39mENOENT\u001b[39m\u001b[39m'\u001b[39m, \u001b[39m'\u001b[39m\u001b[39mEACCES\u001b[39m\u001b[39m'\u001b[39m]:\n\u001b[0;32m--> 438\u001b[0m         \u001b[39mraise\u001b[39;00m sys\u001b[39m.\u001b[39mexc_info()[\u001b[39m1\u001b[39m] \u001b[39mfrom\u001b[39;00m \u001b[39merr\u001b[39;00m\n\u001b[1;32m    439\u001b[0m     \u001b[39mreturn\u001b[39;00m \u001b[39mNone\u001b[39;00m\n\u001b[1;32m    440\u001b[0m \u001b[39mif\u001b[39;00m mode\u001b[39m.\u001b[39mstartswith(\u001b[39m'\u001b[39m\u001b[39mr\u001b[39m\u001b[39m'\u001b[39m):\n\u001b[1;32m    441\u001b[0m     \u001b[39m# additional check for reading (eg can we uncompress) --- is this needed?\u001b[39;00m\n",
      "File \u001b[0;32m~/mdanalysis/package/MDAnalysis/lib/util.py:432\u001b[0m, in \u001b[0;36m_get_stream\u001b[0;34m(filename, openfunction, mode)\u001b[0m\n\u001b[1;32m    430\u001b[0m \u001b[39m\u001b[39m\u001b[39m\"\"\"Return open stream if *filename* can be opened with *openfunction* or else ``None``.\"\"\"\u001b[39;00m\n\u001b[1;32m    431\u001b[0m \u001b[39mtry\u001b[39;00m:\n\u001b[0;32m--> 432\u001b[0m     stream \u001b[39m=\u001b[39m openfunction(filename, mode\u001b[39m=\u001b[39;49mmode)\n\u001b[1;32m    433\u001b[0m \u001b[39mexcept\u001b[39;00m (\u001b[39mIOError\u001b[39;00m, \u001b[39mOSError\u001b[39;00m) \u001b[39mas\u001b[39;00m err:\n\u001b[1;32m    434\u001b[0m     \u001b[39m# An exception might be raised due to two reasons, first the openfunction is unable to open the file, in this\u001b[39;00m\n\u001b[1;32m    435\u001b[0m     \u001b[39m# case we have to ignore the error and return None. Second is when openfunction can't open the file because\u001b[39;00m\n\u001b[1;32m    436\u001b[0m     \u001b[39m# either the file isn't there or the permissions don't allow access.\u001b[39;00m\n\u001b[1;32m    437\u001b[0m     \u001b[39mif\u001b[39;00m errno\u001b[39m.\u001b[39merrorcode[err\u001b[39m.\u001b[39merrno] \u001b[39min\u001b[39;00m [\u001b[39m'\u001b[39m\u001b[39mENOENT\u001b[39m\u001b[39m'\u001b[39m, \u001b[39m'\u001b[39m\u001b[39mEACCES\u001b[39m\u001b[39m'\u001b[39m]:\n",
      "File \u001b[0;32m~/mdanalysis/package/MDAnalysis/lib/picklable_file_io.py:479\u001b[0m, in \u001b[0;36mbz2_pickle_open\u001b[0;34m(name, mode)\u001b[0m\n\u001b[1;32m    476\u001b[0m     \u001b[39mraise\u001b[39;00m \u001b[39mValueError\u001b[39;00m(\u001b[39m\"\u001b[39m\u001b[39mOnly read mode (\u001b[39m\u001b[39m'\u001b[39m\u001b[39mr\u001b[39m\u001b[39m'\u001b[39m\u001b[39m, \u001b[39m\u001b[39m'\u001b[39m\u001b[39mrt\u001b[39m\u001b[39m'\u001b[39m\u001b[39m, \u001b[39m\u001b[39m'\u001b[39m\u001b[39mrb\u001b[39m\u001b[39m'\u001b[39m\u001b[39m) \u001b[39m\u001b[39m\"\u001b[39m\n\u001b[1;32m    477\u001b[0m                      \u001b[39m\"\u001b[39m\u001b[39mfiles can be pickled.\u001b[39m\u001b[39m\"\u001b[39m)\n\u001b[1;32m    478\u001b[0m bz_mode \u001b[39m=\u001b[39m mode\u001b[39m.\u001b[39mreplace(\u001b[39m\"\u001b[39m\u001b[39mt\u001b[39m\u001b[39m\"\u001b[39m, \u001b[39m\"\u001b[39m\u001b[39m\"\u001b[39m)\n\u001b[0;32m--> 479\u001b[0m binary_file \u001b[39m=\u001b[39m BZ2Picklable(name, bz_mode)\n\u001b[1;32m    480\u001b[0m \u001b[39mif\u001b[39;00m \u001b[39m\"\u001b[39m\u001b[39mt\u001b[39m\u001b[39m\"\u001b[39m \u001b[39min\u001b[39;00m mode:\n\u001b[1;32m    481\u001b[0m     \u001b[39mreturn\u001b[39;00m TextIOPicklable(binary_file)\n",
      "File \u001b[0;32m~/mdanalysis/package/MDAnalysis/lib/picklable_file_io.py:267\u001b[0m, in \u001b[0;36mBZ2Picklable.__init__\u001b[0;34m(self, name, mode)\u001b[0m\n\u001b[1;32m    265\u001b[0m \u001b[39mdef\u001b[39;00m \u001b[39m__init__\u001b[39m(\u001b[39mself\u001b[39m, name, mode\u001b[39m=\u001b[39m\u001b[39m'\u001b[39m\u001b[39mrb\u001b[39m\u001b[39m'\u001b[39m):\n\u001b[1;32m    266\u001b[0m     \u001b[39mself\u001b[39m\u001b[39m.\u001b[39m_bz_mode \u001b[39m=\u001b[39m mode\n\u001b[0;32m--> 267\u001b[0m     \u001b[39msuper\u001b[39;49m()\u001b[39m.\u001b[39;49m\u001b[39m__init__\u001b[39;49m(name, mode)\n",
      "File \u001b[0;32m~/anaconda3/envs/msm/lib/python3.10/bz2.py:81\u001b[0m, in \u001b[0;36mBZ2File.__init__\u001b[0;34m(self, filename, mode, compresslevel)\u001b[0m\n\u001b[1;32m     78\u001b[0m     \u001b[39mraise\u001b[39;00m \u001b[39mValueError\u001b[39;00m(\u001b[39m\"\u001b[39m\u001b[39mInvalid mode: \u001b[39m\u001b[39m%r\u001b[39;00m\u001b[39m\"\u001b[39m \u001b[39m%\u001b[39m (mode,))\n\u001b[1;32m     80\u001b[0m \u001b[39mif\u001b[39;00m \u001b[39misinstance\u001b[39m(filename, (\u001b[39mstr\u001b[39m, \u001b[39mbytes\u001b[39m, os\u001b[39m.\u001b[39mPathLike)):\n\u001b[0;32m---> 81\u001b[0m     \u001b[39mself\u001b[39m\u001b[39m.\u001b[39m_fp \u001b[39m=\u001b[39m _builtin_open(filename, mode)\n\u001b[1;32m     82\u001b[0m     \u001b[39mself\u001b[39m\u001b[39m.\u001b[39m_closefp \u001b[39m=\u001b[39m \u001b[39mTrue\u001b[39;00m\n\u001b[1;32m     83\u001b[0m     \u001b[39mself\u001b[39m\u001b[39m.\u001b[39m_mode \u001b[39m=\u001b[39m mode_code\n",
      "\u001b[0;31mFileNotFoundError\u001b[0m: [Errno 2] No such file or directory: './eq.pdb'"
     ]
    }
   ],
   "source": [
    "u = mda.Universe('./eq.pdb', './pulling.xtc')"
   ]
  },
  {
   "cell_type": "code",
   "execution_count": null,
   "metadata": {},
   "outputs": [],
   "source": [
    "print(u)"
   ]
  },
  {
   "cell_type": "code",
   "execution_count": null,
   "metadata": {},
   "outputs": [],
   "source": [
    "epj_ag = u.select_atoms('resname EPJ')\n",
    "phen_ag = u.select_atoms('resname PHEN')\n",
    "dists = []\n",
    "for ts in u.trajectory:\n",
    "    dists.append(distances.distance_array(epj_ag.positions,\n",
    "                                    phen_ag.positions,\n",
    "                                    box=u.dimensions).mean())"
   ]
  },
  {
   "cell_type": "code",
   "execution_count": null,
   "metadata": {},
   "outputs": [],
   "source": [
    "plt.plot(dists)\n",
    "plt.xlabel('frame')\n",
    "plt.ylabel('distance (angstrom)')"
   ]
  },
  {
   "cell_type": "code",
   "execution_count": null,
   "metadata": {},
   "outputs": [],
   "source": [
    "# create windows\n",
    "distances_windows = np.linspace(4, 16, 40)\n",
    "#print(distances_windows)\n",
    "\n",
    "for i, d in enumerate(distances_windows):\n",
    "    os.makedirs(f'./us/run_{i}', exist_ok=True)\n",
    "    # get the frame number where the distance is cloest to d\n",
    "    frame = np.argmin(np.abs(dists - d))\n",
    "    print(f'run {i}, d: {d}, frame: {frame}, distance: {dists[frame]}')\n",
    "    print('difference', np.abs(dists[frame] - d))\n",
    "    # write the frame to a pdb file\n",
    "    u.trajectory[frame]\n",
    "    u.atoms.write(f'./us/run_{i}/start.pdb')"
   ]
  },
  {
   "cell_type": "code",
   "execution_count": null,
   "metadata": {},
   "outputs": [],
   "source": [
    "# generate the mdp file\n",
    "for i, dist in enumerate(distances_windows):\n",
    "    with open('./mdp/pulling_eq.mdp', 'r') as f:\n",
    "        mdp_lines = f.readlines()\n",
    "        # change init_value to the distance in the window\n",
    "        for j, line in enumerate(mdp_lines):\n",
    "            if 'init_value' in line:\n",
    "                # should be in nm\n",
    "                mdp_lines[j] = f'pull_coord1_init = {dist/10:.3f}\\n'\n",
    "    with open(f'./us/run_{i}/pulling_eq.mdp', 'w') as f:\n",
    "        f.writelines(mdp_lines)\n",
    "    with open('./mdp/pulling_md.mdp', 'r') as f:\n",
    "        mdp_lines = f.readlines()\n",
    "        # change init_value to the distance in the window\n",
    "        for j, line in enumerate(mdp_lines):\n",
    "            if 'init_value' in line:\n",
    "                # should be in nm\n",
    "                mdp_lines[j] = f'pull_coord1_init = {dist/10:.3f}\\n'\n",
    "    with open(f'./us/run_{i}/pulling_md.mdp', 'w') as f:\n",
    "        f.writelines(mdp_lines)"
   ]
  },
  {
   "attachments": {},
   "cell_type": "markdown",
   "metadata": {},
   "source": [
    "## Analysis equilibration"
   ]
  },
  {
   "cell_type": "code",
   "execution_count": null,
   "metadata": {},
   "outputs": [],
   "source": [
    "u_eq = []\n",
    "\n",
    "for i, dist in enumerate(distances_windows):\n",
    "    u_eq.append(mda.Universe(f'./us/run_{i}/start.pdb',\n",
    "                             f'./us/run_{i}/eq/pulling_eq.xtc'))"
   ]
  },
  {
   "cell_type": "code",
   "execution_count": null,
   "metadata": {},
   "outputs": [],
   "source": [
    "dist_eq = []\n",
    "\n",
    "for u in u_eq:\n",
    "    epj_ag = u.select_atoms('resname EPJ')\n",
    "    phen_ag = u.select_atoms('resname PHEN')\n",
    "    dists = []\n",
    "    for ts in u.trajectory[:10]:\n",
    "        # not exactly the same as the distance in the window\n",
    "        dists.append(distances.distance_array(epj_ag.positions,\n",
    "                                              phen_ag.positions,\n",
    "                                              box=u.dimensions).mean())\n",
    "    dist_eq.append(dists)"
   ]
  },
  {
   "cell_type": "code",
   "execution_count": null,
   "metadata": {},
   "outputs": [],
   "source": [
    "# plot the distribution of the distances\n",
    "fig, ax = plt.subplots()\n",
    "ax.plot(np.asarray(dist_eq).mean(axis=1), label='mean', color='black')\n",
    "ax.plot(np.asarray(dist_eq).min(axis=1), label='min', color='red')\n",
    "ax.plot(np.asarray(dist_eq).max(axis=1), label='max', color='blue')"
   ]
  },
  {
   "cell_type": "code",
   "execution_count": null,
   "metadata": {},
   "outputs": [],
   "source": [
    "fig, ax = plt.subplots(figsize=(8, 6))\n",
    "sns.set_style('whitegrid')\n",
    "sns.set_palette('Reds',n_colors=40)\n",
    "for dist, d in zip(dist_eq, distances_windows):\n",
    "    sns.histplot(dist, label=f'{d:.2f} A', ax=ax, stat='density',\n",
    "                 fill=False, common_norm=False)\n",
    "#    ax.vlines(d, 0, 6, linestyle='--', color='black')\n",
    "ax.set_xlabel('distance (angstrom)')\n",
    "ax.set_ylabel('probability density')\n",
    "ax.legend(ncol=4, bbox_to_anchor=(1, 1.1))"
   ]
  },
  {
   "attachments": {},
   "cell_type": "markdown",
   "metadata": {},
   "source": [
    "## Analysis Umbrella sampling"
   ]
  },
  {
   "cell_type": "code",
   "execution_count": null,
   "metadata": {},
   "outputs": [],
   "source": [
    "import glob\n",
    "import os\n",
    "import numpy as np\n",
    "from fe_gmx.utils.utils import natural_keys\n",
    "from fe_gmx.utils.xvg import XVG\n",
    "from pyemma.thermo import wham\n",
    "\n",
    "import matplotlib.pyplot as plt\n",
    "import seaborn as sns"
   ]
  },
  {
   "cell_type": "code",
   "execution_count": null,
   "metadata": {},
   "outputs": [],
   "source": [
    "pullx_xvg_files = []\n",
    "pull_tprs = []\n",
    "\n",
    "for folder in glob.glob('us/run_*/pullx.xvg'):\n",
    "    pullx_xvg_files.append(folder)\n",
    "\n",
    "for folder in glob.glob('us/run_*/pulling_md.tpr'):\n",
    "    pull_tprs.append(folder)\n",
    "\n",
    "pullx_xvg_files.sort(key=natural_keys)\n",
    "pull_tprs.sort(key=natural_keys)\n",
    "\n",
    "with open('./pullx.dat', 'w') as f:\n",
    "    for pullx_xvg_file in pullx_xvg_files:\n",
    "        f.write(f'{pullx_xvg_file}\\n')\n",
    "\n",
    "with open('./tpr.dat', 'w') as f:\n",
    "    for pull_tpr in pull_tprs:\n",
    "        f.write(f'{pull_tpr}\\n')"
   ]
  },
  {
   "cell_type": "code",
   "execution_count": null,
   "metadata": {},
   "outputs": [],
   "source": [
    "pullx_xvgs = [XVG(f) for f in pullx_xvg_files]"
   ]
  },
  {
   "cell_type": "code",
   "execution_count": null,
   "metadata": {},
   "outputs": [],
   "source": [
    "max_pullx = np.max([xvg.data['dim_2'].values.max() for xvg in pullx_xvgs])\n",
    "min_pullx = np.min([xvg.data['dim_2'].values.min() for xvg in pullx_xvgs])\n",
    "print(max_pullx, min_pullx)"
   ]
  },
  {
   "cell_type": "code",
   "execution_count": null,
   "metadata": {},
   "outputs": [],
   "source": [
    "# discretize x into 100 bins\n",
    "x_space = np.linspace(0.33, 1.74, 200)\n",
    "# get the closest index of the x_space fro each arr of pullx\n",
    "d_trajs = []\n",
    "pullx_trajs = []\n",
    "for i, xvg in enumerate(pullx_xvgs):\n",
    "    pullx_arr = xvg.data['dim_2'].values\n",
    "    d_trajs.append(np.argmin(np.abs(x_space[:, np.newaxis] - pullx_arr), axis=0))\n",
    "    pullx_trajs.append(pullx_arr)"
   ]
  },
  {
   "cell_type": "code",
   "execution_count": null,
   "metadata": {},
   "outputs": [],
   "source": [
    "fig, ax = plt.subplots(figsize=(8, 6))\n",
    "sns.histplot(np.concatenate(dtrajs), bins=100, ax=ax, stat='density',\n",
    "             fill=False, common_norm=False)"
   ]
  },
  {
   "cell_type": "code",
   "execution_count": null,
   "metadata": {},
   "outputs": [],
   "source": [
    "from pyemma.thermo import estimate_umbrella_sampling"
   ]
  },
  {
   "cell_type": "code",
   "execution_count": null,
   "metadata": {},
   "outputs": [],
   "source": [
    "us_centers = list(np.linspace(4, 16, 40) / 10)\n",
    "us_force_constants = [1000] * len(us_centers)\n",
    "us_trajs = pullx_trajs\n",
    "us_dtrajs = d_trajs\n",
    "wham = estimate_umbrella_sampling(us_trajs=us_trajs,\n",
    "                                  us_dtrajs=us_dtrajs,\n",
    "                                  us_centers=us_centers,\n",
    "                                  us_force_constants=us_force_constants,\n",
    "                                  estimator='wham', lag=5,\n",
    "                                  kT=2.494339, maxiter=100000,)"
   ]
  },
  {
   "cell_type": "code",
   "execution_count": null,
   "metadata": {},
   "outputs": [],
   "source": [
    "fig, ax = plt.subplots(figsize=(8, 6))\n",
    "fes = wham.f * 2.494339\n",
    "fes = fes - fes[0]\n",
    "sns.lineplot(x_space, fes, ax=ax, color='black')"
   ]
  },
  {
   "cell_type": "code",
   "execution_count": null,
   "metadata": {},
   "outputs": [],
   "source": [
    "fig, ax = plt.subplots(figsize=(8, 6))\n",
    "sns.histplot(np.concatenate(pullx_trajs), bins=100, ax=ax, stat='probability',\n",
    "             fill=False, common_norm=False)\n",
    "            \n",
    "sns.lineplot(x_space, wham.pi, ax=ax, color='black')"
   ]
  }
 ],
 "metadata": {
  "kernelspec": {
   "display_name": "msm",
   "language": "python",
   "name": "python3"
  },
  "language_info": {
   "codemirror_mode": {
    "name": "ipython",
    "version": 3
   },
   "file_extension": ".py",
   "mimetype": "text/x-python",
   "name": "python",
   "nbconvert_exporter": "python",
   "pygments_lexer": "ipython3",
   "version": "3.10.0"
  },
  "orig_nbformat": 4
 },
 "nbformat": 4,
 "nbformat_minor": 2
}
