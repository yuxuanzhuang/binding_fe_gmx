{
 "cells": [
  {
   "cell_type": "code",
   "execution_count": 1,
   "id": "397acb91",
   "metadata": {
    "tags": []
   },
   "outputs": [],
   "source": [
    "import os\n",
    "import MDAnalysis as mda\n",
    "import numpy as np\n",
    "\n",
    "%matplotlib inline\n",
    "import matplotlib.pyplot as plt"
   ]
  },
  {
   "cell_type": "code",
   "execution_count": 2,
   "metadata": {},
   "outputs": [
    {
     "name": "stdout",
     "output_type": "stream",
     "text": [
      "[100 155 156 157 197 199 200 204  57  81 109 110 111 119 121]\n",
      "['A' 'A' 'A' 'A' 'A' 'A' 'A' 'A' 'C' 'C' 'C' 'C' 'C' 'C' 'C']\n",
      "protein and ((resid 100 and segid A) or (resid 155 and segid A) or (resid 156 and segid A) or (resid 157 and segid A) or (resid 197 and segid A) or (resid 199 and segid A) or (resid 200 and segid A) or (resid 204 and segid A) or (resid 57 and segid C) or (resid 81 and segid C) or (resid 109 and segid C) or (resid 110 and segid C) or (resid 111 and segid C) or (resid 119 and segid C) or (resid 121 and segid C))\n",
      "protein and ((resid 100 and segid C) or (resid 155 and segid C) or (resid 156 and segid C) or (resid 157 and segid C) or (resid 197 and segid C) or (resid 199 and segid C) or (resid 200 and segid C) or (resid 204 and segid C) or (resid 57 and segid E) or (resid 81 and segid E) or (resid 109 and segid E) or (resid 110 and segid E) or (resid 111 and segid E) or (resid 119 and segid E) or (resid 121 and segid E))\n",
      "protein and ((resid 100 and segid E) or (resid 155 and segid E) or (resid 156 and segid E) or (resid 157 and segid E) or (resid 197 and segid E) or (resid 199 and segid E) or (resid 200 and segid E) or (resid 204 and segid E) or (resid 57 and segid G) or (resid 81 and segid G) or (resid 109 and segid G) or (resid 110 and segid G) or (resid 111 and segid G) or (resid 119 and segid G) or (resid 121 and segid G))\n",
      "protein and ((resid 100 and segid G) or (resid 155 and segid G) or (resid 156 and segid G) or (resid 157 and segid G) or (resid 197 and segid G) or (resid 199 and segid G) or (resid 200 and segid G) or (resid 204 and segid G) or (resid 57 and segid I) or (resid 81 and segid I) or (resid 109 and segid I) or (resid 110 and segid I) or (resid 111 and segid I) or (resid 119 and segid I) or (resid 121 and segid I))\n",
      "protein and ((resid 100 and segid I) or (resid 155 and segid I) or (resid 156 and segid I) or (resid 157 and segid I) or (resid 197 and segid I) or (resid 199 and segid I) or (resid 200 and segid I) or (resid 204 and segid I) or (resid 57 and segid A) or (resid 81 and segid A) or (resid 109 and segid A) or (resid 110 and segid A) or (resid 111 and segid A) or (resid 119 and segid A) or (resid 121 and segid A))\n"
     ]
    }
   ],
   "source": [
    "u = mda.Universe('../start.pdb')\n",
    "\n",
    "ag_lig_1 = u.select_atoms('resname EPJ').split('residue')[0]\n",
    "\n",
    "prot_binding_site = u.select_atoms('name CA and byres (protein and around 4 group ag_lig_1)', ag_lig_1=ag_lig_1)\n",
    "\n",
    "#sort prot_resids\n",
    "chain_resids = prot_binding_site.segids[np.argsort(prot_binding_site.resids)]\n",
    "prot_resids = np.sort(prot_binding_site.resids)\n",
    "\n",
    "prot_resids = prot_resids[np.argsort(chain_resids)]\n",
    "chain_resids = np.sort(chain_resids)\n",
    "\n",
    "print(prot_resids)\n",
    "print(chain_resids)\n",
    "\n",
    "next_subunit_dict = {'A': 'C',\n",
    "                     'B': 'D',\n",
    "                     'C': 'E',\n",
    "                     'D': 'F',\n",
    "                     'E': 'G',\n",
    "                     'F': 'H',\n",
    "                     'G': 'I',\n",
    "                     'H': 'J',\n",
    "                     'I': 'A',\n",
    "                     'J': 'B'}\n",
    "\n",
    "prot_selections = []\n",
    "\n",
    "for i in range(5):\n",
    "    # only makes senses for homomers\n",
    "    selection = 'protein and ('\n",
    "    for j in range(prot_resids.shape[0]):\n",
    "        # iterate subunit\n",
    "        selection += f'(resid {prot_resids[j]} and segid {chain_resids[j]}) or '\n",
    "        chain_resids[j] = next_subunit_dict[chain_resids[j]]\n",
    "    selection = selection[:-4] + ')'\n",
    "    prot_selections.append(selection)\n",
    "\n",
    "for i, selection in enumerate(prot_selections):\n",
    "    print(selection)\n",
    "    ag = u.select_atoms(selection)\n",
    "    ag.write(f'bining_sites.vmd', mode='a',name='mda_' + str(i))\n",
    "\n",
    "# see: https://docs.mdanalysis.org/stable/documentation_pages/selections/vmd.html#MDAnalysis.selections.vmd.SelectionWriter"
   ]
  },
  {
   "attachments": {},
   "cell_type": "markdown",
   "metadata": {},
   "source": [
    "# Binding site restraints"
   ]
  },
  {
   "cell_type": "code",
   "execution_count": 33,
   "metadata": {},
   "outputs": [],
   "source": [
    "binding_sites = []\n",
    "\n",
    "# only two binding sites\n",
    "for selection in np.asarray(prot_selections)[[0,3]]:\n",
    "    binding_sites.append(u.select_atoms(selection))\n",
    "\n",
    "with mda.selections.gromacs.SelectionWriter('index_awh.ndx', mode='w') as ndx:\n",
    "    ndx.write(u.atoms, name='SYSTEM')\n",
    "    ndx.write(u.select_atoms('protein'), name='PROT')\n",
    "    ndx.write(u.select_atoms('resname POPC'), name='MEMB')\n",
    "    ndx.write(u.select_atoms('resname TIP3 SOD CLA EPJ'), name='SOL_ION')\n",
    "    ndx.write(u.select_atoms('resname EPJ'), name='EPJ')\n",
    "    for i, epj_agg in enumerate(u.select_atoms('resname EPJ').split('residue')):\n",
    "        ndx.write(epj_agg, name=f'EPJ{i+1}')\n",
    "        ndx.write(epj_agg.select_atoms('name N1'), name=f'EPJ{i+1}_NT')\n",
    "        ndx.write(epj_agg.select_atoms('name C10'), name=f'EPJ{i+1}_CT')\n",
    "    for i, binding_site in enumerate(binding_sites):\n",
    "        ndx.write(binding_site, name=f'BS{i+1}')"
   ]
  },
  {
   "cell_type": "markdown",
   "metadata": {},
   "source": [
    "# Loop C"
   ]
  },
  {
   "cell_type": "code",
   "execution_count": null,
   "metadata": {},
   "outputs": [],
   "source": [
    "#LoopC resids: chain A G and resid 193-206\n",
    "#LoopC resids: chain C E I and resid 185-198"
   ]
  },
  {
   "cell_type": "code",
   "execution_count": 5,
   "metadata": {},
   "outputs": [],
   "source": [
    "ch_1_loopc = u.select_atoms('segid A and resid 193-206 and name CA')\n",
    "ch_2_loopc = u.select_atoms('segid C and resid 185-198 and name CA')\n",
    "ch_3_loopc = u.select_atoms('segid E and resid 185-198 and name CA')\n",
    "ch_4_loopc = u.select_atoms('segid G and resid 193-206 and name CA')\n",
    "ch_5_loopc = u.select_atoms('segid I and resid 185-198 and name CA')\n",
    "\n",
    "loopc_ags = [ch_1_loopc, ch_2_loopc, ch_3_loopc, ch_4_loopc, ch_5_loopc]"
   ]
  },
  {
   "cell_type": "code",
   "execution_count": 6,
   "metadata": {},
   "outputs": [],
   "source": [
    "with mda.selections.gromacs.SelectionWriter('index_awh.ndx', mode='a') as ndx:\n",
    "    for i, loopc in enumerate(loopc_ags):\n",
    "        ndx.write(loopc, name=f'LoopC{i+1}')"
   ]
  },
  {
   "attachments": {},
   "cell_type": "markdown",
   "metadata": {},
   "source": [
    "# Pore restraints"
   ]
  },
  {
   "cell_type": "code",
   "execution_count": 27,
   "metadata": {},
   "outputs": [],
   "source": [
    "#Pore resids: chain A G and resid 247 250 254 257 261 264 268\n",
    "#Pore resids: chain C E I and resid 239 242 246 249 253 256 260"
   ]
  },
  {
   "cell_type": "code",
   "execution_count": 28,
   "metadata": {},
   "outputs": [],
   "source": [
    "u = mda.Universe('../start.pdb')"
   ]
  },
  {
   "cell_type": "code",
   "execution_count": 29,
   "metadata": {},
   "outputs": [],
   "source": [
    "ch_1_pore = u.select_atoms('segid A and resid 247 250 254 257 261 264 268 and name CA')\n",
    "ch_2_pore = u.select_atoms('segid C and resid 239 242 246 249 253 256 260 and name CA')\n",
    "ch_3_pore = u.select_atoms('segid E and resid 239 242 246 249 253 256 260 and name CA')\n",
    "ch_4_pore = u.select_atoms('segid G and resid 247 250 254 257 261 264 268 and name CA')\n",
    "ch_5_pore = u.select_atoms('segid I and resid 239 242 246 249 253 256 260 and name CA')"
   ]
  },
  {
   "cell_type": "code",
   "execution_count": 30,
   "metadata": {},
   "outputs": [
    {
     "name": "stdout",
     "output_type": "stream",
     "text": [
      "Pore resids: prime -2, resname GLU GLU and resid 247 239 239 247 239\n",
      "Pore resids: prime 2, resname THR THR and resid 250 242 242 250 242\n",
      "Pore resids: prime 6, resname SER SER and resid 254 246 246 254 246\n",
      "Pore resids: prime 9, resname LEU LEU and resid 257 249 249 257 249\n",
      "Pore resids: prime 13, resname VAL VAL and resid 261 253 253 261 253\n",
      "Pore resids: prime 16, resname LEU LEU and resid 264 256 256 264 256\n",
      "Pore resids: prime 20, resname GLU LYS and resid 268 260 260 268 260\n"
     ]
    }
   ],
   "source": [
    "from MDAnalysis.core import AtomGroup\n",
    "from MDAnalysis.analysis.distances import distance_array\n",
    "prime_notations = ['-2', '2', '6', '9', '13', '16', '20']\n",
    "distance_arrays = {}\n",
    "ag_arrays = {}\n",
    "for prime_res, at1, at2, at3, at4, at5 in zip(\n",
    "    prime_notations, ch_1_pore, ch_2_pore, ch_3_pore, ch_4_pore, ch_5_pore):\n",
    "    print(f'Pore resids: prime {prime_res}, resname {at1.resname} {at2.resname} and resid {at1.resid} {at2.resid} {at3.resid} {at4.resid} {at5.resid}')\n",
    "    ag_prime = AtomGroup([at1, at2, at3, at4, at5])\n",
    "    ag_arrays[prime_res] = ag_prime\n",
    "    distance_arrays[prime_res] = distance_array(ag_prime.positions, ag_prime.positions, box=u.dimensions)"
   ]
  },
  {
   "cell_type": "code",
   "execution_count": 31,
   "metadata": {},
   "outputs": [
    {
     "name": "stdout",
     "output_type": "stream",
     "text": [
      "[3941, 15877] 14.417612446284041\n",
      "[10012, 21814] 13.68285930304289\n",
      "[15877, 27885] 14.853463889695416\n",
      "[21814, 3941] 13.897530429958394\n",
      "[27885, 10012] 14.158267829245434\n",
      "[3997, 15931] 11.859845807021705\n",
      "[10066, 21870] 13.022925146879176\n",
      "[15931, 27939] 12.226866518319591\n",
      "[21870, 3997] 12.676234408042497\n",
      "[27939, 10066] 12.623523037119043\n",
      "[4060, 15994] 14.39318560340731\n",
      "[10129, 21933] 14.994614430178157\n",
      "[15994, 28002] 14.981622949646717\n",
      "[21933, 4060] 14.574426513195595\n",
      "[28002, 10129] 14.63960732104219\n",
      "[4106, 16040] 15.907346241426584\n",
      "[10175, 21979] 16.463094416944976\n",
      "[16040, 28048] 16.56375601262031\n",
      "[21979, 4106] 16.41236372899089\n",
      "[28048, 10175] 16.595941180373224\n",
      "[4169, 16102] 16.398612245443445\n",
      "[10237, 22042] 17.110261601300913\n",
      "[16102, 28110] 16.54205457009662\n",
      "[22042, 4169] 16.802008382209042\n",
      "[28110, 10237] 16.943830424179446\n",
      "[4224, 16157] 20.894151000048044\n",
      "[10292, 22097] 20.817307728835612\n",
      "[16157, 28165] 20.845858628603885\n",
      "[22097, 4224] 20.684286098853544\n",
      "[28165, 10292] 20.554449328279702\n",
      "[4295, 16225] 21.09119224705431\n",
      "[10360, 22168] 21.976666999590492\n",
      "[16225, 28233] 20.22381127571362\n",
      "[22168, 4295] 21.783618778898887\n",
      "[28233, 10360] 20.283259571269525\n"
     ]
    }
   ],
   "source": [
    "def write_pore_restraints_file(fname, prime_res, dist_mat, ag_arr):\n",
    "    ag_arr_shift = np.roll(ag_arr, -2, axis=0)\n",
    "    res_groups = [[at1.index+1, at2.index+1] for at1, at2 in zip(ag_arr, ag_arr_shift)]\n",
    "    dist_groups = [dist_mat[i, j] for i,j in zip([0,1,2,3,4], [2,3,4,0,1])]\n",
    "    with open(fname, 'w') as f:\n",
    "        f.write(f'; Pore restraints for prime {prime_res}\\n')\n",
    "        f.write('[ bonds ]\\n')\n",
    "        f.write(';   i     j funct         lo        up1        up2    kdr\\n')\n",
    "        for res_group, dist in zip(res_groups, dist_groups):\n",
    "            print(res_group, dist)\n",
    "            f.write(f'{res_group[0]} {res_group[1]} 10 {(dist / 10):6f} {(dist / 10 +0.2):6f} {(dist / 10 +1.2):6f} 5000\\n')\n",
    "\n",
    "\n",
    "for prime_res in prime_notations:\n",
    "    write_pore_restraints_file(f'../toppar/pore_res_{prime_res}.itp',\n",
    "                                prime_res,\n",
    "                                distance_arrays[prime_res],\n",
    "                                ag_arrays[prime_res])"
   ]
  },
  {
   "cell_type": "code",
   "execution_count": 15,
   "metadata": {},
   "outputs": [],
   "source": [
    "# Add pore restraints to topol.top\n",
    "with open('../topol.top', '+a') as f:\n",
    "    f.write('\\n')\n",
    "    f.write('#ifdef REST_PORE_ON\\n')\n",
    "    f.write('[ intermolecular_interactions]\\n')\n",
    "    for prime_res in prime_notations:\n",
    "        f.write(f'#include \"toppar/pore_res_{prime_res}.itp\"\\n')\n",
    "    f.write('#endif\\n')"
   ]
  }
 ],
 "metadata": {
  "kernelspec": {
   "display_name": "msm_dev",
   "language": "python",
   "name": "msm_dev"
  },
  "language_info": {
   "codemirror_mode": {
    "name": "ipython",
    "version": 3
   },
   "file_extension": ".py",
   "mimetype": "text/x-python",
   "name": "python",
   "nbconvert_exporter": "python",
   "pygments_lexer": "ipython3",
   "version": "3.10.0"
  },
  "orig_nbformat": 4
 },
 "nbformat": 4,
 "nbformat_minor": 2
}
