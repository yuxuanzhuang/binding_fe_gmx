{
 "cells": [
  {
   "cell_type": "code",
   "execution_count": null,
   "metadata": {},
   "outputs": [],
   "source": [
    "import MDAnalysis as mda\n",
    "import numpy as np\n",
    "import matplotlib.pyplot as plt\n",
    "import seaborn as sns\n",
    "import os\n",
    "from MDAnalysis.analysis import distances"
   ]
  },
  {
   "cell_type": "code",
   "execution_count": null,
   "metadata": {},
   "outputs": [],
   "source": [
    "u = mda.Universe('./eq.pdb', './pulling.xtc')"
   ]
  },
  {
   "cell_type": "code",
   "execution_count": null,
   "metadata": {},
   "outputs": [],
   "source": [
    "print(u)"
   ]
  },
  {
   "cell_type": "code",
   "execution_count": null,
   "metadata": {},
   "outputs": [],
   "source": [
    "epj_ag = u.select_atoms('resname EPJ')\n",
    "phen_ag = u.select_atoms('resname PHEN')\n",
    "dists = []\n",
    "for ts in u.trajectory:\n",
    "    dists.append(distances.distance_array(epj_ag.positions,\n",
    "                                    phen_ag.positions,\n",
    "                                    box=u.dimensions).mean())"
   ]
  },
  {
   "cell_type": "code",
   "execution_count": null,
   "metadata": {},
   "outputs": [],
   "source": [
    "plt.plot(dists)\n",
    "plt.xlabel('frame')\n",
    "plt.ylabel('distance (angstrom)')"
   ]
  },
  {
   "cell_type": "code",
   "execution_count": null,
   "metadata": {},
   "outputs": [],
   "source": [
    "# create windows\n",
    "distances_windows = np.linspace(4, 16, 40)\n",
    "#print(distances_windows)\n",
    "\n",
    "for i, d in enumerate(distances_windows):\n",
    "    os.makedirs(f'./us/run_{i}', exist_ok=True)\n",
    "    # get the frame number where the distance is cloest to d\n",
    "    frame = np.argmin(np.abs(dists - d))\n",
    "    print(f'run {i}, d: {d}, frame: {frame}, distance: {dists[frame]}')\n",
    "    print('difference', np.abs(dists[frame] - d))\n",
    "    # write the frame to a pdb file\n",
    "    u.trajectory[frame]\n",
    "    u.atoms.write(f'./us/run_{i}/start.pdb')"
   ]
  },
  {
   "cell_type": "code",
   "execution_count": null,
   "metadata": {},
   "outputs": [],
   "source": [
    "# generate the mdp file\n",
    "for i, dist in enumerate(distances_windows):\n",
    "    with open('./mdp/pulling_eq.mdp', 'r') as f:\n",
    "        mdp_lines = f.readlines()\n",
    "        # change init_value to the distance in the window\n",
    "        for j, line in enumerate(mdp_lines):\n",
    "            if 'init_value' in line:\n",
    "                # should be in nm\n",
    "                mdp_lines[j] = f'pull_coord1_init = {dist/10:.3f}\\n'\n",
    "    with open(f'./us/run_{i}/pulling_eq.mdp', 'w') as f:\n",
    "        f.writelines(mdp_lines)\n",
    "    with open('./mdp/pulling_md.mdp', 'r') as f:\n",
    "        mdp_lines = f.readlines()\n",
    "        # change init_value to the distance in the window\n",
    "        for j, line in enumerate(mdp_lines):\n",
    "            if 'init_value' in line:\n",
    "                # should be in nm\n",
    "                mdp_lines[j] = f'pull_coord1_init = {dist/10:.3f}\\n'\n",
    "    with open(f'./us/run_{i}/pulling_md.mdp', 'w') as f:\n",
    "        f.writelines(mdp_lines)"
   ]
  },
  {
   "attachments": {},
   "cell_type": "markdown",
   "metadata": {},
   "source": [
    "## Analysis equilibration"
   ]
  },
  {
   "cell_type": "code",
   "execution_count": null,
   "metadata": {},
   "outputs": [],
   "source": [
    "u_eq = []\n",
    "\n",
    "for i, dist in enumerate(distances_windows):\n",
    "    u_eq.append(mda.Universe(f'./us/run_{i}/start.pdb',\n",
    "                             f'./us/run_{i}/eq/pulling_eq.xtc'))"
   ]
  },
  {
   "cell_type": "code",
   "execution_count": null,
   "metadata": {},
   "outputs": [],
   "source": [
    "dist_eq = []\n",
    "\n",
    "for u in u_eq:\n",
    "    epj_ag = u.select_atoms('resname EPJ')\n",
    "    phen_ag = u.select_atoms('resname PHEN')\n",
    "    dists = []\n",
    "    for ts in u.trajectory[:10]:\n",
    "        # not exactly the same as the distance in the window\n",
    "        dists.append(distances.distance_array(epj_ag.positions,\n",
    "                                              phen_ag.positions,\n",
    "                                              box=u.dimensions).mean())\n",
    "    dist_eq.append(dists)"
   ]
  },
  {
   "cell_type": "code",
   "execution_count": null,
   "metadata": {},
   "outputs": [],
   "source": [
    "# plot the distribution of the distances\n",
    "fig, ax = plt.subplots()\n",
    "ax.plot(np.asarray(dist_eq).mean(axis=1), label='mean', color='black')\n",
    "ax.plot(np.asarray(dist_eq).min(axis=1), label='min', color='red')\n",
    "ax.plot(np.asarray(dist_eq).max(axis=1), label='max', color='blue')"
   ]
  },
  {
   "cell_type": "code",
   "execution_count": null,
   "metadata": {},
   "outputs": [],
   "source": [
    "fig, ax = plt.subplots(figsize=(8, 6))\n",
    "sns.set_style('whitegrid')\n",
    "sns.set_palette('Reds',n_colors=40)\n",
    "for dist, d in zip(dist_eq, distances_windows):\n",
    "    sns.histplot(dist, label=f'{d:.2f} A', ax=ax, stat='density',\n",
    "                 fill=False, common_norm=False)\n",
    "#    ax.vlines(d, 0, 6, linestyle='--', color='black')\n",
    "ax.set_xlabel('distance (angstrom)')\n",
    "ax.set_ylabel('probability density')\n",
    "ax.legend(ncol=4, bbox_to_anchor=(1, 1.1))"
   ]
  },
  {
   "attachments": {},
   "cell_type": "markdown",
   "metadata": {},
   "source": [
    "## Analysis Umbrella sampling"
   ]
  },
  {
   "cell_type": "code",
   "execution_count": null,
   "metadata": {},
   "outputs": [],
   "source": [
    "import glob\n",
    "import os\n",
    "import numpy as np\n",
    "from fe_gmx.utils.utils import natural_keys\n",
    "from fe_gmx.utils.xvg import XVG\n",
    "from pyemma.thermo import wham\n",
    "\n",
    "import matplotlib.pyplot as plt\n",
    "import seaborn as sns"
   ]
  },
  {
   "cell_type": "code",
   "execution_count": null,
   "metadata": {},
   "outputs": [],
   "source": [
    "pullx_xvg_files = []\n",
    "pull_tprs = []\n",
    "\n",
    "for folder in glob.glob('us/run_*/pullx.xvg'):\n",
    "    pullx_xvg_files.append(folder)\n",
    "\n",
    "for folder in glob.glob('us/run_*/pulling_md.tpr'):\n",
    "    pull_tprs.append(folder)\n",
    "\n",
    "pullx_xvg_files.sort(key=natural_keys)\n",
    "pull_tprs.sort(key=natural_keys)\n",
    "\n",
    "with open('./pullx.dat', 'w') as f:\n",
    "    for pullx_xvg_file in pullx_xvg_files:\n",
    "        f.write(f'{pullx_xvg_file}\\n')\n",
    "\n",
    "with open('./tpr.dat', 'w') as f:\n",
    "    for pull_tpr in pull_tprs:\n",
    "        f.write(f'{pull_tpr}\\n')"
   ]
  },
  {
   "cell_type": "code",
   "execution_count": null,
   "metadata": {},
   "outputs": [],
   "source": [
    "pullx_xvgs = [XVG(f) for f in pullx_xvg_files]"
   ]
  },
  {
   "cell_type": "code",
   "execution_count": null,
   "metadata": {},
   "outputs": [],
   "source": [
    "max_pullx = np.max([xvg.data['dim_2'].values.max() for xvg in pullx_xvgs])\n",
    "min_pullx = np.min([xvg.data['dim_2'].values.min() for xvg in pullx_xvgs])\n",
    "print(max_pullx, min_pullx)"
   ]
  },
  {
   "cell_type": "code",
   "execution_count": null,
   "metadata": {},
   "outputs": [],
   "source": [
    "# discretize x into 100 bins\n",
    "x_space = np.linspace(0.33, 1.74, 200)\n",
    "# get the closest index of the x_space fro each arr of pullx\n",
    "d_trajs = []\n",
    "pullx_trajs = []\n",
    "for i, xvg in enumerate(pullx_xvgs):\n",
    "    pullx_arr = xvg.data['dim_2'].values\n",
    "    d_trajs.append(np.argmin(np.abs(x_space[:, np.newaxis] - pullx_arr), axis=0))\n",
    "    pullx_trajs.append(pullx_arr)"
   ]
  },
  {
   "cell_type": "code",
   "execution_count": null,
   "metadata": {},
   "outputs": [],
   "source": [
    "fig, ax = plt.subplots(figsize=(8, 6))\n",
    "sns.histplot(np.concatenate(dtrajs), bins=100, ax=ax, stat='density',\n",
    "             fill=False, common_norm=False)"
   ]
  },
  {
   "cell_type": "code",
   "execution_count": null,
   "metadata": {},
   "outputs": [],
   "source": [
    "from pyemma.thermo import estimate_umbrella_sampling"
   ]
  },
  {
   "cell_type": "code",
   "execution_count": null,
   "metadata": {},
   "outputs": [],
   "source": [
    "us_centers = list(np.linspace(4, 16, 40) / 10)\n",
    "us_force_constants = [1000] * len(us_centers)\n",
    "us_trajs = pullx_trajs\n",
    "us_dtrajs = d_trajs\n",
    "wham = estimate_umbrella_sampling(us_trajs=us_trajs,\n",
    "                                  us_dtrajs=us_dtrajs,\n",
    "                                  us_centers=us_centers,\n",
    "                                  us_force_constants=us_force_constants,\n",
    "                                  estimator='wham', lag=5,\n",
    "                                  kT=2.494339, maxiter=100000,)"
   ]
  },
  {
   "cell_type": "code",
   "execution_count": null,
   "metadata": {},
   "outputs": [],
   "source": [
    "fig, ax = plt.subplots(figsize=(8, 6))\n",
    "fes = wham.f * 2.494339\n",
    "fes = fes - fes[0]\n",
    "sns.lineplot(x_space, fes, ax=ax, color='black')"
   ]
  },
  {
   "cell_type": "code",
   "execution_count": null,
   "metadata": {},
   "outputs": [],
   "source": [
    "fig, ax = plt.subplots(figsize=(8, 6))\n",
    "sns.histplot(np.concatenate(pullx_trajs), bins=100, ax=ax, stat='probability',\n",
    "             fill=False, common_norm=False)\n",
    "            \n",
    "sns.lineplot(x_space, wham.pi, ax=ax, color='black')"
   ]
  }
 ],
 "metadata": {
  "kernelspec": {
   "display_name": "msm",
   "language": "python",
   "name": "python3"
  },
  "language_info": {
   "codemirror_mode": {
    "name": "ipython",
    "version": 3
   },
   "file_extension": ".py",
   "mimetype": "text/x-python",
   "name": "python",
   "nbconvert_exporter": "python",
   "pygments_lexer": "ipython3",
   "version": "3.10.0"
  },
  "orig_nbformat": 4
 },
 "nbformat": 4,
 "nbformat_minor": 2
}
