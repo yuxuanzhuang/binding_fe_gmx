{
 "cells": [
  {
   "attachments": {},
   "cell_type": "markdown",
   "metadata": {},
   "source": [
    "**Required package**\n",
    "- MDAnalysis\n",
    "- nglview\n",
    "- joblib"
   ]
  },
  {
   "cell_type": "code",
   "execution_count": 1,
   "metadata": {},
   "outputs": [
    {
     "data": {
      "application/vnd.jupyter.widget-view+json": {
       "model_id": "ac2e73f089b946079c42927c30d67c16",
       "version_major": 2,
       "version_minor": 0
      },
      "text/plain": []
     },
     "metadata": {},
     "output_type": "display_data"
    }
   ],
   "source": [
    "import numpy as np\n",
    "import glob\n",
    "import os\n",
    "from joblib import Parallel, delayed\n",
    "import multiprocessing\n",
    "num_cores = multiprocessing.cpu_count()\n",
    "\n",
    "import MDAnalysis as mda\n",
    "from MDAnalysis.transformations.wrap import unwrap\n",
    "\n",
    "import nglview as nv\n",
    "\n",
    "import pandas as pd\n",
    "\n",
    "\n",
    "#import gmxapi as gmx"
   ]
  },
  {
   "cell_type": "code",
   "execution_count": 2,
   "metadata": {},
   "outputs": [
    {
     "data": {
      "text/plain": [
       "<Figure size 640x480 with 0 Axes>"
      ]
     },
     "metadata": {},
     "output_type": "display_data"
    }
   ],
   "source": [
    "import seaborn as sns\n",
    "sns.set(style='whitegrid', context='poster', font_scale=1)\n",
    "sns.despine()"
   ]
  },
  {
   "cell_type": "code",
   "execution_count": 3,
   "metadata": {},
   "outputs": [],
   "source": [
    "import matplotlib.pyplot as plt\n",
    "sns.set_palette(\"Reds\", 10)"
   ]
  },
  {
   "cell_type": "code",
   "execution_count": 4,
   "metadata": {},
   "outputs": [],
   "source": [
    "import os\n",
    "cwd = os.getcwd()"
   ]
  },
  {
   "cell_type": "code",
   "execution_count": 5,
   "metadata": {},
   "outputs": [],
   "source": [
    "sim_folders = [\n",
    "               '../AWH_3D_PORE_ANGLE_LOOPC'\n",
    "               ]"
   ]
  },
  {
   "cell_type": "code",
   "execution_count": 6,
   "metadata": {},
   "outputs": [],
   "source": [
    "import numpy as np\n",
    "from fe_gmx import AWH_3D_Ensemble"
   ]
  },
  {
   "cell_type": "code",
   "execution_count": 7,
   "metadata": {},
   "outputs": [
    {
     "name": "stdout",
     "output_type": "stream",
     "text": [
      "../AWH_3D_PORE_ANGLE_LOOPC\n",
      "WARNING: No awh_dhdl file found. Check the folder name.\n"
     ]
    },
    {
     "name": "stderr",
     "output_type": "stream",
     "text": [
      "                        :-) GROMACS - gmx awh, 2023 (-:\n",
      "\n",
      "Executable:   /opt/tcbsys/gromacs/2023/gmx/AVX2_256/bin/gmx\n",
      "Data prefix:  /opt/tcbsys/gromacs/2023/gmx/AVX2_256\n",
      "Working dir:  /nethome/yzhuang/cephfs/nachrs_modulator/AWH_2D/test/AWH_3D_PORE_ANGLE_LOOPC/awh_result\n",
      "Command line:\n",
      "  gmx awh -f ../rep1/awh.edr -o awh.xvg -s ../rep1/awh.tpr -skip 10 -more\n",
      "\n",
      "Opened ../rep1/awh.edr as single precision energy file\n",
      "Reading file ../rep1/awh.tpr, VERSION 2023 (single precision)\n",
      "Reading energy frame   2000 time 200700.000         \n",
      "Last energy frame read 2363\n",
      "WARNING: Incomplete energy frame: nr 2364 time 237000.000\n",
      "\n",
      "\n",
      "GROMACS reminds you: \"The World is a Friendly Place\" (Magnapop)\n",
      "\n"
     ]
    },
    {
     "name": "stdout",
     "output_type": "stream",
     "text": [
      "Found 119 awh_pmf files.\n",
      "The latest awh_pmf file is ../AWH_3D_PORE_ANGLE_LOOPC/awh_result/awh_t236800.xvg\n",
      "The latest awh_pmf file was generated at 2023-07-14 10:36:03\n",
      "Found 8 walkers.\n",
      "The latest walker was generated at 2023-07-18 10:37:05\n",
      "Generating pulling data...\n",
      "Generating log data...\n",
      "Generating PMF data...\n"
     ]
    },
    {
     "name": "stderr",
     "output_type": "stream",
     "text": [
      "Generating PMF data:   0%|          | 0/60 [00:00<?, ?it/s]"
     ]
    },
    {
     "name": "stdout",
     "output_type": "stream",
     "text": [
      "(521640, 9)\n"
     ]
    },
    {
     "name": "stderr",
     "output_type": "stream",
     "text": [
      "Generating PMF data:   2%|▏         | 1/60 [00:01<01:25,  1.46s/it]"
     ]
    },
    {
     "name": "stdout",
     "output_type": "stream",
     "text": [
      "(521640, 9)\n"
     ]
    },
    {
     "name": "stderr",
     "output_type": "stream",
     "text": [
      "Generating PMF data:   3%|▎         | 2/60 [00:03<01:32,  1.60s/it]"
     ]
    },
    {
     "name": "stdout",
     "output_type": "stream",
     "text": [
      "(521640, 9)\n"
     ]
    },
    {
     "name": "stderr",
     "output_type": "stream",
     "text": [
      "Generating PMF data:   5%|▌         | 3/60 [00:04<01:35,  1.67s/it]"
     ]
    },
    {
     "name": "stdout",
     "output_type": "stream",
     "text": [
      "(521640, 9)\n"
     ]
    },
    {
     "name": "stderr",
     "output_type": "stream",
     "text": [
      "Generating PMF data:   7%|▋         | 4/60 [00:06<01:38,  1.76s/it]"
     ]
    },
    {
     "name": "stdout",
     "output_type": "stream",
     "text": [
      "(521640, 9)\n"
     ]
    },
    {
     "name": "stderr",
     "output_type": "stream",
     "text": [
      "Generating PMF data:   8%|▊         | 5/60 [00:08<01:38,  1.79s/it]"
     ]
    },
    {
     "name": "stdout",
     "output_type": "stream",
     "text": [
      "(521640, 9)\n"
     ]
    },
    {
     "name": "stderr",
     "output_type": "stream",
     "text": [
      "Generating PMF data:  10%|█         | 6/60 [00:10<01:39,  1.85s/it]"
     ]
    },
    {
     "name": "stdout",
     "output_type": "stream",
     "text": [
      "(521640, 9)\n"
     ]
    },
    {
     "name": "stderr",
     "output_type": "stream",
     "text": [
      "Generating PMF data:  12%|█▏        | 7/60 [00:12<01:38,  1.85s/it]"
     ]
    },
    {
     "name": "stdout",
     "output_type": "stream",
     "text": [
      "(521640, 9)\n"
     ]
    },
    {
     "name": "stderr",
     "output_type": "stream",
     "text": [
      "Generating PMF data:  13%|█▎        | 8/60 [00:14<01:34,  1.81s/it]"
     ]
    },
    {
     "name": "stdout",
     "output_type": "stream",
     "text": [
      "(521640, 9)\n"
     ]
    },
    {
     "name": "stderr",
     "output_type": "stream",
     "text": [
      "Generating PMF data:  15%|█▌        | 9/60 [00:16<01:33,  1.84s/it]"
     ]
    },
    {
     "name": "stdout",
     "output_type": "stream",
     "text": [
      "(521640, 9)\n"
     ]
    },
    {
     "name": "stderr",
     "output_type": "stream",
     "text": [
      "Generating PMF data:  17%|█▋        | 10/60 [00:17<01:30,  1.82s/it]"
     ]
    },
    {
     "name": "stdout",
     "output_type": "stream",
     "text": [
      "(521640, 9)\n"
     ]
    },
    {
     "name": "stderr",
     "output_type": "stream",
     "text": [
      "Generating PMF data:  18%|█▊        | 11/60 [00:19<01:26,  1.78s/it]"
     ]
    },
    {
     "name": "stdout",
     "output_type": "stream",
     "text": [
      "(521640, 9)\n"
     ]
    },
    {
     "name": "stderr",
     "output_type": "stream",
     "text": [
      "Generating PMF data:  20%|██        | 12/60 [00:21<01:25,  1.78s/it]"
     ]
    },
    {
     "name": "stdout",
     "output_type": "stream",
     "text": [
      "(521640, 9)\n"
     ]
    },
    {
     "name": "stderr",
     "output_type": "stream",
     "text": [
      "Generating PMF data:  22%|██▏       | 13/60 [00:23<01:23,  1.78s/it]"
     ]
    },
    {
     "name": "stdout",
     "output_type": "stream",
     "text": [
      "(521640, 9)\n"
     ]
    },
    {
     "name": "stderr",
     "output_type": "stream",
     "text": [
      "Generating PMF data:  23%|██▎       | 14/60 [00:24<01:20,  1.75s/it]"
     ]
    },
    {
     "name": "stdout",
     "output_type": "stream",
     "text": [
      "(521640, 9)\n"
     ]
    },
    {
     "name": "stderr",
     "output_type": "stream",
     "text": [
      "Generating PMF data:  25%|██▌       | 15/60 [00:26<01:20,  1.79s/it]"
     ]
    },
    {
     "name": "stdout",
     "output_type": "stream",
     "text": [
      "(521640, 9)\n"
     ]
    },
    {
     "name": "stderr",
     "output_type": "stream",
     "text": [
      "Generating PMF data:  27%|██▋       | 16/60 [00:28<01:24,  1.93s/it]"
     ]
    },
    {
     "name": "stdout",
     "output_type": "stream",
     "text": [
      "(521640, 9)\n"
     ]
    },
    {
     "name": "stderr",
     "output_type": "stream",
     "text": [
      "Generating PMF data:  28%|██▊       | 17/60 [00:30<01:22,  1.91s/it]"
     ]
    },
    {
     "name": "stdout",
     "output_type": "stream",
     "text": [
      "(521640, 9)\n"
     ]
    },
    {
     "name": "stderr",
     "output_type": "stream",
     "text": [
      "Generating PMF data:  30%|███       | 18/60 [00:33<01:24,  2.02s/it]"
     ]
    },
    {
     "name": "stdout",
     "output_type": "stream",
     "text": [
      "(521640, 9)\n"
     ]
    },
    {
     "name": "stderr",
     "output_type": "stream",
     "text": [
      "Generating PMF data:  32%|███▏      | 19/60 [00:35<01:23,  2.05s/it]"
     ]
    },
    {
     "name": "stdout",
     "output_type": "stream",
     "text": [
      "(521640, 9)\n"
     ]
    },
    {
     "name": "stderr",
     "output_type": "stream",
     "text": [
      "Generating PMF data:  33%|███▎      | 20/60 [00:36<01:17,  1.93s/it]"
     ]
    },
    {
     "name": "stdout",
     "output_type": "stream",
     "text": [
      "(521640, 9)\n"
     ]
    },
    {
     "name": "stderr",
     "output_type": "stream",
     "text": [
      "Generating PMF data:  35%|███▌      | 21/60 [00:38<01:14,  1.91s/it]"
     ]
    },
    {
     "name": "stdout",
     "output_type": "stream",
     "text": [
      "(521640, 9)\n"
     ]
    },
    {
     "name": "stderr",
     "output_type": "stream",
     "text": [
      "Generating PMF data:  37%|███▋      | 22/60 [00:40<01:10,  1.86s/it]"
     ]
    },
    {
     "name": "stdout",
     "output_type": "stream",
     "text": [
      "(521640, 9)\n"
     ]
    },
    {
     "name": "stderr",
     "output_type": "stream",
     "text": [
      "Generating PMF data:  38%|███▊      | 23/60 [00:42<01:06,  1.80s/it]"
     ]
    },
    {
     "name": "stdout",
     "output_type": "stream",
     "text": [
      "(521640, 9)\n"
     ]
    },
    {
     "name": "stderr",
     "output_type": "stream",
     "text": [
      "Generating PMF data:  40%|████      | 24/60 [00:43<01:02,  1.74s/it]"
     ]
    },
    {
     "name": "stdout",
     "output_type": "stream",
     "text": [
      "(521640, 9)\n"
     ]
    },
    {
     "name": "stderr",
     "output_type": "stream",
     "text": [
      "Generating PMF data:  42%|████▏     | 25/60 [00:45<01:00,  1.73s/it]"
     ]
    },
    {
     "name": "stdout",
     "output_type": "stream",
     "text": [
      "(521640, 9)\n"
     ]
    },
    {
     "name": "stderr",
     "output_type": "stream",
     "text": [
      "Generating PMF data:  43%|████▎     | 26/60 [00:47<00:57,  1.70s/it]"
     ]
    },
    {
     "name": "stdout",
     "output_type": "stream",
     "text": [
      "(521640, 9)\n"
     ]
    },
    {
     "name": "stderr",
     "output_type": "stream",
     "text": [
      "Generating PMF data:  45%|████▌     | 27/60 [00:48<00:54,  1.66s/it]"
     ]
    },
    {
     "name": "stdout",
     "output_type": "stream",
     "text": [
      "(521640, 9)\n"
     ]
    },
    {
     "name": "stderr",
     "output_type": "stream",
     "text": [
      "Generating PMF data:  47%|████▋     | 28/60 [00:50<00:53,  1.68s/it]"
     ]
    },
    {
     "name": "stdout",
     "output_type": "stream",
     "text": [
      "(521640, 9)\n"
     ]
    },
    {
     "name": "stderr",
     "output_type": "stream",
     "text": [
      "Generating PMF data:  48%|████▊     | 29/60 [00:51<00:51,  1.66s/it]"
     ]
    },
    {
     "name": "stdout",
     "output_type": "stream",
     "text": [
      "(521640, 9)\n"
     ]
    },
    {
     "name": "stderr",
     "output_type": "stream",
     "text": [
      "Generating PMF data:  50%|█████     | 30/60 [00:53<00:50,  1.68s/it]"
     ]
    },
    {
     "name": "stdout",
     "output_type": "stream",
     "text": [
      "(521640, 9)\n"
     ]
    },
    {
     "name": "stderr",
     "output_type": "stream",
     "text": [
      "Generating PMF data:  52%|█████▏    | 31/60 [00:55<00:48,  1.69s/it]"
     ]
    },
    {
     "name": "stdout",
     "output_type": "stream",
     "text": [
      "(521640, 9)\n"
     ]
    },
    {
     "name": "stderr",
     "output_type": "stream",
     "text": [
      "Generating PMF data:  53%|█████▎    | 32/60 [00:57<00:46,  1.67s/it]"
     ]
    },
    {
     "name": "stdout",
     "output_type": "stream",
     "text": [
      "(521640, 9)\n"
     ]
    },
    {
     "name": "stderr",
     "output_type": "stream",
     "text": [
      "Generating PMF data:  55%|█████▌    | 33/60 [00:58<00:45,  1.68s/it]"
     ]
    },
    {
     "name": "stdout",
     "output_type": "stream",
     "text": [
      "(521640, 9)\n"
     ]
    },
    {
     "name": "stderr",
     "output_type": "stream",
     "text": [
      "Generating PMF data:  57%|█████▋    | 34/60 [01:00<00:43,  1.69s/it]"
     ]
    },
    {
     "name": "stdout",
     "output_type": "stream",
     "text": [
      "(521640, 9)\n"
     ]
    },
    {
     "name": "stderr",
     "output_type": "stream",
     "text": [
      "Generating PMF data:  58%|█████▊    | 35/60 [01:01<00:41,  1.65s/it]"
     ]
    },
    {
     "name": "stdout",
     "output_type": "stream",
     "text": [
      "(521640, 9)\n"
     ]
    },
    {
     "name": "stderr",
     "output_type": "stream",
     "text": [
      "Generating PMF data:  60%|██████    | 36/60 [01:03<00:39,  1.65s/it]"
     ]
    },
    {
     "name": "stdout",
     "output_type": "stream",
     "text": [
      "(521640, 9)\n"
     ]
    },
    {
     "name": "stderr",
     "output_type": "stream",
     "text": [
      "Generating PMF data:  62%|██████▏   | 37/60 [01:05<00:38,  1.68s/it]"
     ]
    },
    {
     "name": "stdout",
     "output_type": "stream",
     "text": [
      "(521640, 9)\n"
     ]
    },
    {
     "name": "stderr",
     "output_type": "stream",
     "text": [
      "Generating PMF data:  63%|██████▎   | 38/60 [01:07<00:36,  1.68s/it]"
     ]
    },
    {
     "name": "stdout",
     "output_type": "stream",
     "text": [
      "(521640, 9)\n"
     ]
    },
    {
     "name": "stderr",
     "output_type": "stream",
     "text": [
      "Generating PMF data:  65%|██████▌   | 39/60 [01:08<00:35,  1.68s/it]"
     ]
    },
    {
     "name": "stdout",
     "output_type": "stream",
     "text": [
      "(521640, 9)\n"
     ]
    },
    {
     "name": "stderr",
     "output_type": "stream",
     "text": [
      "Generating PMF data:  67%|██████▋   | 40/60 [01:10<00:33,  1.67s/it]"
     ]
    },
    {
     "name": "stdout",
     "output_type": "stream",
     "text": [
      "(521640, 9)\n"
     ]
    },
    {
     "name": "stderr",
     "output_type": "stream",
     "text": [
      "Generating PMF data:  68%|██████▊   | 41/60 [01:12<00:32,  1.69s/it]"
     ]
    },
    {
     "name": "stdout",
     "output_type": "stream",
     "text": [
      "(521640, 9)\n"
     ]
    },
    {
     "name": "stderr",
     "output_type": "stream",
     "text": [
      "Generating PMF data:  70%|███████   | 42/60 [01:13<00:30,  1.71s/it]"
     ]
    },
    {
     "name": "stdout",
     "output_type": "stream",
     "text": [
      "(521640, 9)\n"
     ]
    },
    {
     "name": "stderr",
     "output_type": "stream",
     "text": [
      "Generating PMF data:  72%|███████▏  | 43/60 [01:15<00:29,  1.71s/it]"
     ]
    },
    {
     "name": "stdout",
     "output_type": "stream",
     "text": [
      "(521640, 9)\n"
     ]
    },
    {
     "name": "stderr",
     "output_type": "stream",
     "text": [
      "Generating PMF data:  73%|███████▎  | 44/60 [01:17<00:27,  1.69s/it]"
     ]
    },
    {
     "name": "stdout",
     "output_type": "stream",
     "text": [
      "(521640, 9)\n"
     ]
    },
    {
     "name": "stderr",
     "output_type": "stream",
     "text": [
      "Generating PMF data:  75%|███████▌  | 45/60 [01:18<00:25,  1.68s/it]"
     ]
    },
    {
     "name": "stdout",
     "output_type": "stream",
     "text": [
      "(521640, 9)\n"
     ]
    },
    {
     "name": "stderr",
     "output_type": "stream",
     "text": [
      "Generating PMF data:  77%|███████▋  | 46/60 [01:20<00:23,  1.69s/it]"
     ]
    },
    {
     "name": "stdout",
     "output_type": "stream",
     "text": [
      "(521640, 9)\n"
     ]
    },
    {
     "name": "stderr",
     "output_type": "stream",
     "text": [
      "Generating PMF data:  78%|███████▊  | 47/60 [01:22<00:21,  1.69s/it]"
     ]
    },
    {
     "name": "stdout",
     "output_type": "stream",
     "text": [
      "(521640, 9)\n"
     ]
    },
    {
     "name": "stderr",
     "output_type": "stream",
     "text": [
      "Generating PMF data:  80%|████████  | 48/60 [01:24<00:20,  1.69s/it]"
     ]
    },
    {
     "name": "stdout",
     "output_type": "stream",
     "text": [
      "(521640, 9)\n"
     ]
    },
    {
     "name": "stderr",
     "output_type": "stream",
     "text": [
      "Generating PMF data:  82%|████████▏ | 49/60 [01:25<00:18,  1.68s/it]"
     ]
    },
    {
     "name": "stdout",
     "output_type": "stream",
     "text": [
      "(521640, 9)\n"
     ]
    },
    {
     "name": "stderr",
     "output_type": "stream",
     "text": [
      "Generating PMF data:  83%|████████▎ | 50/60 [01:27<00:16,  1.67s/it]"
     ]
    },
    {
     "name": "stdout",
     "output_type": "stream",
     "text": [
      "(521640, 9)\n"
     ]
    },
    {
     "name": "stderr",
     "output_type": "stream",
     "text": [
      "Generating PMF data:  85%|████████▌ | 51/60 [01:28<00:14,  1.66s/it]"
     ]
    },
    {
     "name": "stdout",
     "output_type": "stream",
     "text": [
      "(521640, 9)\n"
     ]
    },
    {
     "name": "stderr",
     "output_type": "stream",
     "text": [
      "Generating PMF data:  87%|████████▋ | 52/60 [01:30<00:13,  1.69s/it]"
     ]
    },
    {
     "name": "stdout",
     "output_type": "stream",
     "text": [
      "(521640, 9)\n"
     ]
    },
    {
     "name": "stderr",
     "output_type": "stream",
     "text": [
      "Generating PMF data:  88%|████████▊ | 53/60 [01:32<00:11,  1.69s/it]"
     ]
    },
    {
     "name": "stdout",
     "output_type": "stream",
     "text": [
      "(521640, 9)\n"
     ]
    },
    {
     "name": "stderr",
     "output_type": "stream",
     "text": [
      "Generating PMF data:  90%|█████████ | 54/60 [01:34<00:10,  1.69s/it]"
     ]
    },
    {
     "name": "stdout",
     "output_type": "stream",
     "text": [
      "(521640, 9)\n"
     ]
    },
    {
     "name": "stderr",
     "output_type": "stream",
     "text": [
      "Generating PMF data:  92%|█████████▏| 55/60 [01:35<00:08,  1.69s/it]"
     ]
    },
    {
     "name": "stdout",
     "output_type": "stream",
     "text": [
      "(521640, 9)\n"
     ]
    },
    {
     "name": "stderr",
     "output_type": "stream",
     "text": [
      "Generating PMF data:  93%|█████████▎| 56/60 [01:37<00:06,  1.68s/it]"
     ]
    },
    {
     "name": "stdout",
     "output_type": "stream",
     "text": [
      "(521640, 9)\n"
     ]
    },
    {
     "name": "stderr",
     "output_type": "stream",
     "text": [
      "Generating PMF data:  95%|█████████▌| 57/60 [01:39<00:05,  1.69s/it]"
     ]
    },
    {
     "name": "stdout",
     "output_type": "stream",
     "text": [
      "(521640, 9)\n"
     ]
    },
    {
     "name": "stderr",
     "output_type": "stream",
     "text": [
      "Generating PMF data:  97%|█████████▋| 58/60 [01:40<00:03,  1.71s/it]"
     ]
    },
    {
     "name": "stdout",
     "output_type": "stream",
     "text": [
      "(521640, 9)\n"
     ]
    },
    {
     "name": "stderr",
     "output_type": "stream",
     "text": [
      "Generating PMF data:  98%|█████████▊| 59/60 [01:43<00:01,  1.97s/it]"
     ]
    },
    {
     "name": "stdout",
     "output_type": "stream",
     "text": [
      "(521640, 9)\n"
     ]
    },
    {
     "name": "stderr",
     "output_type": "stream",
     "text": [
      "Generating PMF data: 100%|██████████| 60/60 [01:45<00:00,  1.76s/it]\n"
     ]
    }
   ],
   "source": [
    "awh_ensembles = {}\n",
    "for sim_folder in sim_folders:\n",
    "    print(sim_folder)\n",
    "    awh_ensembles[sim_folder] = AWH_3D_Ensemble(sim_folder,\n",
    "                                                regenerate_awh=True,\n",
    "                                                stride=2)"
   ]
  },
  {
   "cell_type": "code",
   "execution_count": 8,
   "metadata": {},
   "outputs": [
    {
     "data": {
      "text/plain": [
       "[AWH_LOG(filename=../AWH_3D_PORE_ANGLE_LOOPC/rep1/awh.log, index=0), covering_times=[39114, 48744, 62964, 77202], equlibrated_histogram_time=39114, out_of_initial_stage_time=77202]"
      ]
     },
     "execution_count": 8,
     "metadata": {},
     "output_type": "execute_result"
    }
   ],
   "source": [
    "[awh_ensemble.awh_log[0] for name, awh_ensemble in awh_ensembles.items()]"
   ]
  },
  {
   "cell_type": "code",
   "execution_count": 9,
   "metadata": {},
   "outputs": [],
   "source": [
    "generate_video=False\n",
    "if generate_video:\n",
    "    for name, awh_ensemble in awh_ensembles.items():\n",
    "        awh_ensemble.generate_pmf_video(\n",
    "                                name='_'.join(name.split('/')[-2:]),\n",
    "                                stride=1,\n",
    "                                remove_img=True,\n",
    "                                ffmpeg='/nethome/yzhuang/FFmpeg/ffmpeg'\n",
    "        )"
   ]
  },
  {
   "cell_type": "code",
   "execution_count": 10,
   "metadata": {},
   "outputs": [
    {
     "name": "stdout",
     "output_type": "stream",
     "text": [
      "../AWH_3D_PORE_ANGLE_LOOPC\n",
      "t236800\n"
     ]
    },
    {
     "data": {
      "image/png": "[encoded data removed]",
      "text/plain": [
       "<Figure size 700x900 with 2 Axes>"
      ]
     },
     "metadata": {},
     "output_type": "display_data"
    }
   ],
   "source": [
    "import matplotlib.pyplot as plt\n",
    "import seaborn as sns\n",
    "sns.set_palette(\"Reds\")\n",
    "kT = 2.494339\n",
    "for name, awh_ensemble in awh_ensembles.items():\n",
    "    print(name)\n",
    "    time = awh_ensemble.awh_results.timeseries[-1]\n",
    "    print(time)\n",
    "    awh_pmf = awh_ensemble.awh_results.pmf[-1]\n",
    "\n",
    "    awh_cv1 = awh_pmf.T[0][0][0]\n",
    "    awh_cv2 = awh_pmf.transpose(0,3,2,1)[0][1][0]\n",
    "    awh_cv3 = awh_pmf[0].T[2].T[0]\n",
    "    awh_fes = awh_pmf[:,:,:,3].T\n",
    "\n",
    "    # integral over CV2\n",
    "    awh_fes_int = np.zeros((awh_fes.shape[1], awh_fes.shape[2]))\n",
    "\n",
    "    for i in range(awh_fes.shape[1]):\n",
    "        for j in range(awh_fes.shape[2]):\n",
    "            awh_fes_int[i,j] = np.trapz(np.exp(-awh_fes[:, i, j] / kT), awh_cv3)\n",
    "    awh_fes_int = -np.log(awh_fes_int) * kT\n",
    "\n",
    "    levels=np.linspace(0, 60, 20)\n",
    "    fig, ax = plt.subplots(figsize=(7,9))\n",
    "    mappable = ax.contourf(\n",
    "                awh_cv1,\n",
    "                awh_cv2,\n",
    "                awh_fes_int,\n",
    "                extend='both',\n",
    "                vmax=60,\n",
    "                levels=levels,)\n",
    "\n",
    "    ax.set_ylabel(f'$\\lambda$')\n",
    "    ax.set_xlabel('dist (nm)')\n",
    "    ax.set_title('{:.0f} ns PMF'.format(eval(time[1:]) / 1000), fontsize=20)\n",
    "    cbar = fig.colorbar(mappable)\n",
    "\n",
    "    cbar.set_label(f'PMF ({awh_ensemble.unit})')\n",
    "    plt.show()"
   ]
  },
  {
   "cell_type": "code",
   "execution_count": 11,
   "metadata": {},
   "outputs": [
    {
     "name": "stdout",
     "output_type": "stream",
     "text": [
      "../AWH_3D_PORE_ANGLE_LOOPC\n",
      "t236800\n",
      "cv1 shape (84,)\n",
      "cv2 shape (90,)\n",
      "cv3 shape (69,)\n",
      "fes shape (69, 84)\n"
     ]
    },
    {
     "data": {
      "image/png": "[encoded data removed]",
      "text/plain": [
       "<Figure size 700x900 with 2 Axes>"
      ]
     },
     "metadata": {},
     "output_type": "display_data"
    }
   ],
   "source": [
    "import matplotlib.pyplot as plt\n",
    "import seaborn as sns\n",
    "sns.set_palette(\"Reds\")\n",
    "kT = 2.494339\n",
    "for name, awh_ensemble in awh_ensembles.items():\n",
    "    print(name)\n",
    "    time = awh_ensemble.awh_results.timeseries[-1]\n",
    "    print(time)\n",
    "    awh_pmf = awh_ensemble.awh_results.pmf[-1]\n",
    "\n",
    "    awh_cv1 = awh_pmf.T[0][0][0]\n",
    "    awh_cv2 = awh_pmf.transpose(0,3,2,1)[0][1][0]\n",
    "    awh_cv3 = awh_pmf[0].T[2].T[0]\n",
    "    print('cv1 shape', awh_cv1.shape)\n",
    "    print('cv2 shape', awh_cv2.shape)\n",
    "    print('cv3 shape', awh_cv3.shape)\n",
    "    awh_fes = awh_pmf[:,:,:,3].T\n",
    "\n",
    "    # integral over CV2\n",
    "    awh_fes_int = np.zeros((awh_fes.shape[0], awh_fes.shape[2]))\n",
    "\n",
    "    for i in range(awh_fes.shape[0]):\n",
    "        for j in range(awh_fes.shape[2]):\n",
    "            awh_fes_int[i,j] = np.trapz(np.exp(-awh_fes[i, :, j] / kT), awh_cv2)\n",
    "    awh_fes_int = -np.log(awh_fes_int) * kT\n",
    "    levels=np.linspace(0, 60, 20)\n",
    "    \n",
    "    print('fes shape', awh_fes_int.shape)\n",
    "    fig, ax = plt.subplots(figsize=(7,9))\n",
    "    mappable = ax.contourf(\n",
    "                awh_cv1,\n",
    "                awh_cv3,\n",
    "                awh_fes_int,\n",
    "                extend='both',\n",
    "                vmax=60,\n",
    "                levels=levels,)\n",
    "\n",
    "    ax.set_ylabel(f'$\\lambda$')\n",
    "    ax.set_xlabel('dist (nm)')\n",
    "    ax.set_title('{:.0f} ns PMF'.format(eval(time[1:]) / 1000), fontsize=20)\n",
    "    cbar = fig.colorbar(mappable)\n",
    "\n",
    "    cbar.set_label(f'PMF ({awh_ensemble.unit})')\n",
    "    plt.show()"
   ]
  }
 ],
 "metadata": {
  "kernelspec": {
   "display_name": "msm_dev",
   "language": "python",
   "name": "msm_dev"
  },
  "language_info": {
   "codemirror_mode": {
    "name": "ipython",
    "version": 3
   },
   "file_extension": ".py",
   "mimetype": "text/x-python",
   "name": "python",
   "nbconvert_exporter": "python",
   "pygments_lexer": "ipython3",
   "version": "3.10.0"
  }
 },
 "nbformat": 4,
 "nbformat_minor": 4
}
