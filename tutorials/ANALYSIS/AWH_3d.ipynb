{
 "cells": [
  {
   "attachments": {},
   "cell_type": "markdown",
   "metadata": {},
   "source": [
    "**Required package**\n",
    "- MDAnalysis\n",
    "- nglview\n",
    "- joblib"
   ]
  },
  {
   "cell_type": "code",
   "execution_count": 1,
   "metadata": {},
   "outputs": [
    {
     "data": {
      "application/vnd.jupyter.widget-view+json": {
       "model_id": "8969e0b0ebf1411d81b0de450711fa86",
       "version_major": 2,
       "version_minor": 0
      },
      "text/plain": []
     },
     "metadata": {},
     "output_type": "display_data"
    }
   ],
   "source": [
    "import numpy as np\n",
    "import glob\n",
    "import os\n",
    "from joblib import Parallel, delayed\n",
    "import multiprocessing\n",
    "num_cores = multiprocessing.cpu_count()\n",
    "\n",
    "import MDAnalysis as mda\n",
    "from MDAnalysis.transformations.wrap import unwrap\n",
    "\n",
    "import nglview as nv\n",
    "\n",
    "import pandas as pd\n",
    "\n",
    "\n",
    "#import gmxapi as gmx"
   ]
  },
  {
   "cell_type": "code",
   "execution_count": 2,
   "metadata": {},
   "outputs": [
    {
     "data": {
      "text/plain": [
       "<Figure size 640x480 with 0 Axes>"
      ]
     },
     "metadata": {},
     "output_type": "display_data"
    }
   ],
   "source": [
    "import seaborn as sns\n",
    "sns.set(style='whitegrid', context='poster', font_scale=1)\n",
    "sns.despine()"
   ]
  },
  {
   "cell_type": "code",
   "execution_count": 3,
   "metadata": {},
   "outputs": [],
   "source": [
    "import matplotlib.pyplot as plt\n",
    "sns.set_palette(\"Reds\", 10)"
   ]
  },
  {
   "cell_type": "code",
   "execution_count": 4,
   "metadata": {},
   "outputs": [],
   "source": [
    "import os\n",
    "cwd = os.getcwd()"
   ]
  },
  {
   "cell_type": "code",
   "execution_count": 5,
   "metadata": {},
   "outputs": [],
   "source": [
    "import numpy as np\n",
    "from fe_gmx import AWH_3D_Ensemble"
   ]
  },
  {
   "cell_type": "code",
   "execution_count": 6,
   "metadata": {},
   "outputs": [
    {
     "name": "stdout",
     "output_type": "stream",
     "text": [
      "Found 155 awh_pmf files.\n",
      "The latest awh_pmf file is /nethome/yzhuang/cephfs/nachrs_modulator/AWH_2D/test/AWH_3D_PORE_ANGLE_LOOPC/awh_result/awh_t308800.xvg\n",
      "The latest awh_pmf file was generated at 2023-07-21 11:36:33\n",
      "Found 8 walkers.\n",
      "The latest walker was generated at 2023-07-20 10:38:20\n",
      "Generating pulling data...\n",
      "Generating log data...\n",
      "Generating PMF data...\n"
     ]
    },
    {
     "name": "stderr",
     "output_type": "stream",
     "text": [
      "Generating PMF data:   0%|          | 0/155 [00:00<?, ?it/s]"
     ]
    },
    {
     "name": "stdout",
     "output_type": "stream",
     "text": [
      "(521640, 9)\n"
     ]
    },
    {
     "name": "stderr",
     "output_type": "stream",
     "text": [
      "Generating PMF data:   1%|          | 1/155 [00:02<05:12,  2.03s/it]"
     ]
    },
    {
     "name": "stdout",
     "output_type": "stream",
     "text": [
      "(521640, 9)\n"
     ]
    },
    {
     "name": "stderr",
     "output_type": "stream",
     "text": [
      "Generating PMF data:   1%|▏         | 2/155 [00:04<06:15,  2.45s/it]"
     ]
    },
    {
     "name": "stdout",
     "output_type": "stream",
     "text": [
      "(521640, 9)\n"
     ]
    },
    {
     "name": "stderr",
     "output_type": "stream",
     "text": [
      "Generating PMF data:   2%|▏         | 3/155 [00:06<05:34,  2.20s/it]"
     ]
    },
    {
     "name": "stdout",
     "output_type": "stream",
     "text": [
      "(521640, 9)\n"
     ]
    },
    {
     "name": "stderr",
     "output_type": "stream",
     "text": [
      "Generating PMF data:   3%|▎         | 4/155 [00:08<05:21,  2.13s/it]"
     ]
    },
    {
     "name": "stdout",
     "output_type": "stream",
     "text": [
      "(521640, 9)\n"
     ]
    },
    {
     "name": "stderr",
     "output_type": "stream",
     "text": [
      "Generating PMF data:   3%|▎         | 5/155 [00:10<05:20,  2.14s/it]"
     ]
    },
    {
     "name": "stdout",
     "output_type": "stream",
     "text": [
      "(521640, 9)\n"
     ]
    },
    {
     "name": "stderr",
     "output_type": "stream",
     "text": [
      "Generating PMF data:   4%|▍         | 6/155 [00:13<05:38,  2.27s/it]"
     ]
    },
    {
     "name": "stdout",
     "output_type": "stream",
     "text": [
      "(521640, 9)\n"
     ]
    },
    {
     "name": "stderr",
     "output_type": "stream",
     "text": [
      "Generating PMF data:   5%|▍         | 7/155 [00:15<05:38,  2.29s/it]"
     ]
    },
    {
     "name": "stdout",
     "output_type": "stream",
     "text": [
      "(521640, 9)\n"
     ]
    },
    {
     "name": "stderr",
     "output_type": "stream",
     "text": [
      "Generating PMF data:   5%|▌         | 8/155 [00:17<05:26,  2.22s/it]"
     ]
    },
    {
     "name": "stdout",
     "output_type": "stream",
     "text": [
      "(521640, 9)\n"
     ]
    },
    {
     "name": "stderr",
     "output_type": "stream",
     "text": [
      "Generating PMF data:   6%|▌         | 9/155 [00:19<05:18,  2.18s/it]"
     ]
    },
    {
     "name": "stdout",
     "output_type": "stream",
     "text": [
      "(521640, 9)\n"
     ]
    },
    {
     "name": "stderr",
     "output_type": "stream",
     "text": [
      "Generating PMF data:   6%|▋         | 10/155 [00:22<05:14,  2.17s/it]"
     ]
    },
    {
     "name": "stdout",
     "output_type": "stream",
     "text": [
      "(521640, 9)\n"
     ]
    },
    {
     "name": "stderr",
     "output_type": "stream",
     "text": [
      "Generating PMF data:   7%|▋         | 11/155 [00:24<05:08,  2.14s/it]"
     ]
    },
    {
     "name": "stdout",
     "output_type": "stream",
     "text": [
      "(521640, 9)\n"
     ]
    },
    {
     "name": "stderr",
     "output_type": "stream",
     "text": [
      "Generating PMF data:   8%|▊         | 12/155 [00:26<05:11,  2.18s/it]"
     ]
    },
    {
     "name": "stdout",
     "output_type": "stream",
     "text": [
      "(521640, 9)\n"
     ]
    },
    {
     "name": "stderr",
     "output_type": "stream",
     "text": [
      "Generating PMF data:   8%|▊         | 13/155 [00:28<05:02,  2.13s/it]"
     ]
    },
    {
     "name": "stdout",
     "output_type": "stream",
     "text": [
      "(521640, 9)\n"
     ]
    },
    {
     "name": "stderr",
     "output_type": "stream",
     "text": [
      "Generating PMF data:   9%|▉         | 14/155 [00:30<04:59,  2.12s/it]"
     ]
    },
    {
     "name": "stdout",
     "output_type": "stream",
     "text": [
      "(521640, 9)\n"
     ]
    },
    {
     "name": "stderr",
     "output_type": "stream",
     "text": [
      "Generating PMF data:  10%|▉         | 15/155 [00:32<04:50,  2.08s/it]"
     ]
    },
    {
     "name": "stdout",
     "output_type": "stream",
     "text": [
      "(521640, 9)\n"
     ]
    },
    {
     "name": "stderr",
     "output_type": "stream",
     "text": [
      "Generating PMF data:  10%|█         | 16/155 [00:34<04:52,  2.10s/it]"
     ]
    },
    {
     "name": "stdout",
     "output_type": "stream",
     "text": [
      "(521640, 9)\n"
     ]
    },
    {
     "name": "stderr",
     "output_type": "stream",
     "text": [
      "Generating PMF data:  11%|█         | 17/155 [00:36<04:46,  2.08s/it]"
     ]
    },
    {
     "name": "stdout",
     "output_type": "stream",
     "text": [
      "(521640, 9)\n"
     ]
    },
    {
     "name": "stderr",
     "output_type": "stream",
     "text": [
      "Generating PMF data:  12%|█▏        | 18/155 [00:38<04:45,  2.09s/it]"
     ]
    },
    {
     "name": "stdout",
     "output_type": "stream",
     "text": [
      "(521640, 9)\n"
     ]
    },
    {
     "name": "stderr",
     "output_type": "stream",
     "text": [
      "Generating PMF data:  12%|█▏        | 19/155 [00:40<04:42,  2.08s/it]"
     ]
    },
    {
     "name": "stdout",
     "output_type": "stream",
     "text": [
      "(521640, 9)\n"
     ]
    },
    {
     "name": "stderr",
     "output_type": "stream",
     "text": [
      "Generating PMF data:  13%|█▎        | 20/155 [00:42<04:37,  2.06s/it]"
     ]
    },
    {
     "name": "stdout",
     "output_type": "stream",
     "text": [
      "(521640, 9)\n"
     ]
    },
    {
     "name": "stderr",
     "output_type": "stream",
     "text": [
      "Generating PMF data:  14%|█▎        | 21/155 [00:44<04:37,  2.07s/it]"
     ]
    },
    {
     "name": "stdout",
     "output_type": "stream",
     "text": [
      "(521640, 9)\n"
     ]
    },
    {
     "name": "stderr",
     "output_type": "stream",
     "text": [
      "Generating PMF data:  14%|█▍        | 22/155 [00:46<04:30,  2.03s/it]"
     ]
    },
    {
     "name": "stdout",
     "output_type": "stream",
     "text": [
      "(521640, 9)\n"
     ]
    },
    {
     "name": "stderr",
     "output_type": "stream",
     "text": [
      "Generating PMF data:  15%|█▍        | 23/155 [00:48<04:29,  2.05s/it]"
     ]
    },
    {
     "name": "stdout",
     "output_type": "stream",
     "text": [
      "(521640, 9)\n"
     ]
    },
    {
     "name": "stderr",
     "output_type": "stream",
     "text": [
      "Generating PMF data:  15%|█▌        | 24/155 [00:50<04:25,  2.03s/it]"
     ]
    },
    {
     "name": "stdout",
     "output_type": "stream",
     "text": [
      "(521640, 9)\n"
     ]
    },
    {
     "name": "stderr",
     "output_type": "stream",
     "text": [
      "Generating PMF data:  16%|█▌        | 25/155 [00:52<04:20,  2.00s/it]"
     ]
    },
    {
     "name": "stdout",
     "output_type": "stream",
     "text": [
      "(521640, 9)\n"
     ]
    },
    {
     "name": "stderr",
     "output_type": "stream",
     "text": [
      "Generating PMF data:  17%|█▋        | 26/155 [00:55<04:26,  2.07s/it]"
     ]
    },
    {
     "name": "stdout",
     "output_type": "stream",
     "text": [
      "(521640, 9)\n"
     ]
    },
    {
     "name": "stderr",
     "output_type": "stream",
     "text": [
      "Generating PMF data:  17%|█▋        | 27/155 [00:57<04:20,  2.04s/it]"
     ]
    },
    {
     "name": "stdout",
     "output_type": "stream",
     "text": [
      "(521640, 9)\n"
     ]
    },
    {
     "name": "stderr",
     "output_type": "stream",
     "text": [
      "Generating PMF data:  18%|█▊        | 28/155 [00:59<04:21,  2.06s/it]"
     ]
    },
    {
     "name": "stdout",
     "output_type": "stream",
     "text": [
      "(521640, 9)\n"
     ]
    },
    {
     "name": "stderr",
     "output_type": "stream",
     "text": [
      "Generating PMF data:  19%|█▊        | 29/155 [01:01<04:25,  2.11s/it]"
     ]
    },
    {
     "name": "stdout",
     "output_type": "stream",
     "text": [
      "(521640, 9)\n"
     ]
    },
    {
     "name": "stderr",
     "output_type": "stream",
     "text": [
      "Generating PMF data:  19%|█▉        | 30/155 [01:03<04:19,  2.08s/it]"
     ]
    },
    {
     "name": "stdout",
     "output_type": "stream",
     "text": [
      "(521640, 9)\n"
     ]
    },
    {
     "name": "stderr",
     "output_type": "stream",
     "text": [
      "Generating PMF data:  20%|██        | 31/155 [01:05<04:14,  2.05s/it]"
     ]
    },
    {
     "name": "stdout",
     "output_type": "stream",
     "text": [
      "(521640, 9)\n"
     ]
    },
    {
     "name": "stderr",
     "output_type": "stream",
     "text": [
      "Generating PMF data:  21%|██        | 32/155 [01:07<04:14,  2.07s/it]"
     ]
    },
    {
     "name": "stdout",
     "output_type": "stream",
     "text": [
      "(521640, 9)\n"
     ]
    },
    {
     "name": "stderr",
     "output_type": "stream",
     "text": [
      "Generating PMF data:  21%|██▏       | 33/155 [01:13<06:38,  3.27s/it]"
     ]
    },
    {
     "name": "stdout",
     "output_type": "stream",
     "text": [
      "(521640, 9)\n"
     ]
    },
    {
     "name": "stderr",
     "output_type": "stream",
     "text": [
      "Generating PMF data:  22%|██▏       | 34/155 [01:15<05:53,  2.92s/it]"
     ]
    },
    {
     "name": "stdout",
     "output_type": "stream",
     "text": [
      "(521640, 9)\n"
     ]
    },
    {
     "name": "stderr",
     "output_type": "stream",
     "text": [
      "Generating PMF data:  23%|██▎       | 35/155 [01:17<05:23,  2.69s/it]"
     ]
    },
    {
     "name": "stdout",
     "output_type": "stream",
     "text": [
      "(521640, 9)\n"
     ]
    },
    {
     "name": "stderr",
     "output_type": "stream",
     "text": [
      "Generating PMF data:  23%|██▎       | 36/155 [01:19<04:57,  2.50s/it]"
     ]
    },
    {
     "name": "stdout",
     "output_type": "stream",
     "text": [
      "(521640, 9)\n"
     ]
    },
    {
     "name": "stderr",
     "output_type": "stream",
     "text": [
      "Generating PMF data:  24%|██▍       | 37/155 [01:21<04:40,  2.38s/it]"
     ]
    },
    {
     "name": "stdout",
     "output_type": "stream",
     "text": [
      "(521640, 9)\n"
     ]
    },
    {
     "name": "stderr",
     "output_type": "stream",
     "text": [
      "Generating PMF data:  25%|██▍       | 38/155 [01:23<04:26,  2.27s/it]"
     ]
    },
    {
     "name": "stdout",
     "output_type": "stream",
     "text": [
      "(521640, 9)\n"
     ]
    },
    {
     "name": "stderr",
     "output_type": "stream",
     "text": [
      "Generating PMF data:  25%|██▌       | 39/155 [01:26<04:21,  2.25s/it]"
     ]
    },
    {
     "name": "stdout",
     "output_type": "stream",
     "text": [
      "(521640, 9)\n"
     ]
    },
    {
     "name": "stderr",
     "output_type": "stream",
     "text": [
      "Generating PMF data:  26%|██▌       | 40/155 [01:30<05:13,  2.73s/it]"
     ]
    },
    {
     "name": "stdout",
     "output_type": "stream",
     "text": [
      "(521640, 9)\n"
     ]
    },
    {
     "name": "stderr",
     "output_type": "stream",
     "text": [
      "Generating PMF data:  26%|██▋       | 41/155 [01:38<08:26,  4.44s/it]"
     ]
    },
    {
     "name": "stdout",
     "output_type": "stream",
     "text": [
      "(521640, 9)\n"
     ]
    },
    {
     "name": "stderr",
     "output_type": "stream",
     "text": [
      "Generating PMF data:  27%|██▋       | 42/155 [01:44<09:28,  5.03s/it]"
     ]
    },
    {
     "name": "stdout",
     "output_type": "stream",
     "text": [
      "(521640, 9)\n"
     ]
    },
    {
     "name": "stderr",
     "output_type": "stream",
     "text": [
      "Generating PMF data:  28%|██▊       | 43/155 [01:50<09:26,  5.06s/it]"
     ]
    },
    {
     "name": "stdout",
     "output_type": "stream",
     "text": [
      "(521640, 9)\n"
     ]
    },
    {
     "name": "stderr",
     "output_type": "stream",
     "text": [
      "Generating PMF data:  28%|██▊       | 44/155 [01:55<09:20,  5.05s/it]"
     ]
    },
    {
     "name": "stdout",
     "output_type": "stream",
     "text": [
      "(521640, 9)\n"
     ]
    },
    {
     "name": "stderr",
     "output_type": "stream",
     "text": [
      "Generating PMF data:  29%|██▉       | 45/155 [01:59<08:47,  4.80s/it]"
     ]
    },
    {
     "name": "stdout",
     "output_type": "stream",
     "text": [
      "(521640, 9)\n"
     ]
    },
    {
     "name": "stderr",
     "output_type": "stream",
     "text": [
      "Generating PMF data:  30%|██▉       | 46/155 [02:03<08:14,  4.53s/it]"
     ]
    },
    {
     "name": "stdout",
     "output_type": "stream",
     "text": [
      "(521640, 9)\n"
     ]
    },
    {
     "name": "stderr",
     "output_type": "stream",
     "text": [
      "Generating PMF data:  30%|███       | 47/155 [02:06<07:43,  4.30s/it]"
     ]
    },
    {
     "name": "stdout",
     "output_type": "stream",
     "text": [
      "(521640, 9)\n"
     ]
    },
    {
     "name": "stderr",
     "output_type": "stream",
     "text": [
      "Generating PMF data:  31%|███       | 48/155 [02:10<07:24,  4.15s/it]"
     ]
    },
    {
     "name": "stdout",
     "output_type": "stream",
     "text": [
      "(521640, 9)\n"
     ]
    },
    {
     "name": "stderr",
     "output_type": "stream",
     "text": [
      "Generating PMF data:  32%|███▏      | 49/155 [02:14<06:57,  3.94s/it]"
     ]
    },
    {
     "name": "stdout",
     "output_type": "stream",
     "text": [
      "(521640, 9)\n"
     ]
    },
    {
     "name": "stderr",
     "output_type": "stream",
     "text": [
      "Generating PMF data:  32%|███▏      | 50/155 [02:17<06:44,  3.85s/it]"
     ]
    },
    {
     "name": "stdout",
     "output_type": "stream",
     "text": [
      "(521640, 9)\n"
     ]
    },
    {
     "name": "stderr",
     "output_type": "stream",
     "text": [
      "Generating PMF data:  33%|███▎      | 51/155 [02:21<06:31,  3.76s/it]"
     ]
    },
    {
     "name": "stdout",
     "output_type": "stream",
     "text": [
      "(521640, 9)\n"
     ]
    },
    {
     "name": "stderr",
     "output_type": "stream",
     "text": [
      "Generating PMF data:  34%|███▎      | 52/155 [02:25<06:30,  3.79s/it]"
     ]
    },
    {
     "name": "stdout",
     "output_type": "stream",
     "text": [
      "(521640, 9)\n"
     ]
    },
    {
     "name": "stderr",
     "output_type": "stream",
     "text": [
      "Generating PMF data:  34%|███▍      | 53/155 [02:28<06:22,  3.75s/it]"
     ]
    },
    {
     "name": "stdout",
     "output_type": "stream",
     "text": [
      "(521640, 9)\n"
     ]
    },
    {
     "name": "stderr",
     "output_type": "stream",
     "text": [
      "Generating PMF data:  35%|███▍      | 54/155 [02:32<06:14,  3.71s/it]"
     ]
    },
    {
     "name": "stdout",
     "output_type": "stream",
     "text": [
      "(521640, 9)\n"
     ]
    },
    {
     "name": "stderr",
     "output_type": "stream",
     "text": [
      "Generating PMF data:  35%|███▌      | 55/155 [02:35<06:01,  3.61s/it]"
     ]
    },
    {
     "name": "stdout",
     "output_type": "stream",
     "text": [
      "(521640, 9)\n"
     ]
    },
    {
     "name": "stderr",
     "output_type": "stream",
     "text": [
      "Generating PMF data:  36%|███▌      | 56/155 [02:38<05:35,  3.39s/it]"
     ]
    },
    {
     "name": "stdout",
     "output_type": "stream",
     "text": [
      "(521640, 9)\n"
     ]
    },
    {
     "name": "stderr",
     "output_type": "stream",
     "text": [
      "Generating PMF data:  37%|███▋      | 57/155 [02:40<04:50,  2.96s/it]"
     ]
    },
    {
     "name": "stdout",
     "output_type": "stream",
     "text": [
      "(521640, 9)\n"
     ]
    },
    {
     "name": "stderr",
     "output_type": "stream",
     "text": [
      "Generating PMF data:  37%|███▋      | 58/155 [02:42<04:23,  2.72s/it]"
     ]
    },
    {
     "name": "stdout",
     "output_type": "stream",
     "text": [
      "(521640, 9)\n"
     ]
    },
    {
     "name": "stderr",
     "output_type": "stream",
     "text": [
      "Generating PMF data:  38%|███▊      | 59/155 [02:44<04:01,  2.52s/it]"
     ]
    },
    {
     "name": "stdout",
     "output_type": "stream",
     "text": [
      "(521640, 9)\n"
     ]
    },
    {
     "name": "stderr",
     "output_type": "stream",
     "text": [
      "Generating PMF data:  39%|███▊      | 60/155 [02:46<03:43,  2.36s/it]"
     ]
    },
    {
     "name": "stdout",
     "output_type": "stream",
     "text": [
      "(521640, 9)\n"
     ]
    },
    {
     "name": "stderr",
     "output_type": "stream",
     "text": [
      "Generating PMF data:  39%|███▉      | 61/155 [02:49<03:34,  2.29s/it]"
     ]
    },
    {
     "name": "stdout",
     "output_type": "stream",
     "text": [
      "(521640, 9)\n"
     ]
    },
    {
     "name": "stderr",
     "output_type": "stream",
     "text": [
      "Generating PMF data:  40%|████      | 62/155 [02:51<03:30,  2.26s/it]"
     ]
    },
    {
     "name": "stdout",
     "output_type": "stream",
     "text": [
      "(521640, 9)\n"
     ]
    },
    {
     "name": "stderr",
     "output_type": "stream",
     "text": [
      "Generating PMF data:  41%|████      | 63/155 [02:53<03:19,  2.17s/it]"
     ]
    },
    {
     "name": "stdout",
     "output_type": "stream",
     "text": [
      "(521640, 9)\n"
     ]
    },
    {
     "name": "stderr",
     "output_type": "stream",
     "text": [
      "Generating PMF data:  41%|████▏     | 64/155 [02:55<03:12,  2.12s/it]"
     ]
    },
    {
     "name": "stdout",
     "output_type": "stream",
     "text": [
      "(521640, 9)\n"
     ]
    },
    {
     "name": "stderr",
     "output_type": "stream",
     "text": [
      "Generating PMF data:  42%|████▏     | 65/155 [02:57<03:12,  2.14s/it]"
     ]
    },
    {
     "name": "stdout",
     "output_type": "stream",
     "text": [
      "(521640, 9)\n"
     ]
    },
    {
     "name": "stderr",
     "output_type": "stream",
     "text": [
      "Generating PMF data:  43%|████▎     | 66/155 [02:59<03:11,  2.15s/it]"
     ]
    },
    {
     "name": "stdout",
     "output_type": "stream",
     "text": [
      "(521640, 9)\n"
     ]
    },
    {
     "name": "stderr",
     "output_type": "stream",
     "text": [
      "Generating PMF data:  43%|████▎     | 67/155 [03:01<03:10,  2.17s/it]"
     ]
    },
    {
     "name": "stdout",
     "output_type": "stream",
     "text": [
      "(521640, 9)\n"
     ]
    },
    {
     "name": "stderr",
     "output_type": "stream",
     "text": [
      "Generating PMF data:  44%|████▍     | 68/155 [03:03<03:05,  2.13s/it]"
     ]
    },
    {
     "name": "stdout",
     "output_type": "stream",
     "text": [
      "(521640, 9)\n"
     ]
    },
    {
     "name": "stderr",
     "output_type": "stream",
     "text": [
      "Generating PMF data:  45%|████▍     | 69/155 [03:05<02:59,  2.09s/it]"
     ]
    },
    {
     "name": "stdout",
     "output_type": "stream",
     "text": [
      "(521640, 9)\n"
     ]
    },
    {
     "name": "stderr",
     "output_type": "stream",
     "text": [
      "Generating PMF data:  45%|████▌     | 70/155 [03:08<03:04,  2.17s/it]"
     ]
    },
    {
     "name": "stdout",
     "output_type": "stream",
     "text": [
      "(521640, 9)\n"
     ]
    },
    {
     "name": "stderr",
     "output_type": "stream",
     "text": [
      "Generating PMF data:  46%|████▌     | 71/155 [03:10<02:57,  2.11s/it]"
     ]
    },
    {
     "name": "stdout",
     "output_type": "stream",
     "text": [
      "(521640, 9)\n"
     ]
    },
    {
     "name": "stderr",
     "output_type": "stream",
     "text": [
      "Generating PMF data:  46%|████▋     | 72/155 [03:12<02:52,  2.08s/it]"
     ]
    },
    {
     "name": "stdout",
     "output_type": "stream",
     "text": [
      "(521640, 9)\n"
     ]
    },
    {
     "name": "stderr",
     "output_type": "stream",
     "text": [
      "Generating PMF data:  47%|████▋     | 73/155 [03:14<02:57,  2.17s/it]"
     ]
    },
    {
     "name": "stdout",
     "output_type": "stream",
     "text": [
      "(521640, 9)\n"
     ]
    },
    {
     "name": "stderr",
     "output_type": "stream",
     "text": [
      "Generating PMF data:  48%|████▊     | 74/155 [03:16<02:51,  2.11s/it]"
     ]
    },
    {
     "name": "stdout",
     "output_type": "stream",
     "text": [
      "(521640, 9)\n"
     ]
    },
    {
     "name": "stderr",
     "output_type": "stream",
     "text": [
      "Generating PMF data:  48%|████▊     | 75/155 [03:18<02:45,  2.07s/it]"
     ]
    },
    {
     "name": "stdout",
     "output_type": "stream",
     "text": [
      "(521640, 9)\n"
     ]
    },
    {
     "name": "stderr",
     "output_type": "stream",
     "text": [
      "Generating PMF data:  49%|████▉     | 76/155 [03:20<02:41,  2.04s/it]"
     ]
    },
    {
     "name": "stdout",
     "output_type": "stream",
     "text": [
      "(521640, 9)\n"
     ]
    },
    {
     "name": "stderr",
     "output_type": "stream",
     "text": [
      "Generating PMF data:  50%|████▉     | 77/155 [03:22<02:37,  2.02s/it]"
     ]
    },
    {
     "name": "stdout",
     "output_type": "stream",
     "text": [
      "(521640, 9)\n"
     ]
    },
    {
     "name": "stderr",
     "output_type": "stream",
     "text": [
      "Generating PMF data:  50%|█████     | 78/155 [03:24<02:40,  2.08s/it]"
     ]
    },
    {
     "name": "stdout",
     "output_type": "stream",
     "text": [
      "(521640, 9)\n"
     ]
    },
    {
     "name": "stderr",
     "output_type": "stream",
     "text": [
      "Generating PMF data:  51%|█████     | 79/155 [03:26<02:36,  2.06s/it]"
     ]
    },
    {
     "name": "stdout",
     "output_type": "stream",
     "text": [
      "(521640, 9)\n"
     ]
    },
    {
     "name": "stderr",
     "output_type": "stream",
     "text": [
      "Generating PMF data:  52%|█████▏    | 80/155 [03:28<02:33,  2.04s/it]"
     ]
    },
    {
     "name": "stdout",
     "output_type": "stream",
     "text": [
      "(521640, 9)\n"
     ]
    },
    {
     "name": "stderr",
     "output_type": "stream",
     "text": [
      "Generating PMF data:  52%|█████▏    | 81/155 [03:30<02:30,  2.03s/it]"
     ]
    },
    {
     "name": "stdout",
     "output_type": "stream",
     "text": [
      "(521640, 9)\n"
     ]
    },
    {
     "name": "stderr",
     "output_type": "stream",
     "text": [
      "Generating PMF data:  53%|█████▎    | 82/155 [03:32<02:29,  2.05s/it]"
     ]
    },
    {
     "name": "stdout",
     "output_type": "stream",
     "text": [
      "(521640, 9)\n"
     ]
    },
    {
     "name": "stderr",
     "output_type": "stream",
     "text": [
      "Generating PMF data:  54%|█████▎    | 83/155 [03:35<02:32,  2.12s/it]"
     ]
    },
    {
     "name": "stdout",
     "output_type": "stream",
     "text": [
      "(521640, 9)\n"
     ]
    },
    {
     "name": "stderr",
     "output_type": "stream",
     "text": [
      "Generating PMF data:  54%|█████▍    | 84/155 [03:36<02:27,  2.08s/it]"
     ]
    },
    {
     "name": "stdout",
     "output_type": "stream",
     "text": [
      "(521640, 9)\n"
     ]
    },
    {
     "name": "stderr",
     "output_type": "stream",
     "text": [
      "Generating PMF data:  55%|█████▍    | 85/155 [03:38<02:23,  2.05s/it]"
     ]
    },
    {
     "name": "stdout",
     "output_type": "stream",
     "text": [
      "(521640, 9)\n"
     ]
    },
    {
     "name": "stderr",
     "output_type": "stream",
     "text": [
      "Generating PMF data:  55%|█████▌    | 86/155 [03:40<02:20,  2.03s/it]"
     ]
    },
    {
     "name": "stdout",
     "output_type": "stream",
     "text": [
      "(521640, 9)\n"
     ]
    },
    {
     "name": "stderr",
     "output_type": "stream",
     "text": [
      "Generating PMF data:  56%|█████▌    | 87/155 [03:42<02:16,  2.01s/it]"
     ]
    },
    {
     "name": "stdout",
     "output_type": "stream",
     "text": [
      "(521640, 9)\n"
     ]
    },
    {
     "name": "stderr",
     "output_type": "stream",
     "text": [
      "Generating PMF data:  57%|█████▋    | 88/155 [03:45<02:20,  2.10s/it]"
     ]
    },
    {
     "name": "stdout",
     "output_type": "stream",
     "text": [
      "(521640, 9)\n"
     ]
    },
    {
     "name": "stderr",
     "output_type": "stream",
     "text": [
      "Generating PMF data:  57%|█████▋    | 89/155 [03:47<02:22,  2.16s/it]"
     ]
    },
    {
     "name": "stdout",
     "output_type": "stream",
     "text": [
      "(521640, 9)\n"
     ]
    },
    {
     "name": "stderr",
     "output_type": "stream",
     "text": [
      "Generating PMF data:  58%|█████▊    | 90/155 [03:49<02:16,  2.10s/it]"
     ]
    },
    {
     "name": "stdout",
     "output_type": "stream",
     "text": [
      "(521640, 9)\n"
     ]
    },
    {
     "name": "stderr",
     "output_type": "stream",
     "text": [
      "Generating PMF data:  59%|█████▊    | 91/155 [03:51<02:11,  2.06s/it]"
     ]
    },
    {
     "name": "stdout",
     "output_type": "stream",
     "text": [
      "(521640, 9)\n"
     ]
    },
    {
     "name": "stderr",
     "output_type": "stream",
     "text": [
      "Generating PMF data:  59%|█████▉    | 92/155 [03:53<02:08,  2.04s/it]"
     ]
    },
    {
     "name": "stdout",
     "output_type": "stream",
     "text": [
      "(521640, 9)\n"
     ]
    },
    {
     "name": "stderr",
     "output_type": "stream",
     "text": [
      "Generating PMF data:  60%|██████    | 93/155 [03:55<02:04,  2.02s/it]"
     ]
    },
    {
     "name": "stdout",
     "output_type": "stream",
     "text": [
      "(521640, 9)\n"
     ]
    },
    {
     "name": "stderr",
     "output_type": "stream",
     "text": [
      "Generating PMF data:  61%|██████    | 94/155 [03:57<02:01,  2.00s/it]"
     ]
    },
    {
     "name": "stdout",
     "output_type": "stream",
     "text": [
      "(521640, 9)\n"
     ]
    },
    {
     "name": "stderr",
     "output_type": "stream",
     "text": [
      "Generating PMF data:  61%|██████▏   | 95/155 [03:59<02:10,  2.17s/it]"
     ]
    },
    {
     "name": "stdout",
     "output_type": "stream",
     "text": [
      "(521640, 9)\n"
     ]
    },
    {
     "name": "stderr",
     "output_type": "stream",
     "text": [
      "Generating PMF data:  62%|██████▏   | 96/155 [04:01<02:04,  2.11s/it]"
     ]
    },
    {
     "name": "stdout",
     "output_type": "stream",
     "text": [
      "(521640, 9)\n"
     ]
    },
    {
     "name": "stderr",
     "output_type": "stream",
     "text": [
      "Generating PMF data:  63%|██████▎   | 97/155 [04:03<02:01,  2.09s/it]"
     ]
    },
    {
     "name": "stdout",
     "output_type": "stream",
     "text": [
      "(521640, 9)\n"
     ]
    },
    {
     "name": "stderr",
     "output_type": "stream",
     "text": [
      "Generating PMF data:  63%|██████▎   | 98/155 [04:05<01:57,  2.06s/it]"
     ]
    },
    {
     "name": "stdout",
     "output_type": "stream",
     "text": [
      "(521640, 9)\n"
     ]
    },
    {
     "name": "stderr",
     "output_type": "stream",
     "text": [
      "Generating PMF data:  64%|██████▍   | 99/155 [04:07<01:54,  2.04s/it]"
     ]
    },
    {
     "name": "stdout",
     "output_type": "stream",
     "text": [
      "(521640, 9)\n"
     ]
    },
    {
     "name": "stderr",
     "output_type": "stream",
     "text": [
      "Generating PMF data:  65%|██████▍   | 100/155 [04:09<01:50,  2.02s/it]"
     ]
    },
    {
     "name": "stdout",
     "output_type": "stream",
     "text": [
      "(521640, 9)\n"
     ]
    },
    {
     "name": "stderr",
     "output_type": "stream",
     "text": [
      "Generating PMF data:  65%|██████▌   | 101/155 [04:11<01:50,  2.04s/it]"
     ]
    },
    {
     "name": "stdout",
     "output_type": "stream",
     "text": [
      "(521640, 9)\n"
     ]
    },
    {
     "name": "stderr",
     "output_type": "stream",
     "text": [
      "Generating PMF data:  66%|██████▌   | 102/155 [04:14<01:53,  2.15s/it]"
     ]
    },
    {
     "name": "stdout",
     "output_type": "stream",
     "text": [
      "(521640, 9)\n"
     ]
    },
    {
     "name": "stderr",
     "output_type": "stream",
     "text": [
      "Generating PMF data:  66%|██████▋   | 103/155 [04:16<01:49,  2.10s/it]"
     ]
    },
    {
     "name": "stdout",
     "output_type": "stream",
     "text": [
      "(521640, 9)\n"
     ]
    },
    {
     "name": "stderr",
     "output_type": "stream",
     "text": [
      "Generating PMF data:  67%|██████▋   | 104/155 [04:18<01:44,  2.06s/it]"
     ]
    },
    {
     "name": "stdout",
     "output_type": "stream",
     "text": [
      "(521640, 9)\n"
     ]
    },
    {
     "name": "stderr",
     "output_type": "stream",
     "text": [
      "Generating PMF data:  68%|██████▊   | 105/155 [04:20<01:41,  2.03s/it]"
     ]
    },
    {
     "name": "stdout",
     "output_type": "stream",
     "text": [
      "(521640, 9)\n"
     ]
    },
    {
     "name": "stderr",
     "output_type": "stream",
     "text": [
      "Generating PMF data:  68%|██████▊   | 106/155 [04:22<01:38,  2.01s/it]"
     ]
    },
    {
     "name": "stdout",
     "output_type": "stream",
     "text": [
      "(521640, 9)\n"
     ]
    },
    {
     "name": "stderr",
     "output_type": "stream",
     "text": [
      "Generating PMF data:  69%|██████▉   | 107/155 [04:24<01:35,  1.98s/it]"
     ]
    },
    {
     "name": "stdout",
     "output_type": "stream",
     "text": [
      "(521640, 9)\n"
     ]
    },
    {
     "name": "stderr",
     "output_type": "stream",
     "text": [
      "Generating PMF data:  70%|██████▉   | 108/155 [04:26<01:38,  2.09s/it]"
     ]
    },
    {
     "name": "stdout",
     "output_type": "stream",
     "text": [
      "(521640, 9)\n"
     ]
    },
    {
     "name": "stderr",
     "output_type": "stream",
     "text": [
      "Generating PMF data:  70%|███████   | 109/155 [04:28<01:36,  2.10s/it]"
     ]
    },
    {
     "name": "stdout",
     "output_type": "stream",
     "text": [
      "(521640, 9)\n"
     ]
    },
    {
     "name": "stderr",
     "output_type": "stream",
     "text": [
      "Generating PMF data:  71%|███████   | 110/155 [04:30<01:32,  2.05s/it]"
     ]
    },
    {
     "name": "stdout",
     "output_type": "stream",
     "text": [
      "(521640, 9)\n"
     ]
    },
    {
     "name": "stderr",
     "output_type": "stream",
     "text": [
      "Generating PMF data:  72%|███████▏  | 111/155 [04:32<01:31,  2.08s/it]"
     ]
    },
    {
     "name": "stdout",
     "output_type": "stream",
     "text": [
      "(521640, 9)\n"
     ]
    },
    {
     "name": "stderr",
     "output_type": "stream",
     "text": [
      "Generating PMF data:  72%|███████▏  | 112/155 [04:34<01:28,  2.05s/it]"
     ]
    },
    {
     "name": "stdout",
     "output_type": "stream",
     "text": [
      "(521640, 9)\n"
     ]
    },
    {
     "name": "stderr",
     "output_type": "stream",
     "text": [
      "Generating PMF data:  73%|███████▎  | 113/155 [04:36<01:27,  2.09s/it]"
     ]
    },
    {
     "name": "stdout",
     "output_type": "stream",
     "text": [
      "(521640, 9)\n"
     ]
    },
    {
     "name": "stderr",
     "output_type": "stream",
     "text": [
      "Generating PMF data:  74%|███████▎  | 114/155 [04:38<01:24,  2.05s/it]"
     ]
    },
    {
     "name": "stdout",
     "output_type": "stream",
     "text": [
      "(521640, 9)\n"
     ]
    },
    {
     "name": "stderr",
     "output_type": "stream",
     "text": [
      "Generating PMF data:  74%|███████▍  | 115/155 [04:41<01:24,  2.12s/it]"
     ]
    },
    {
     "name": "stdout",
     "output_type": "stream",
     "text": [
      "(521640, 9)\n"
     ]
    },
    {
     "name": "stderr",
     "output_type": "stream",
     "text": [
      "Generating PMF data:  75%|███████▍  | 116/155 [04:43<01:20,  2.07s/it]"
     ]
    },
    {
     "name": "stdout",
     "output_type": "stream",
     "text": [
      "(521640, 9)\n"
     ]
    },
    {
     "name": "stderr",
     "output_type": "stream",
     "text": [
      "Generating PMF data:  75%|███████▌  | 117/155 [04:45<01:17,  2.03s/it]"
     ]
    },
    {
     "name": "stdout",
     "output_type": "stream",
     "text": [
      "(521640, 9)\n"
     ]
    },
    {
     "name": "stderr",
     "output_type": "stream",
     "text": [
      "Generating PMF data:  76%|███████▌  | 118/155 [04:47<01:17,  2.09s/it]"
     ]
    },
    {
     "name": "stdout",
     "output_type": "stream",
     "text": [
      "(521640, 9)\n"
     ]
    },
    {
     "name": "stderr",
     "output_type": "stream",
     "text": [
      "Generating PMF data:  77%|███████▋  | 119/155 [04:49<01:14,  2.08s/it]"
     ]
    },
    {
     "name": "stdout",
     "output_type": "stream",
     "text": [
      "(521640, 9)\n"
     ]
    },
    {
     "name": "stderr",
     "output_type": "stream",
     "text": [
      "Generating PMF data:  77%|███████▋  | 120/155 [04:51<01:13,  2.10s/it]"
     ]
    },
    {
     "name": "stdout",
     "output_type": "stream",
     "text": [
      "(521640, 9)\n"
     ]
    },
    {
     "name": "stderr",
     "output_type": "stream",
     "text": [
      "Generating PMF data:  78%|███████▊  | 121/155 [04:53<01:10,  2.08s/it]"
     ]
    },
    {
     "name": "stdout",
     "output_type": "stream",
     "text": [
      "(521640, 9)\n"
     ]
    },
    {
     "name": "stderr",
     "output_type": "stream",
     "text": [
      "Generating PMF data:  79%|███████▊  | 122/155 [04:55<01:07,  2.04s/it]"
     ]
    },
    {
     "name": "stdout",
     "output_type": "stream",
     "text": [
      "(521640, 9)\n"
     ]
    },
    {
     "name": "stderr",
     "output_type": "stream",
     "text": [
      "Generating PMF data:  79%|███████▉  | 123/155 [04:57<01:07,  2.12s/it]"
     ]
    },
    {
     "name": "stdout",
     "output_type": "stream",
     "text": [
      "(521640, 9)\n"
     ]
    },
    {
     "name": "stderr",
     "output_type": "stream",
     "text": [
      "Generating PMF data:  80%|████████  | 124/155 [04:59<01:04,  2.07s/it]"
     ]
    },
    {
     "name": "stdout",
     "output_type": "stream",
     "text": [
      "(521640, 9)\n"
     ]
    },
    {
     "name": "stderr",
     "output_type": "stream",
     "text": [
      "Generating PMF data:  81%|████████  | 125/155 [05:01<01:02,  2.07s/it]"
     ]
    },
    {
     "name": "stdout",
     "output_type": "stream",
     "text": [
      "(521640, 9)\n"
     ]
    },
    {
     "name": "stderr",
     "output_type": "stream",
     "text": [
      "Generating PMF data:  81%|████████▏ | 126/155 [05:03<00:59,  2.04s/it]"
     ]
    },
    {
     "name": "stdout",
     "output_type": "stream",
     "text": [
      "(521640, 9)\n"
     ]
    },
    {
     "name": "stderr",
     "output_type": "stream",
     "text": [
      "Generating PMF data:  82%|████████▏ | 127/155 [05:05<00:56,  2.03s/it]"
     ]
    },
    {
     "name": "stdout",
     "output_type": "stream",
     "text": [
      "(521640, 9)\n"
     ]
    },
    {
     "name": "stderr",
     "output_type": "stream",
     "text": [
      "Generating PMF data:  83%|████████▎ | 128/155 [05:07<00:54,  2.00s/it]"
     ]
    },
    {
     "name": "stdout",
     "output_type": "stream",
     "text": [
      "(521640, 9)\n"
     ]
    },
    {
     "name": "stderr",
     "output_type": "stream",
     "text": [
      "Generating PMF data:  83%|████████▎ | 129/155 [05:09<00:53,  2.05s/it]"
     ]
    },
    {
     "name": "stdout",
     "output_type": "stream",
     "text": [
      "(521640, 9)\n"
     ]
    },
    {
     "name": "stderr",
     "output_type": "stream",
     "text": [
      "Generating PMF data:  84%|████████▍ | 130/155 [05:12<00:54,  2.18s/it]"
     ]
    },
    {
     "name": "stdout",
     "output_type": "stream",
     "text": [
      "(521640, 9)\n"
     ]
    },
    {
     "name": "stderr",
     "output_type": "stream",
     "text": [
      "Generating PMF data:  85%|████████▍ | 131/155 [05:14<00:51,  2.15s/it]"
     ]
    },
    {
     "name": "stdout",
     "output_type": "stream",
     "text": [
      "(521640, 9)\n"
     ]
    },
    {
     "name": "stderr",
     "output_type": "stream",
     "text": [
      "Generating PMF data:  85%|████████▌ | 132/155 [05:16<00:47,  2.09s/it]"
     ]
    },
    {
     "name": "stdout",
     "output_type": "stream",
     "text": [
      "(521640, 9)\n"
     ]
    },
    {
     "name": "stderr",
     "output_type": "stream",
     "text": [
      "Generating PMF data:  86%|████████▌ | 133/155 [05:18<00:45,  2.05s/it]"
     ]
    },
    {
     "name": "stdout",
     "output_type": "stream",
     "text": [
      "(521640, 9)\n"
     ]
    },
    {
     "name": "stderr",
     "output_type": "stream",
     "text": [
      "Generating PMF data:  86%|████████▋ | 134/155 [05:20<00:42,  2.03s/it]"
     ]
    },
    {
     "name": "stdout",
     "output_type": "stream",
     "text": [
      "(521640, 9)\n"
     ]
    },
    {
     "name": "stderr",
     "output_type": "stream",
     "text": [
      "Generating PMF data:  87%|████████▋ | 135/155 [05:22<00:40,  2.00s/it]"
     ]
    },
    {
     "name": "stdout",
     "output_type": "stream",
     "text": [
      "(521640, 9)\n"
     ]
    },
    {
     "name": "stderr",
     "output_type": "stream",
     "text": [
      "Generating PMF data:  88%|████████▊ | 136/155 [05:24<00:37,  1.99s/it]"
     ]
    },
    {
     "name": "stdout",
     "output_type": "stream",
     "text": [
      "(521640, 9)\n"
     ]
    },
    {
     "name": "stderr",
     "output_type": "stream",
     "text": [
      "Generating PMF data:  88%|████████▊ | 137/155 [05:26<00:35,  1.99s/it]"
     ]
    },
    {
     "name": "stdout",
     "output_type": "stream",
     "text": [
      "(521640, 9)\n"
     ]
    },
    {
     "name": "stderr",
     "output_type": "stream",
     "text": [
      "Generating PMF data:  89%|████████▉ | 138/155 [05:28<00:33,  1.98s/it]"
     ]
    },
    {
     "name": "stdout",
     "output_type": "stream",
     "text": [
      "(521640, 9)\n"
     ]
    },
    {
     "name": "stderr",
     "output_type": "stream",
     "text": [
      "Generating PMF data:  90%|████████▉ | 139/155 [05:30<00:33,  2.09s/it]"
     ]
    },
    {
     "name": "stdout",
     "output_type": "stream",
     "text": [
      "(521640, 9)\n"
     ]
    },
    {
     "name": "stderr",
     "output_type": "stream",
     "text": [
      "Generating PMF data:  90%|█████████ | 140/155 [05:32<00:30,  2.06s/it]"
     ]
    },
    {
     "name": "stdout",
     "output_type": "stream",
     "text": [
      "(521640, 9)\n"
     ]
    },
    {
     "name": "stderr",
     "output_type": "stream",
     "text": [
      "Generating PMF data:  91%|█████████ | 141/155 [05:34<00:28,  2.04s/it]"
     ]
    },
    {
     "name": "stdout",
     "output_type": "stream",
     "text": [
      "(521640, 9)\n"
     ]
    },
    {
     "name": "stderr",
     "output_type": "stream",
     "text": [
      "Generating PMF data:  92%|█████████▏| 142/155 [05:36<00:27,  2.12s/it]"
     ]
    },
    {
     "name": "stdout",
     "output_type": "stream",
     "text": [
      "(521640, 9)\n"
     ]
    },
    {
     "name": "stderr",
     "output_type": "stream",
     "text": [
      "Generating PMF data:  92%|█████████▏| 143/155 [05:38<00:24,  2.07s/it]"
     ]
    },
    {
     "name": "stdout",
     "output_type": "stream",
     "text": [
      "(521640, 9)\n"
     ]
    },
    {
     "name": "stderr",
     "output_type": "stream",
     "text": [
      "Generating PMF data:  93%|█████████▎| 144/155 [05:40<00:22,  2.03s/it]"
     ]
    },
    {
     "name": "stdout",
     "output_type": "stream",
     "text": [
      "(521640, 9)\n"
     ]
    },
    {
     "name": "stderr",
     "output_type": "stream",
     "text": [
      "Generating PMF data:  94%|█████████▎| 145/155 [05:42<00:20,  2.02s/it]"
     ]
    },
    {
     "name": "stdout",
     "output_type": "stream",
     "text": [
      "(521640, 9)\n"
     ]
    },
    {
     "name": "stderr",
     "output_type": "stream",
     "text": [
      "Generating PMF data:  94%|█████████▍| 146/155 [05:44<00:18,  2.04s/it]"
     ]
    },
    {
     "name": "stdout",
     "output_type": "stream",
     "text": [
      "(521640, 9)\n"
     ]
    },
    {
     "name": "stderr",
     "output_type": "stream",
     "text": [
      "Generating PMF data:  95%|█████████▍| 147/155 [05:47<00:17,  2.17s/it]"
     ]
    },
    {
     "name": "stdout",
     "output_type": "stream",
     "text": [
      "(521640, 9)\n"
     ]
    },
    {
     "name": "stderr",
     "output_type": "stream",
     "text": [
      "Generating PMF data:  95%|█████████▌| 148/155 [05:49<00:14,  2.10s/it]"
     ]
    },
    {
     "name": "stdout",
     "output_type": "stream",
     "text": [
      "(521640, 9)\n"
     ]
    },
    {
     "name": "stderr",
     "output_type": "stream",
     "text": [
      "Generating PMF data:  96%|█████████▌| 149/155 [05:51<00:12,  2.07s/it]"
     ]
    },
    {
     "name": "stdout",
     "output_type": "stream",
     "text": [
      "(521640, 9)\n"
     ]
    },
    {
     "name": "stderr",
     "output_type": "stream",
     "text": [
      "Generating PMF data:  97%|█████████▋| 150/155 [05:53<00:10,  2.05s/it]"
     ]
    },
    {
     "name": "stdout",
     "output_type": "stream",
     "text": [
      "(521640, 9)\n"
     ]
    },
    {
     "name": "stderr",
     "output_type": "stream",
     "text": [
      "Generating PMF data:  97%|█████████▋| 151/155 [05:55<00:08,  2.04s/it]"
     ]
    },
    {
     "name": "stdout",
     "output_type": "stream",
     "text": [
      "(521640, 9)\n"
     ]
    },
    {
     "name": "stderr",
     "output_type": "stream",
     "text": [
      "Generating PMF data:  98%|█████████▊| 152/155 [05:57<00:06,  2.02s/it]"
     ]
    },
    {
     "name": "stdout",
     "output_type": "stream",
     "text": [
      "(521640, 9)\n"
     ]
    },
    {
     "name": "stderr",
     "output_type": "stream",
     "text": [
      "Generating PMF data:  99%|█████████▊| 153/155 [05:59<00:04,  2.02s/it]"
     ]
    },
    {
     "name": "stdout",
     "output_type": "stream",
     "text": [
      "(521640, 9)\n"
     ]
    },
    {
     "name": "stderr",
     "output_type": "stream",
     "text": [
      "Generating PMF data:  99%|█████████▉| 154/155 [06:01<00:02,  2.01s/it]"
     ]
    },
    {
     "name": "stdout",
     "output_type": "stream",
     "text": [
      "(521640, 9)\n"
     ]
    },
    {
     "name": "stderr",
     "output_type": "stream",
     "text": [
      "Generating PMF data: 100%|██████████| 155/155 [06:03<00:00,  2.34s/it]\n"
     ]
    }
   ],
   "source": [
    "awh_ensemble = AWH_3D_Ensemble('../AWH_3D_PORE_ANGLE_LOOPC',\n",
    "                               stride=1)"
   ]
  },
  {
   "cell_type": "code",
   "execution_count": 7,
   "metadata": {},
   "outputs": [
    {
     "data": {
      "text/plain": [
       "AWH_LOG(filename=/nethome/yzhuang/cephfs/nachrs_modulator/AWH_2D/test/AWH_3D_PORE_ANGLE_LOOPC/rep1/awh.log, index=0), covering_times=[39114, 48744, 62964, 77202], equlibrated_histogram_time=39114, out_of_initial_stage_time=77202"
      ]
     },
     "execution_count": 7,
     "metadata": {},
     "output_type": "execute_result"
    }
   ],
   "source": [
    "awh_ensemble.awh_log[0]"
   ]
  },
  {
   "cell_type": "code",
   "execution_count": 8,
   "metadata": {},
   "outputs": [
    {
     "name": "stderr",
     "output_type": "stream",
     "text": [
      "100%|██████████| 155/155 [00:49<00:00,  3.15it/s]\n"
     ]
    },
    {
     "name": "stdout",
     "output_type": "stream",
     "text": [
      "ffmpeg version N-96086-g3530fdc78e Copyright (c) 2000-2019 the FFmpeg developers\n",
      "built with gcc 7 (Ubuntu 7.4.0-1ubuntu1~18.04.1)\n",
      "configuration: --disable-x86asm\n",
      "libavutil      56. 36.101 / 56. 36.101\n",
      "libavcodec     58. 65.100 / 58. 65.100\n",
      "libavformat    58. 35.101 / 58. 35.101\n",
      "libavdevice    58.  9.101 / 58.  9.101\n",
      "libavfilter     7. 69.101 /  7. 69.101\n",
      "libswscale      5.  6.100 /  5.  6.100\n",
      "libswresample   3.  6.100 /  3.  6.100\n",
      "Input #0, image2, from 'pmf_%d.png':\n",
      "Duration: 00:00:31.00, start: 0.000000, bitrate: N/A\n",
      "Stream #0:0: Video: png, rgba(pc), 700x900 [SAR 3937:3937 DAR 7:9], 5 fps, 5 tbr, 5 tbn, 5 tbc\n",
      "Please use -b:a or -b:v, -b is ambiguous\n",
      "Stream mapping:\n",
      "Stream #0:0 -> #0:0 (png (native) -> mpeg4 (native))\n",
      "Press [q] to stop, [?] for help\n",
      "Output #0, mp4, to 'pmf.mp4':\n",
      "Metadata:\n",
      "encoder         : Lavf58.35.101\n",
      "Stream #0:0: Video: mpeg4 (mp4v / 0x7634706D), yuv420p, 700x900 [SAR 1:1 DAR 7:9], q=2-31, 5000 kb/s, 30 fps, 15360 tbn, 30 tbc\n",
      "Metadata:\n",
      "encoder         : Lavc58.65.100 mpeg4\n",
      "Side data:\n",
      "cpb: bitrate max/min/avg: 0/0/5000000 buffer size: 0 vbv_delay: N/A\n",
      "frame=  204 fps=0.0 q=2.0 size=    2048kB time=00:00:06.76 bitrate=2479.4kbits/s dup=170 drop=0 speed=13.2x\n",
      "frame=  408 fps=400 q=2.0 size=    3584kB time=00:00:13.56 bitrate=2164.2kbits/s dup=340 drop=0 speed=13.3x\n",
      "frame=  612 fps=400 q=2.0 size=    4864kB time=00:00:20.36 bitrate=1956.4kbits/s dup=510 drop=0 speed=13.3x\n",
      "frame=  828 fps=406 q=2.0 size=    6400kB time=00:00:27.56 bitrate=1901.9kbits/s dup=690 drop=0 speed=13.5x\n",
      "frame=  930 fps=404 q=2.0 Lsize=    7194kB time=00:00:30.96 bitrate=1903.2kbits/s dup=775 drop=0 speed=13.5x\n",
      "video:7189kB audio:0kB subtitle:0kB other streams:0kB global headers:0kB muxing overhead: 0.067822%\n"
     ]
    }
   ],
   "source": [
    "generate_video=True\n",
    "if generate_video:\n",
    "    levels=np.linspace(0, 80, 20)\n",
    "    awh_ensemble.generate_pmf_video(\n",
    "                            name='pmf',\n",
    "                            stride=1,\n",
    "                            remove_img=True,\n",
    "                            ffmpeg='/nethome/yzhuang/FFmpeg/ffmpeg',\n",
    "                            levels=levels,\n",
    "                            marginalize_cv=2,\n",
    "    )"
   ]
  },
  {
   "cell_type": "code",
   "execution_count": 9,
   "metadata": {},
   "outputs": [
    {
     "name": "stderr",
     "output_type": "stream",
     "text": [
      "100%|██████████| 155/155 [00:45<00:00,  3.43it/s]\n"
     ]
    },
    {
     "name": "stdout",
     "output_type": "stream",
     "text": [
      "ffmpeg version N-96086-g3530fdc78e Copyright (c) 2000-2019 the FFmpeg developers\n",
      "built with gcc 7 (Ubuntu 7.4.0-1ubuntu1~18.04.1)\n",
      "configuration: --disable-x86asm\n",
      "libavutil      56. 36.101 / 56. 36.101\n",
      "libavcodec     58. 65.100 / 58. 65.100\n",
      "libavformat    58. 35.101 / 58. 35.101\n",
      "libavdevice    58.  9.101 / 58.  9.101\n",
      "libavfilter     7. 69.101 /  7. 69.101\n",
      "libswscale      5.  6.100 /  5.  6.100\n",
      "libswresample   3.  6.100 /  3.  6.100\n",
      "Input #0, image2, from 'pmf_dist_ang_%d.png':\n",
      "Duration: 00:00:31.00, start: 0.000000, bitrate: N/A\n",
      "Stream #0:0: Video: png, rgba(pc), 700x900 [SAR 3937:3937 DAR 7:9], 5 fps, 5 tbr, 5 tbn, 5 tbc\n",
      "Please use -b:a or -b:v, -b is ambiguous\n",
      "Stream mapping:\n",
      "Stream #0:0 -> #0:0 (png (native) -> mpeg4 (native))\n",
      "Press [q] to stop, [?] for help\n",
      "Output #0, mp4, to 'pmf_dist_ang.mp4':\n",
      "Metadata:\n",
      "encoder         : Lavf58.35.101\n",
      "Stream #0:0: Video: mpeg4 (mp4v / 0x7634706D), yuv420p, 700x900 [SAR 1:1 DAR 7:9], q=2-31, 5000 kb/s, 30 fps, 15360 tbn, 30 tbc\n",
      "Metadata:\n",
      "encoder         : Lavc58.65.100 mpeg4\n",
      "Side data:\n",
      "cpb: bitrate max/min/avg: 0/0/5000000 buffer size: 0 vbv_delay: N/A\n",
      "frame=  210 fps=0.0 q=2.0 size=    2048kB time=00:00:06.96 bitrate=2408.2kbits/s dup=175 drop=0 speed=13.7x\n",
      "frame=  402 fps=398 q=2.0 size=    3328kB time=00:00:13.36 bitrate=2039.6kbits/s dup=335 drop=0 speed=13.2x\n",
      "frame=  594 fps=392 q=2.0 size=    4352kB time=00:00:19.76 bitrate=1803.6kbits/s dup=495 drop=0 speed=  13x\n",
      "frame=  732 fps=363 q=2.0 size=    5376kB time=00:00:24.36 bitrate=1807.4kbits/s dup=610 drop=0 speed=12.1x\n",
      "frame=  930 fps=374 q=2.0 Lsize=    6662kB time=00:00:30.96 bitrate=1762.5kbits/s dup=775 drop=0 speed=12.5x\n",
      "video:6657kB audio:0kB subtitle:0kB other streams:0kB global headers:0kB muxing overhead: 0.073182%\n"
     ]
    }
   ],
   "source": [
    "generate_video=True\n",
    "if generate_video:\n",
    "    levels=np.linspace(0, 80, 20)\n",
    "    awh_ensemble.generate_pmf_video(\n",
    "                            name='pmf_dist_ang',\n",
    "                            stride=1,\n",
    "                            remove_img=True,\n",
    "                            ffmpeg='/nethome/yzhuang/FFmpeg/ffmpeg',\n",
    "                            levels=levels,\n",
    "                            marginalize_cv=1,\n",
    "    )"
   ]
  },
  {
   "cell_type": "code",
   "execution_count": 10,
   "metadata": {},
   "outputs": [
    {
     "name": "stdout",
     "output_type": "stream",
     "text": [
      "../AWH_3D_PORE_ANGLE_LOOPC\n",
      "t308800\n"
     ]
    },
    {
     "data": {
      "image/png": "[encoded data removed]",
      "text/plain": [
       "<Figure size 700x900 with 2 Axes>"
      ]
     },
     "metadata": {},
     "output_type": "display_data"
    }
   ],
   "source": [
    "kT = 2.494339\n",
    "time = awh_ensemble.awh_results.timeseries[-1]\n",
    "awh_pmf = awh_ensemble.awh_results.pmf[-1]\n",
    "\n",
    "\n",
    "levels=np.linspace(0, 80, 20)\n",
    "fig, ax = plt.subplots(figsize=(7,9))\n",
    "\n",
    "ax, mappable, _ = awh_ensemble.plot_pmf(\n",
    "    awh_pmf,\n",
    "    ax=ax,\n",
    "    levels=levels,\n",
    "    marginalize_cv=2\n",
    ")\n",
    "\n",
    "ax.set_title('{:.0f} ns PMF'.format(eval(time[1:]) / 1000), fontsize=20)\n",
    "cbar = fig.colorbar(mappable)\n",
    "\n",
    "cbar.set_label(f'PMF ({awh_ensemble.unit})')\n",
    "plt.show()"
   ]
  }
 ],
 "metadata": {
  "kernelspec": {
   "display_name": "msm_dev",
   "language": "python",
   "name": "msm_dev"
  },
  "language_info": {
   "codemirror_mode": {
    "name": "ipython",
    "version": 3
   },
   "file_extension": ".py",
   "mimetype": "text/x-python",
   "name": "python",
   "nbconvert_exporter": "python",
   "pygments_lexer": "ipython3",
   "version": "3.10.0"
  }
 },
 "nbformat": 4,
 "nbformat_minor": 4
}
