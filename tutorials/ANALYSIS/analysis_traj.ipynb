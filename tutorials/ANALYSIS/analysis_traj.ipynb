{
 "cells": [
  {
   "cell_type": "code",
   "execution_count": null,
   "metadata": {},
   "outputs": [],
   "source": [
    "import MDAnalysis as mda\n",
    "import numpy as np\n",
    "import matplotlib.pyplot as plt\n",
    "import seaborn as sns\n",
    "import os\n",
    "from fe_gmx import AWH_Ensemble, AWH_2D_Ensemble"
   ]
  },
  {
   "cell_type": "code",
   "execution_count": null,
   "metadata": {},
   "outputs": [],
   "source": [
    "awh_ensemble = AWH_2D_Ensemble('../AWH', regenerate_awh=False)"
   ]
  },
  {
   "cell_type": "code",
   "execution_count": null,
   "metadata": {},
   "outputs": [],
   "source": [
    "awh_ensemble.awh_log[0]"
   ]
  },
  {
   "cell_type": "code",
   "execution_count": null,
   "metadata": {},
   "outputs": [],
   "source": [
    "time = awh_ensemble.awh_results.timeseries[-1]\n",
    "awh_pmf = awh_ensemble.awh_results.pmf[-1]"
   ]
  },
  {
   "cell_type": "code",
   "execution_count": null,
   "metadata": {},
   "outputs": [],
   "source": [
    "awh_cv1 = awh_pmf.T[0][0]\n",
    "awh_cv2 = awh_pmf[0].T[1]\n",
    "awh_fes = awh_pmf[:,:,2].T\n",
    "\n",
    "fig, ax = plt.subplots(figsize=(7,9))\n",
    "mappable = ax.contourf(\n",
    "            awh_cv1,\n",
    "            awh_cv2,\n",
    "            awh_fes,\n",
    "#                vmax=100,\n",
    "            levels=20)\n",
    "plt.colorbar(mappable)\n",
    "\n",
    "ax.set_xlabel('Loop C opening (nm)')\n",
    "ax.set_ylabel('Distance (nm)')\n",
    "ax.set_title(f'AWH PMF at {time} ns')"
   ]
  },
  {
   "cell_type": "code",
   "execution_count": null,
   "metadata": {},
   "outputs": [],
   "source": [
    "import os\n",
    "import dask\n",
    "from dask.distributed import Client, LocalCluster\n",
    "from ENPMDA import MDDataFrame\n",
    "from ENPMDA.preprocessing import TrajectoryEnsemble"
   ]
  },
  {
   "cell_type": "code",
   "execution_count": null,
   "metadata": {},
   "outputs": [],
   "source": [
    "cluster = LocalCluster(n_workers=16,\n",
    "                       scheduler_port=8789,\n",
    "                       memory_limit='4GB')"
   ]
  },
  {
   "cell_type": "code",
   "execution_count": null,
   "metadata": {},
   "outputs": [],
   "source": [
    "client = Client(cluster)"
   ]
  },
  {
   "cell_type": "code",
   "execution_count": null,
   "metadata": {},
   "outputs": [],
   "source": [
    "client"
   ]
  },
  {
   "cell_type": "code",
   "execution_count": null,
   "metadata": {},
   "outputs": [],
   "source": [
    "trajectory_list = []\n",
    "topology_list = []\n",
    "bonded_topology_list = []"
   ]
  },
  {
   "cell_type": "code",
   "execution_count": null,
   "metadata": {},
   "outputs": [],
   "source": [
    "default_raw_load_location = os.getcwd()\n",
    "\n",
    "for folder in awh_ensemble.rep_folder:\n",
    "    load_location = f'{default_raw_load_location}/{folder}'\n",
    "\n",
    "    if not os.path.exists(load_location + '/../../start.pdb'):\n",
    "        raise FileExistsError(load_location + '/../../start.pdb')\n",
    "    trajectory_list.append(load_location +  \"/awh.xtc\")\n",
    "    topology_list.append(load_location + '/../../start.pdb')\n",
    "    bonded_topology_list.append(load_location + \"/awh.tpr\")"
   ]
  },
  {
   "cell_type": "code",
   "execution_count": null,
   "metadata": {},
   "outputs": [],
   "source": [
    "trajectory_ensemble = TrajectoryEnsemble(ensemble_name='loopc_epj_ensemble',\n",
    "                                         trajectory_list=trajectory_list,\n",
    "                                         topology_list=topology_list,\n",
    "                                         bonded_topology_list=bonded_topology_list,\n",
    "                                         skip=1,\n",
    "                                         updating=False,\n",
    "                                         only_raw=False,\n",
    "                                         protein_selection='protein or resname EPJ'\n",
    "                                         )\n",
    "trajectory_ensemble.load_ensemble()"
   ]
  },
  {
   "cell_type": "code",
   "execution_count": null,
   "metadata": {},
   "outputs": [],
   "source": [
    "from ENPMDA.analysis.base import DaskChunkMdanalysis"
   ]
  },
  {
   "cell_type": "code",
   "execution_count": null,
   "metadata": {},
   "outputs": [],
   "source": [
    "ensemble_name = 'epj_awh_2d'\n",
    "md_dataframe = MDDataFrame(dataframe_name=ensemble_name)\n",
    "md_dataframe.add_traj_ensemble(trajectory_ensemble,\n",
    "                            npartitions=30,\n",
    "                            stride=1)"
   ]
  },
  {
   "cell_type": "code",
   "execution_count": null,
   "metadata": {},
   "outputs": [],
   "source": [
    "print(f\"Number of frames in the dataframe is {len(md_dataframe.dataframe)}\")\n",
    "print(f\"dt in the dataframe is {md_dataframe.dataframe.traj_time.diff()[1] /1000} ns\")\n",
    "print(f\"Number of systems in the dataframe is {len(md_dataframe.dataframe.system.unique())}\")\n",
    "print(f\"Existing features are {md_dataframe.dataframe.columns}\")"
   ]
  },
  {
   "cell_type": "code",
   "execution_count": null,
   "metadata": {},
   "outputs": [],
   "source": [
    "u = mda.Universe('start.pdb')\n",
    "\n",
    "ag_lig_1 = u.select_atoms('resname EPJ').split('residue')[0]\n",
    "\n",
    "prot_binding_site = u.select_atoms('name CA and byres (protein and around 4 group ag_lig_1)', ag_lig_1=ag_lig_1)\n",
    "\n",
    "#sort prot_resids\n",
    "chain_resids = prot_binding_site.segids[np.argsort(prot_binding_site.resids)]\n",
    "prot_resids = np.sort(prot_binding_site.resids)\n",
    "\n",
    "prot_resids = prot_resids[np.argsort(chain_resids)]\n",
    "chain_resids = np.sort(chain_resids)\n",
    "\n",
    "print(prot_resids)\n",
    "print(chain_resids)\n",
    "\n",
    "next_subunit_dict = {'A': 'C',\n",
    "                     'B': 'D',\n",
    "                     'C': 'E',\n",
    "                     'D': 'F',\n",
    "                     'E': 'G',\n",
    "                     'F': 'H',\n",
    "                     'G': 'I',\n",
    "                     'H': 'J',\n",
    "                     'I': 'A',\n",
    "                     'J': 'B'}\n",
    "\n",
    "prot_selections = []\n",
    "\n",
    "for i in range(5):\n",
    "    # only makes senses for homomers\n",
    "    selection = 'protein and ('\n",
    "    for j in range(prot_resids.shape[0]):\n",
    "        # iterate subunit\n",
    "        selection += f'(resid {prot_resids[j]} and segid {chain_resids[j]}) or '\n",
    "        chain_resids[j] = next_subunit_dict[chain_resids[j]]\n",
    "    selection = selection[:-4] + ')'\n",
    "    prot_selections.append(selection)"
   ]
  },
  {
   "cell_type": "code",
   "execution_count": null,
   "metadata": {},
   "outputs": [],
   "source": [
    "from MDAnalysis.analysis.distances import distance_array\n",
    "\n",
    "class get_loopc_dynamics(DaskChunkMdanalysis):\n",
    "    name = 'loopC'\n",
    "    universe_file = 'protein'\n",
    "\n",
    "    def set_feature_info(self, universe):\n",
    "        return ['chn_{}'.format(i) for i in range(5)]\n",
    "\n",
    "    def run_analysis(self, universe, start, stop, step):\n",
    "        binding_sites = []\n",
    "        ch_1_loopc = universe.select_atoms('segid A and resid 193-206 and name CA')\n",
    "        ch_2_loopc = universe.select_atoms('segid C and resid 185-198 and name CA')\n",
    "        ch_3_loopc = universe.select_atoms('segid E and resid 185-198 and name CA')\n",
    "        ch_4_loopc = universe.select_atoms('segid G and resid 193-206 and name CA')\n",
    "        ch_5_loopc = universe.select_atoms('segid I and resid 185-198 and name CA')\n",
    "\n",
    "        for selection in prot_selections:\n",
    "            binding_sites.append(universe.select_atoms(selection))\n",
    "\n",
    "        loopC_sites = [ch_1_loopc, ch_2_loopc, ch_3_loopc, ch_4_loopc, ch_5_loopc]\n",
    "        result = []\n",
    "        for ts in universe.trajectory[start:stop:step]:\n",
    "            result.append(np.asarray([distance_array(loopc.center_of_mass(),\n",
    "                                                     bs.center_of_mass())[0]\n",
    "                                            for loopc, bs in zip(loopC_sites, binding_sites)]))\n",
    "        return result"
   ]
  },
  {
   "cell_type": "code",
   "execution_count": null,
   "metadata": {},
   "outputs": [],
   "source": [
    "md_dataframe.add_analysis(get_loopc_dynamics, overwrite=True)"
   ]
  },
  {
   "cell_type": "code",
   "execution_count": null,
   "metadata": {},
   "outputs": [],
   "source": [
    "md_dataframe.sort_analysis_result()"
   ]
  },
  {
   "cell_type": "code",
   "execution_count": null,
   "metadata": {},
   "outputs": [],
   "source": [
    "md_dataframe.save(ensemble_name)"
   ]
  },
  {
   "attachments": {},
   "cell_type": "markdown",
   "metadata": {},
   "source": [
    "## Retrieve the data"
   ]
  },
  {
   "cell_type": "code",
   "execution_count": null,
   "metadata": {},
   "outputs": [],
   "source": [
    "feature_dataframe = md_dataframe.get_feature([\n",
    "                        'loopC',\n",
    "                        ])"
   ]
  },
  {
   "cell_type": "code",
   "execution_count": null,
   "metadata": {},
   "outputs": [],
   "source": [
    "feature_dataframe"
   ]
  },
  {
   "cell_type": "code",
   "execution_count": null,
   "metadata": {},
   "outputs": [],
   "source": [
    "sns.histplot(data=feature_dataframe,\n",
    "             x='loopC_chn_0',\n",
    "             hue='system', bins=100, stat='probability')"
   ]
  },
  {
   "cell_type": "code",
   "execution_count": null,
   "metadata": {},
   "outputs": [],
   "source": [
    "sns.histplot(data=feature_dataframe,\n",
    "             x='loopC_chn_3',\n",
    "             hue='system', bins=100, stat='probability')"
   ]
  }
 ],
 "metadata": {
  "kernelspec": {
   "display_name": "msm_dev",
   "language": "python",
   "name": "msm_dev"
  },
  "language_info": {
   "codemirror_mode": {
    "name": "ipython",
    "version": 3
   },
   "file_extension": ".py",
   "mimetype": "text/x-python",
   "name": "python",
   "nbconvert_exporter": "python",
   "pygments_lexer": "ipython3",
   "version": "3.10.0"
  },
  "orig_nbformat": 4
 },
 "nbformat": 4,
 "nbformat_minor": 2
}
