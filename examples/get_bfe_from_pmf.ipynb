{
 "cells": [
  {
   "cell_type": "code",
   "execution_count": null,
   "metadata": {},
   "outputs": [],
   "source": [
    "import numpy as np\n",
    "from scipy.integrate import simpson\n",
    "\n",
    "# Define the PMF values along the reaction coordinate\n",
    "reaction_coordinate = awh_r\n",
    "pmf_values = awh_fes\n",
    "\n",
    "# Define the bound state region\n",
    "bound_state_cutoff = 40  # Example cutoff value for bound state\n",
    "\n",
    "# Identify the bound state region\n",
    "bound_indices = np.where(reaction_coordinate <= bound_state_cutoff)[0]\n",
    "\n",
    "# Integrate the PMF over the bound state region\n",
    "binding_free_energy = simpson(pmf_values[bound_indices], reaction_coordinate[bound_indices])\n",
    "\n",
    "unbound_indices = np.where(reaction_coordinate > bound_state_cutoff)[0]\n",
    "unbinding_free_energy = simpson(pmf_values[unbound_indices], reaction_coordinate[unbound_indices])\n",
    "\n",
    "print(\"Unbinding Free Energy:\", unbinding_free_energy)\n",
    "print(\"Binding Free Energy:\", binding_free_energy)\n",
    "print(\"delta G (kJ/mol):\", binding_free_energy - unbinding_free_energy)"
   ]
  }
 ],
 "metadata": {
  "language_info": {
   "name": "python"
  },
  "orig_nbformat": 4
 },
 "nbformat": 4,
 "nbformat_minor": 2
}
