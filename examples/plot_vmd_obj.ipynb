{
 "cells": [
  {
   "cell_type": "code",
   "execution_count": 3,
   "metadata": {},
   "outputs": [],
   "source": [
    "from fe_gmx.utils.vmd import *\n",
    "import MDAnalysis as mda"
   ]
  },
  {
   "cell_type": "code",
   "execution_count": 4,
   "metadata": {},
   "outputs": [
    {
     "name": "stderr",
     "output_type": "stream",
     "text": [
      "/nethome/yzhuang/mdanalysis/package/MDAnalysis/topology/PDBParser.py:348: UserWarning: Unknown element  found for some atoms. These have been given an empty element record. If needed they can be guessed using MDAnalysis.topology.guessers.\n",
      "  warnings.warn(wmsg)\n",
      "/nethome/yzhuang/mdanalysis/package/MDAnalysis/topology/guessers.py:146: UserWarning: Failed to guess the mass for the following atom types: \n",
      "  warnings.warn(\"Failed to guess the mass for the following atom types: {}\".format(atom_type))\n"
     ]
    }
   ],
   "source": [
    "u = mda.Universe('data/system.pdb')"
   ]
  },
  {
   "cell_type": "code",
   "execution_count": 5,
   "metadata": {},
   "outputs": [
    {
     "name": "stdout",
     "output_type": "stream",
     "text": [
      "draw triangle {54.00 54.0 66.80} {-4.72 66.33 66.80} {47.58 113.65 66.80}\n",
      "draw triangle {54.00 54.0 46.80} {-4.72 66.33 46.80} {47.58 113.65 46.80}\n"
     ]
    }
   ],
   "source": [
    "# plotting two triangles (bound of ligand movement) in VMD\n",
    "\n",
    "prot_com = u.select_atoms('protein').center_of_mass()\n",
    "epj_com = u.select_atoms('resname EPJ').split('residue')[0].center_of_mass()\n",
    "\n",
    "prot_xy = prot_com[[0, 1]]\n",
    "epj_xy = epj_com[[0, 1]]\n",
    "\n",
    "epj_xy_bound = get_coordiante_vector(prot_xy, epj_xy, 60)\n",
    "triangle_half_1_xy = get_coordinate_triangle(prot_xy, epj_xy_bound, 36)\n",
    "triangle_half_2_xy = get_coordinate_triangle(prot_xy, epj_xy_bound, -36)\n",
    "\n",
    "prot_xy_z = np.array([prot_xy[0], prot_xy[1], epj_com[2] + 10])\n",
    "epj_xy_z = np.array([epj_xy_bound[0], epj_xy_bound[1], epj_com[2]])\n",
    "\n",
    "triangle_half_1_xy_z = np.array([triangle_half_1_xy[0], triangle_half_1_xy[1], epj_com[2] + 10])\n",
    "triangle_half_2_xy_z = np.array([triangle_half_2_xy[0], triangle_half_2_xy[1], epj_com[2] + 10])\n",
    "\n",
    "vmd_triangle_1 = VMD_triangle(prot_xy_z, triangle_half_1_xy_z, triangle_half_2_xy_z)\n",
    "\n",
    "prot_xy_z = np.array([prot_xy[0], prot_xy[1], epj_com[2] - 10])\n",
    "triangle_2_half_1_xy_z = np.array([triangle_half_1_xy[0], triangle_half_1_xy[1], epj_com[2] - 10])\n",
    "triangle_2_half_2_xy_z = np.array([triangle_half_2_xy[0], triangle_half_2_xy[1], epj_com[2] - 10])\n",
    "\n",
    "vmd_triangle_2 = VMD_triangle(prot_xy_z, triangle_2_half_1_xy_z, triangle_2_half_2_xy_z)\n",
    "print(vmd_triangle_1.vmd_object)\n",
    "print(vmd_triangle_2.vmd_object)\n",
    "\n",
    "VMD_object.write([vmd_triangle_1, vmd_triangle_2], 'test.vmd')"
   ]
  }
 ],
 "metadata": {
  "kernelspec": {
   "display_name": "msm",
   "language": "python",
   "name": "python3"
  },
  "language_info": {
   "codemirror_mode": {
    "name": "ipython",
    "version": 3
   },
   "file_extension": ".py",
   "mimetype": "text/x-python",
   "name": "python",
   "nbconvert_exporter": "python",
   "pygments_lexer": "ipython3",
   "version": "3.10.0"
  },
  "orig_nbformat": 4
 },
 "nbformat": 4,
 "nbformat_minor": 2
}
